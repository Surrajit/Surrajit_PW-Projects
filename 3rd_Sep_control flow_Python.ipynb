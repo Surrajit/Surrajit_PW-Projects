{
 "cells": [
  {
   "cell_type": "code",
   "execution_count": null,
   "id": "42b18c51-837c-463c-bd2d-f23336d1fb6c",
   "metadata": {},
   "outputs": [],
   "source": [
    "#Basic If-Else Statements:"
   ]
  },
  {
   "cell_type": "code",
   "execution_count": null,
   "id": "c1da7aa0-574a-402d-826a-5cced7431515",
   "metadata": {},
   "outputs": [],
   "source": [
    "#1. Write a Python program to check if a given number is positive or negative."
   ]
  },
  {
   "cell_type": "code",
   "execution_count": 5,
   "id": "05b23aa2-0198-43fa-9879-39647a71c25f",
   "metadata": {},
   "outputs": [
    {
     "name": "stdin",
     "output_type": "stream",
     "text": [
      "enter the number 0\n"
     ]
    },
    {
     "name": "stdout",
     "output_type": "stream",
     "text": [
      "the number is positive number\n"
     ]
    }
   ],
   "source": [
    "number = int(input(\"enter the number\"))\n",
    "if number >= 0:\n",
    "    print(\"the number is positive number\")\n",
    "else:\n",
    "    print(\"the number is negative number\")"
   ]
  },
  {
   "cell_type": "code",
   "execution_count": null,
   "id": "6212be09-bb3c-45ae-89a6-b4afda8458f6",
   "metadata": {},
   "outputs": [],
   "source": [
    "#2. Create a program that determines if a person is eligible to vote based on their age."
   ]
  },
  {
   "cell_type": "code",
   "execution_count": 8,
   "id": "ca7ca22f-9637-4e6d-8888-fa726ee5dc3a",
   "metadata": {},
   "outputs": [
    {
     "name": "stdin",
     "output_type": "stream",
     "text": [
      "Enter your age:  3\n"
     ]
    },
    {
     "name": "stdout",
     "output_type": "stream",
     "text": [
      "not eligible to vote\n"
     ]
    }
   ],
   "source": [
    "def eligigle_to_vote(age):\n",
    "    if age >= 18:\n",
    "        print(\"eligible to vote\")\n",
    "    else:\n",
    "        print(\"not eligible to vote\")\n",
    "user_age = int(input(\"Enter your age: \"))  \n",
    "eligigle_to_vote(user_age)"
   ]
  },
  {
   "cell_type": "code",
   "execution_count": null,
   "id": "5db8cb8f-7c82-42f6-b1ac-7548c5457e36",
   "metadata": {},
   "outputs": [],
   "source": [
    "#3. Develop a program to find the maximum of two numbers using if-else statements."
   ]
  },
  {
   "cell_type": "code",
   "execution_count": 4,
   "id": "f6d4e183-356b-471a-8296-f2fc760d3054",
   "metadata": {},
   "outputs": [
    {
     "name": "stdout",
     "output_type": "stream",
     "text": [
      "40\n"
     ]
    }
   ],
   "source": [
    "def maximum_of_two_number(number1, number2):\n",
    "    if number1 > number2:\n",
    "        return number1\n",
    "    else:\n",
    "        return number2\n",
    "number1 = 30\n",
    "number2 = 40\n",
    "max_number = maximum_of_two_number(number1, number2)\n",
    "print(max_number)"
   ]
  },
  {
   "cell_type": "code",
   "execution_count": null,
   "id": "8a6905dc-505b-4997-8f6f-9bc728b89875",
   "metadata": {},
   "outputs": [],
   "source": [
    "#4. Write a Python script to classify a given year as a leap year or not."
   ]
  },
  {
   "cell_type": "code",
   "execution_count": 1,
   "id": "abcba700-8894-4a90-ab22-185798d2429d",
   "metadata": {},
   "outputs": [
    {
     "name": "stdin",
     "output_type": "stream",
     "text": [
      "enter the year 2024\n"
     ]
    },
    {
     "name": "stdout",
     "output_type": "stream",
     "text": [
      "The Year is a leap Year\n"
     ]
    }
   ],
   "source": [
    "def leap_year(year):\n",
    "    if year % 400 == 0:\n",
    "        return True\n",
    "    elif year % 100 ==0:\n",
    "        return False\n",
    "    elif year % 4 == 0:\n",
    "        return True\n",
    "    else: \n",
    "        return False\n",
    "year = int(input(\"enter the year\"))\n",
    "if leap_year(year):\n",
    "    print(\"The Year is a leap Year\")\n",
    "else:\n",
    "    print(\"The Year is not a leap year\")\n"
   ]
  },
  {
   "cell_type": "code",
   "execution_count": null,
   "id": "2a8efef4-9619-4d33-8220-d7160bac39b5",
   "metadata": {},
   "outputs": [],
   "source": [
    "#5. Create a program that checks whether a character is a vowel or a consonant."
   ]
  },
  {
   "cell_type": "code",
   "execution_count": 6,
   "id": "31986caf-aaf0-4abe-9e83-c0f5879b3cd0",
   "metadata": {},
   "outputs": [
    {
     "name": "stdin",
     "output_type": "stream",
     "text": [
      "enter a character o\n"
     ]
    },
    {
     "name": "stdout",
     "output_type": "stream",
     "text": [
      "vowel\n"
     ]
    }
   ],
   "source": [
    "def character_check(char):\n",
    "    char = char.lower()\n",
    "    vowels = \"aeiou\"\n",
    "    if char in vowels:\n",
    "        return \"vowel\"\n",
    "    else:\n",
    "        return \"consonant\"\n",
    "character = input(\"enter a character\")\n",
    "vowel_check = character_check(character)\n",
    "print(vowel_check)"
   ]
  },
  {
   "cell_type": "code",
   "execution_count": null,
   "id": "fd655a6a-919d-4d39-894c-3580cdb6cf03",
   "metadata": {},
   "outputs": [],
   "source": [
    "#6. Implement a program to determine whether a given number is even or odd."
   ]
  },
  {
   "cell_type": "code",
   "execution_count": 4,
   "id": "e0e63517-6e1f-422b-824e-7f810e1cf00c",
   "metadata": {},
   "outputs": [
    {
     "name": "stdin",
     "output_type": "stream",
     "text": [
      "enter the number 22\n"
     ]
    },
    {
     "name": "stdout",
     "output_type": "stream",
     "text": [
      "Even number\n"
     ]
    }
   ],
   "source": [
    "def given_number(number):\n",
    "    if number % 2 == 0:\n",
    "        return \"Even number\"\n",
    "    else:\n",
    "        return \"Odd Number\"\n",
    "number= int(input(\"enter the number\"))\n",
    "result = given_number(number)\n",
    "print(result)"
   ]
  },
  {
   "cell_type": "code",
   "execution_count": null,
   "id": "a52d7c27-317f-43d9-a3e7-4f0515e333e1",
   "metadata": {},
   "outputs": [],
   "source": [
    "#7. Write a Python function to calculate the absolute value of a number without using the `abs()` function."
   ]
  },
  {
   "cell_type": "code",
   "execution_count": 8,
   "id": "09e6b816-e2b4-42a3-bdb4-bdf8ec68e1d2",
   "metadata": {},
   "outputs": [
    {
     "name": "stdout",
     "output_type": "stream",
     "text": [
      "[1, 2, 3, 4, 5, 6, 8]\n"
     ]
    }
   ],
   "source": [
    "def value_of_number(number):\n",
    "    if number >= 0:\n",
    "        return number\n",
    "    else:\n",
    "        return -number\n",
    "number =[-1,2,3,4,5,6,-8]\n",
    "result = [value_of_number(num) for num in number]\n",
    "print(result)"
   ]
  },
  {
   "cell_type": "code",
   "execution_count": null,
   "id": "45ed6859-1252-46c9-8e0e-1fb02044a1fc",
   "metadata": {},
   "outputs": [],
   "source": [
    "#8. Develop a program that determines the largest of three given numbers using if-else statements."
   ]
  },
  {
   "cell_type": "code",
   "execution_count": 11,
   "id": "e4eeb82b-db39-4e73-b2d3-a029ccba9839",
   "metadata": {},
   "outputs": [
    {
     "name": "stdout",
     "output_type": "stream",
     "text": [
      "num2 largest\n"
     ]
    }
   ],
   "source": [
    "def largest_of_number(num1,num2,num3):\n",
    "    if  num1 > num2 and num1 > num3:\n",
    "        return \"num1 largest\"\n",
    "    elif num2 > num1 and num2 > num3:\n",
    "        return \"num2 largest\"\n",
    "    else:\n",
    "        return \"num3 largest\"\n",
    "num1 = 12\n",
    "num2 = 40\n",
    "num3 = 20\n",
    "largest_number = largest_of_number(num1,num2,num3)\n",
    "print(largest_number)"
   ]
  },
  {
   "cell_type": "code",
   "execution_count": null,
   "id": "1e81f421-4ae4-489c-a403-12a596f48c91",
   "metadata": {},
   "outputs": [],
   "source": [
    "#9. Create a program that checks if a given string is a palindrome."
   ]
  },
  {
   "cell_type": "code",
   "execution_count": 3,
   "id": "17163104-685e-4415-8118-f19066274362",
   "metadata": {},
   "outputs": [
    {
     "name": "stdin",
     "output_type": "stream",
     "text": [
      "enter the string aca\n"
     ]
    },
    {
     "name": "stdout",
     "output_type": "stream",
     "text": [
      "The string is a palindrome.\n"
     ]
    }
   ],
   "source": [
    "def check_palindrome(string1):\n",
    "    cleaned_string = \"\".join(string1.lower().split())\n",
    "    return cleaned_string == cleaned_string[::-1]\n",
    "string_input = input(\"enter the string\")\n",
    "if check_palindrome(string_input):\n",
    "        print(\"The string is a palindrome.\")\n",
    "else:\n",
    "    print(\"The string is not a palindrome.\")"
   ]
  },
  {
   "cell_type": "code",
   "execution_count": null,
   "id": "4b9a4b5d-d9b5-4acc-97f9-2fb52efa97b8",
   "metadata": {},
   "outputs": [],
   "source": [
    "#10. Write a Python program to calculate the grade based on a student's score."
   ]
  },
  {
   "cell_type": "code",
   "execution_count": 8,
   "id": "41488591-ddaf-4169-bbed-302ec2471683",
   "metadata": {},
   "outputs": [
    {
     "name": "stdin",
     "output_type": "stream",
     "text": [
      "enter the number 99\n"
     ]
    },
    {
     "name": "stdout",
     "output_type": "stream",
     "text": [
      "A with distinction\n"
     ]
    }
   ],
   "source": [
    "def student_grade(score):\n",
    "    if 90 <= score <= 100:\n",
    "        return \"A with distinction\"\n",
    "    elif 80 <= score <= 90:\n",
    "        return A\n",
    "    elif 70 <= score <= 80:\n",
    "        return B\n",
    "    elif 60 <= score <= 70:\n",
    "        return c\n",
    "    elif 40 <= score <= 60:\n",
    "        return D\n",
    "    else:\n",
    "        return \"Fail, reapear the exam\"\n",
    "score = int(input(\"enter the number\"))\n",
    "result = student_grade(score)\n",
    "print (result)"
   ]
  },
  {
   "cell_type": "code",
   "execution_count": null,
   "id": "5ee7bd59-f92f-45dd-9ccf-3d1e6259adb5",
   "metadata": {},
   "outputs": [],
   "source": [
    "#Nested If-Else Statements:"
   ]
  },
  {
   "cell_type": "code",
   "execution_count": null,
   "id": "08c91b34-e008-469a-a5fc-7e151a397db0",
   "metadata": {},
   "outputs": [],
   "source": [
    "#11. Write a program to find the largest among three numbers using nested if-else statements."
   ]
  },
  {
   "cell_type": "code",
   "execution_count": 10,
   "id": "701c03a3-a343-4a69-9dca-c0646dffd1ea",
   "metadata": {},
   "outputs": [
    {
     "name": "stdout",
     "output_type": "stream",
     "text": [
      "num1 largest\n"
     ]
    }
   ],
   "source": [
    "def largest_of_number(num1,num2,num3):\n",
    "    if  num1 > num2 and num1 > num3:\n",
    "        return \"num1 largest\"\n",
    "    elif num2 > num1 and num2 > num3:\n",
    "        return \"num2 largest\"\n",
    "    else:\n",
    "        return \"num3 largest\"\n",
    "num1 = 100\n",
    "num2 = 59\n",
    "num3 = 99\n",
    "largest_number = largest_of_number(num1,num2,num3)\n",
    "print(largest_number)"
   ]
  },
  {
   "cell_type": "code",
   "execution_count": null,
   "id": "b385cf38-22f6-49cc-ae7a-c2f75675e31c",
   "metadata": {},
   "outputs": [],
   "source": [
    "#12. Implement a program to determine if a triangle is equilateral, isosceles, or scalene."
   ]
  },
  {
   "cell_type": "code",
   "execution_count": 3,
   "id": "d2a9078b-4b2d-4423-ae4e-037466b2974f",
   "metadata": {},
   "outputs": [
    {
     "name": "stdin",
     "output_type": "stream",
     "text": [
      "enter the length of First Side 2\n",
      "enter the length of Second Side 2\n",
      "enter the length of Third Side 22\n"
     ]
    },
    {
     "name": "stdout",
     "output_type": "stream",
     "text": [
      "Isosceles Triangle\n"
     ]
    }
   ],
   "source": [
    "def determine_trinagle(side1,side2,side3):\n",
    "    if side1 == side2 == side3:\n",
    "        return \"Equilateral Triangle\"\n",
    "    elif side1 == side2 or side2 ==side3 or side1==side3:\n",
    "        return \"Isosceles Triangle\"\n",
    "    else: \n",
    "        return \"SCalene Triangle\"\n",
    "side1 = int(input(\"enter the length of First Side\"))\n",
    "side2 = int(input(\"enter the length of Second Side\"))\n",
    "side3 = int(input(\"enter the length of Third Side\"))\n",
    "result = determine_trinagle(side1,side2,side3)\n",
    "print(result)"
   ]
  },
  {
   "cell_type": "code",
   "execution_count": null,
   "id": "780dd174-6a12-466d-ad87-99fef5853662",
   "metadata": {},
   "outputs": [],
   "source": [
    "#13. Develop a program that checks if a year is a leap year and also if it is a century year."
   ]
  },
  {
   "cell_type": "code",
   "execution_count": 1,
   "id": "7e777417-a883-415a-9381-6613184867ca",
   "metadata": {},
   "outputs": [
    {
     "name": "stdin",
     "output_type": "stream",
     "text": [
      "enter the year 2100\n"
     ]
    },
    {
     "name": "stdout",
     "output_type": "stream",
     "text": [
      "The year is a Century Year\n"
     ]
    }
   ],
   "source": [
    "def leap_year(year):\n",
    "    if year % 400 == 0:\n",
    "        return True\n",
    "    elif year % 100 ==0:\n",
    "        return False\n",
    "    elif year % 4 == 0:\n",
    "        return True\n",
    "    else: \n",
    "        return False\n",
    "year = int(input(\"enter the year\"))\n",
    "if leap_year(year):\n",
    "    print(\"The Year is a leap Year\")\n",
    "elif year % 100 == 0:\n",
    "  print(\"The year is a Century Year\")\n",
    "else:\n",
    "    print(\"The Year is not a leap year\")"
   ]
  },
  {
   "cell_type": "code",
   "execution_count": null,
   "id": "79d2967d-5e59-4f9f-b850-0d50eb771e4b",
   "metadata": {},
   "outputs": [],
   "source": [
    "#14. Write a Python script to determine if a number is positive, negative, or zero."
   ]
  },
  {
   "cell_type": "code",
   "execution_count": 6,
   "id": "90cab15b-2af8-42b4-9609-0e1600367687",
   "metadata": {},
   "outputs": [
    {
     "name": "stdin",
     "output_type": "stream",
     "text": [
      "Enter The Number 9\n"
     ]
    },
    {
     "name": "stdout",
     "output_type": "stream",
     "text": [
      "Possitive Number\n"
     ]
    }
   ],
   "source": [
    "def check_number(number):\n",
    "    if number > 0:\n",
    "        return \"Possitive Number\"\n",
    "    elif number < 0:\n",
    "        return \"Negative Number\"\n",
    "    else:\n",
    "        return \"Number is Zero\"\n",
    "number = int(input(\"Enter The Number\"))\n",
    "Result = check_number(number)\n",
    "print(Result)"
   ]
  },
  {
   "cell_type": "code",
   "execution_count": null,
   "id": "b9061418-8ed7-43ad-bfac-1393cdbc0f39",
   "metadata": {},
   "outputs": [],
   "source": [
    "#15. Create a program to check if a person is a teenager (between 13 and 19 years old)."
   ]
  },
  {
   "cell_type": "code",
   "execution_count": 2,
   "id": "76384bab-1ebe-4b8f-a6f2-364dd2e9e2e6",
   "metadata": {},
   "outputs": [
    {
     "name": "stdin",
     "output_type": "stream",
     "text": [
      "enter the age 15\n"
     ]
    },
    {
     "name": "stdout",
     "output_type": "stream",
     "text": [
      "Teenager\n"
     ]
    }
   ],
   "source": [
    "def teenage_person(age):\n",
    "    if 13 <= age <= 19:\n",
    "        return \"Teenager\"\n",
    "    else:\n",
    "        return \"Not Teenager\"\n",
    "age = int(input(\"enter the age\"))\n",
    "result = teenage_person(age)\n",
    "print(result)    "
   ]
  },
  {
   "cell_type": "code",
   "execution_count": null,
   "id": "00629143-b771-4a0d-add0-37e116d5126f",
   "metadata": {},
   "outputs": [],
   "source": [
    "#16. Develop a program that determines the type of angle based on its measure (acute, obtuse, or right)."
   ]
  },
  {
   "cell_type": "code",
   "execution_count": 6,
   "id": "fa9d7239-94ce-49bf-b3d1-00df41ae658a",
   "metadata": {},
   "outputs": [
    {
     "name": "stdin",
     "output_type": "stream",
     "text": [
      "enter the angle 235\n"
     ]
    },
    {
     "name": "stdout",
     "output_type": "stream",
     "text": [
      "obtuse angle\n"
     ]
    }
   ],
   "source": [
    "def types_of_angle(angle):\n",
    "    if angle < 0 or angle >360:\n",
    "        return \"Invalid angle\"\n",
    "    elif angle == 90:\n",
    "        return \"right angle\"\n",
    "    elif angle < 90:\n",
    "        return \"acute angle\"\n",
    "    else:\n",
    "        return \"obtuse angle\"\n",
    "angle = int(input(\"enter the angle\"))\n",
    "result = types_of_angle(angle)\n",
    "print(result)"
   ]
  },
  {
   "cell_type": "code",
   "execution_count": null,
   "id": "cf038dd2-8281-45de-abe1-61c5073db833",
   "metadata": {},
   "outputs": [],
   "source": [
    "#17. Write a Python program to calculate the roots of a quadratic equation."
   ]
  },
  {
   "cell_type": "code",
   "execution_count": 11,
   "id": "d255755a-ac15-462c-9f79-68cee8ccbe12",
   "metadata": {},
   "outputs": [
    {
     "name": "stdin",
     "output_type": "stream",
     "text": [
      "enter the value 2\n",
      "enter the value 200\n",
      "enter the value 3\n"
     ]
    },
    {
     "name": "stdout",
     "output_type": "stream",
     "text": [
      "(-0.015002250675252071, -99.98499774932475)\n"
     ]
    }
   ],
   "source": [
    "import math \n",
    "def quadratic_equation(a,b,c):\n",
    "    discriminant = b**2 - 4*a*c\n",
    "    if discriminant >=0:\n",
    "        root1 = (-b + math.sqrt(discriminant)) / (2*a)\n",
    "        root2 = (-b - math.sqrt(discriminant)) / (2*a)\n",
    "        return root1,  root2\n",
    "    else:\n",
    "        return \"No real roots\"\n",
    "a = int(input(\"enter the value\"))\n",
    "b = int(input(\"enter the value\"))\n",
    "c = int(input(\"enter the value\"))\n",
    "roots = quadratic_equation(a,b,c)\n",
    "print(roots)"
   ]
  },
  {
   "cell_type": "code",
   "execution_count": null,
   "id": "205fa6b2-fffa-4dd7-b172-bf14534efa57",
   "metadata": {},
   "outputs": [],
   "source": [
    "#18. Implement a program to determine the day of the week based on a user-provided number (1 for Monday, 2\n",
    "#for Tuesday, etc.)."
   ]
  },
  {
   "cell_type": "code",
   "execution_count": 13,
   "id": "cc77c2ae-16eb-409b-a8f1-99d092c83e21",
   "metadata": {},
   "outputs": [
    {
     "name": "stdin",
     "output_type": "stream",
     "text": [
      "enter the number 6\n"
     ]
    },
    {
     "name": "stdout",
     "output_type": "stream",
     "text": [
      "Saturday\n"
     ]
    }
   ],
   "source": [
    "def determine_week(number):\n",
    "    if number < 1 or number > 7:\n",
    "        return \"Invalid week day\"\n",
    "    elif number == 1:\n",
    "        return \"Monday\"\n",
    "    elif number == 2:\n",
    "        return \"Tuesday\"\n",
    "    elif number == 3:\n",
    "        return \"Wednesday\"\n",
    "    elif number == 4:\n",
    "        return \"Thursday\"\n",
    "    elif number == 5:\n",
    "        return \"Friday\"\n",
    "    elif number == 6:\n",
    "        return \"Saturday\"\n",
    "    else:\n",
    "        return \"Sunday\"\n",
    "number =  int(input(\"enter the number\"))\n",
    "result = determine_week(number)\n",
    "print(result)"
   ]
  },
  {
   "cell_type": "code",
   "execution_count": null,
   "id": "669b6541-259f-4553-ad67-0c48ced8600e",
   "metadata": {},
   "outputs": [],
   "source": [
    "#19. Create a program that determines if a year is a leap year and also if it is evenly divisible by 400."
   ]
  },
  {
   "cell_type": "code",
   "execution_count": 14,
   "id": "2685c93e-5d93-4734-bc78-6ad45713e50b",
   "metadata": {},
   "outputs": [
    {
     "name": "stdin",
     "output_type": "stream",
     "text": [
      "enter the year 2400\n"
     ]
    },
    {
     "name": "stdout",
     "output_type": "stream",
     "text": [
      "The Year is a leap Year\n"
     ]
    }
   ],
   "source": [
    "def leap_year(year):\n",
    "    if year % 400 == 0:\n",
    "        return True\n",
    "    elif year % 100 ==0:\n",
    "        return False\n",
    "    elif year % 4 == 0:\n",
    "        return True\n",
    "    else: \n",
    "        return False\n",
    "year = int(input(\"enter the year\"))\n",
    "if leap_year(year):\n",
    "    print(\"The Year is a leap Year\")\n",
    "elif year % 400 == 0:\n",
    "    print(\"The year is a quad_Century Year\")\n",
    "else:\n",
    "    print(\"The Year is not a leap year\")"
   ]
  },
  {
   "cell_type": "code",
   "execution_count": null,
   "id": "5e60f771-0543-4b29-90f9-a3b5c717fd4a",
   "metadata": {},
   "outputs": [],
   "source": [
    "#20. Develop a program that checks if a given number is prime or not using nested if-else statements."
   ]
  },
  {
   "cell_type": "code",
   "execution_count": 22,
   "id": "a4581b95-320a-44f9-b6de-53a8f2a5075c",
   "metadata": {},
   "outputs": [
    {
     "name": "stdin",
     "output_type": "stream",
     "text": [
      "enter the number 101\n"
     ]
    },
    {
     "name": "stdout",
     "output_type": "stream",
     "text": [
      "prime number\n"
     ]
    }
   ],
   "source": [
    "def check_prime(number):\n",
    "    if number <= 1:\n",
    "        return \"Not a Prime Number\"\n",
    "    elif number == 2 or number == 3:\n",
    "        return \"Prime Number\"\n",
    "    elif number % 2 == 0 or number % 3 == 0:\n",
    "        return \"Not a prime number\"\n",
    "    else:\n",
    "        i = 5\n",
    "        while i * i <= number:\n",
    "            if number % i == 0 or number % (i + 2) ==0:\n",
    "                return \"Not a Prime Number\"\n",
    "            i += 6\n",
    "        return \"prime number\"\n",
    "number = int(input(\"enter the number\"))\n",
    "result = check_prime(number)\n",
    "print(result)"
   ]
  },
  {
   "cell_type": "code",
   "execution_count": null,
   "id": "db9f9784-6c8f-4f7c-ad5a-993793b83961",
   "metadata": {},
   "outputs": [],
   "source": [
    "#Elif Statements:"
   ]
  },
  {
   "cell_type": "code",
   "execution_count": null,
   "id": "3357dae2-07ed-495e-a49d-6f74b42ca8a5",
   "metadata": {},
   "outputs": [],
   "source": [
    "#21. Write a Python program to assign grades based on different ranges of scores using elif statements."
   ]
  },
  {
   "cell_type": "code",
   "execution_count": 5,
   "id": "3a539669-5d10-4dbb-93ff-8688dde2fb24",
   "metadata": {},
   "outputs": [
    {
     "name": "stdin",
     "output_type": "stream",
     "text": [
      "enter the number 89\n"
     ]
    },
    {
     "name": "stdout",
     "output_type": "stream",
     "text": [
      "A\n"
     ]
    }
   ],
   "source": [
    "def student_grade(score):\n",
    "    if 90 <= score <= 100:\n",
    "        return \"A with distinction\"\n",
    "    elif 80 <= score <= 90:\n",
    "        return \"A\"\n",
    "    elif 70 <= score <= 80:\n",
    "        return \"B\"\n",
    "    elif 60 <= score <= 70:\n",
    "        return \"c\"\n",
    "    elif 40 <= score <= 60:\n",
    "        return \"D\"\n",
    "    else:\n",
    "        return \"Fail, reapear the exam\"\n",
    "score = int(input(\"enter the number\"))\n",
    "result = student_grade(score)\n",
    "print (result)"
   ]
  },
  {
   "cell_type": "code",
   "execution_count": null,
   "id": "d2dfc2db-41d7-4a45-b511-dc3785575c72",
   "metadata": {},
   "outputs": [],
   "source": [
    "#22. Implement a program to determine the type of a triangle based on its angles."
   ]
  },
  {
   "cell_type": "code",
   "execution_count": 15,
   "id": "4b9564d6-130b-43aa-8b60-bc6d1a958d28",
   "metadata": {},
   "outputs": [
    {
     "name": "stdin",
     "output_type": "stream",
     "text": [
      "enter the angle 90\n",
      "enter the angle 45\n",
      "enter the angle 45\n"
     ]
    },
    {
     "name": "stdout",
     "output_type": "stream",
     "text": [
      "Right-angled Triangle\n"
     ]
    }
   ],
   "source": [
    "def types_of_triangle(angles1, angles2,angles3):\n",
    "    if angles1 + angles2 + angles3 != 180:\n",
    "        return \"Invalid angles\"\n",
    "    elif angles1 < 90 and angles2 < 90 and angles3 < 90:\n",
    "        return \"Acute-angled Triangle\" \n",
    "    elif angles1 == 90 or angles2 == 90 or angles3 == 90:\n",
    "        return \"Right-angled Triangle\"\n",
    "    else:\n",
    "        return \"Obtuse-angled Triangle\"\n",
    "angles1 = int(input(\"enter the angle\"))\n",
    "angles2 = int(input(\"enter the angle\")) \n",
    "angles3 = int(input(\"enter the angle\")) \n",
    "results = types_of_triangle(angles1, angles2,angles3)\n",
    "print(results)"
   ]
  },
  {
   "cell_type": "code",
   "execution_count": null,
   "id": "2c32be21-96b6-4885-8fb5-1fc4eae02e63",
   "metadata": {},
   "outputs": [],
   "source": [
    "#23. Develop a program to categorize a given person's BMI into underweight, normal, overweight, or obese using\n",
    "#elif statements."
   ]
  },
  {
   "cell_type": "code",
   "execution_count": 23,
   "id": "3c4e5e72-ee3d-4846-a0b7-173703685adc",
   "metadata": {},
   "outputs": [
    {
     "name": "stdin",
     "output_type": "stream",
     "text": [
      "enter the value 70\n",
      "enter the value 68\n"
     ]
    },
    {
     "name": "stdout",
     "output_type": "stream",
     "text": [
      "underweight\n"
     ]
    }
   ],
   "source": [
    "def catagorize_bmi(weight, height):\n",
    "    bmi = weight / (height **2)\n",
    "    if bmi < 18.5:\n",
    "        return \"underweight\"\n",
    "    elif 18.5 <= bmi < 25:\n",
    "        return \"Normal weight\"\n",
    "    elif 25 <= bmi < 30:\n",
    "        return \"Overweight\"\n",
    "    else:\n",
    "        return \"Obese\"\n",
    "weight = float(input(\"enter the value\"))\n",
    "height = float(input(\"enter the value\"))\n",
    "result = catagorize_bmi(weight, height)\n",
    "print(result)"
   ]
  },
  {
   "cell_type": "code",
   "execution_count": null,
   "id": "60f7b0d4-330a-4446-9d7c-62911de4fd65",
   "metadata": {},
   "outputs": [],
   "source": [
    "#24. Create a program that determines whether a given number is positive, negative, or zero using elif\n",
    "#statements."
   ]
  },
  {
   "cell_type": "code",
   "execution_count": 26,
   "id": "747c67e9-63e1-404a-a116-0831c45396bb",
   "metadata": {},
   "outputs": [
    {
     "name": "stdin",
     "output_type": "stream",
     "text": [
      "enter the number 99\n"
     ]
    },
    {
     "name": "stdout",
     "output_type": "stream",
     "text": [
      "the number is positive number\n"
     ]
    }
   ],
   "source": [
    "number = int(input(\"enter the number\"))\n",
    "if number == 0:\n",
    "    print(\"the number is zero\")\n",
    "elif number > 0:\n",
    "    print(\"the number is positive number\")\n",
    "else:\n",
    "    print(\"the number is negative number\")"
   ]
  },
  {
   "cell_type": "code",
   "execution_count": null,
   "id": "87e5337d-5dc4-4e87-807f-ad71041fc4b5",
   "metadata": {},
   "outputs": [],
   "source": [
    "#25. Write a Python script to determine the type of a character (uppercase, lowercase, or special) using elif\n",
    "#statements."
   ]
  },
  {
   "cell_type": "code",
   "execution_count": 8,
   "id": "42a7ef70-30da-4992-a015-d7838569a2dd",
   "metadata": {},
   "outputs": [
    {
     "name": "stdin",
     "output_type": "stream",
     "text": [
      "enter the character w\n"
     ]
    },
    {
     "name": "stdout",
     "output_type": "stream",
     "text": [
      "Lowercase Character\n"
     ]
    }
   ],
   "source": [
    "def type_of_character(character):\n",
    "    if \"a\" <= character <= \"z\":\n",
    "        return \"Lowercase Character\"\n",
    "    elif \"A\" <= character <= \"Z\":\n",
    "        return \"Uppercase Character\"\n",
    "    else:\n",
    "        return \"Special Character\"\n",
    "character = input(\"enter the character\")\n",
    "result = type_of_character(character)\n",
    "print(result)"
   ]
  },
  {
   "cell_type": "code",
   "execution_count": null,
   "id": "f2e791fb-524f-4a68-9cd7-3ab45ac54290",
   "metadata": {},
   "outputs": [],
   "source": [
    "#26. Implement a program to calculate the discounted price based on different purchase amounts using elif\n",
    "#statements."
   ]
  },
  {
   "cell_type": "code",
   "execution_count": 11,
   "id": "8a33eefa-f4d4-4bfc-b529-40c0fd07c516",
   "metadata": {},
   "outputs": [
    {
     "name": "stdin",
     "output_type": "stream",
     "text": [
      "Enter the purchase amount 1000\n"
     ]
    },
    {
     "name": "stdout",
     "output_type": "stream",
     "text": [
      "5 percent discount\n"
     ]
    }
   ],
   "source": [
    "def discounted_price(amount):\n",
    "    if amount <=0:\n",
    "        return \"Invalid Purchase\"\n",
    "    elif 500 <=amount <=1500:\n",
    "        return \"5 percent discount\"\n",
    "    elif 1500 <= amount <= 2500:\n",
    "        return \"10 percent discount\"\n",
    "    elif amount >= 2500:\n",
    "        return \"15 percent discount flat\"\n",
    "    else:\n",
    "        return \"no discount\"\n",
    "amount = int(input(\"Enter the purchase amount\"))\n",
    "result = discounted_price(amount)\n",
    "print(result)\n"
   ]
  },
  {
   "cell_type": "code",
   "execution_count": null,
   "id": "43d449fa-fea9-481f-9f2f-70c261e06f87",
   "metadata": {},
   "outputs": [],
   "source": [
    "#27. Develop a program to calculate the electricity bill based on different consumption slabs using elif\n",
    "#statements."
   ]
  },
  {
   "cell_type": "code",
   "execution_count": 16,
   "id": "13d2ecde-5f32-40c5-a658-29e5894d4abc",
   "metadata": {},
   "outputs": [
    {
     "name": "stdin",
     "output_type": "stream",
     "text": [
      "enter the amount of unit_consumed 1000\n"
     ]
    },
    {
     "name": "stdout",
     "output_type": "stream",
     "text": [
      "28900.0\n"
     ]
    }
   ],
   "source": [
    "def calculate_electricity_bill(unit_consumed):\n",
    "    if unit_consumed <= 0:\n",
    "        return \"invalid value: please enter a possitve value for unit_consumed\"\n",
    "    elif unit_consumed <= 150:\n",
    "        return unit_consumed * 2.75\n",
    "    elif 151 <= unit_consumed <= 250:\n",
    "        return (unit_consumed * 2.75) + (unit_consumed * 5.25)\n",
    "    elif 251 <= unit_consumed <= 500:\n",
    "        return (unit_consumed * 2.75) + (unit_consumed * 5.25) + (unit_consumed * 6.30)\n",
    "    elif 501 <= unit_consumed <= 800:\n",
    "        return (unit_consumed * 2.75) + (unit_consumed * 5.25) + (unit_consumed * 6.30) + (unit_consumed * 7.10)\n",
    "    else:\n",
    "        return (unit_consumed * 2.75) + (unit_consumed * 5.25) + (unit_consumed * 6.30) + (unit_consumed * 7.10) + (unit_consumed * 7.50)\n",
    "    \n",
    "unit_consumed = float(input(\"enter the amount of unit_consumed\"))\n",
    "result = calculate_electricity_bill(unit_consumed)\n",
    "print(result)\n"
   ]
  },
  {
   "cell_type": "code",
   "execution_count": null,
   "id": "e20d7861-915c-4fde-b5f7-a624bad13086",
   "metadata": {},
   "outputs": [],
   "source": [
    "#28. Create a program to determine the type of quadrilateral based on its angles and sides using elif\n",
    "#statements."
   ]
  },
  {
   "cell_type": "code",
   "execution_count": 18,
   "id": "71f9ce0d-ff10-4b59-8b6e-b292a754f62a",
   "metadata": {},
   "outputs": [
    {
     "name": "stdin",
     "output_type": "stream",
     "text": [
      "enter the value 5\n",
      "enter the value 5\n",
      "enter the value 7\n",
      "enter the value 7\n",
      "enter the angle 90\n",
      "enter the angle 90\n",
      "enter the angle 120\n",
      "enter the angle 120\n"
     ]
    },
    {
     "name": "stdout",
     "output_type": "stream",
     "text": [
      "Kite\n"
     ]
    }
   ],
   "source": [
    "def identify_quadrilateral(side1, side2, side3, side4, angle1, angle2, angle3, angle4):\n",
    "    if side1== side2 == side3 == side4:\n",
    "        if angle1 == angle2 == angle3 == angle == 90:\n",
    "            return \"Square\"\n",
    "        else:\n",
    "            return \"Rhombus\"\n",
    "    elif (angle1 + angle3 == 180) or (angle2 + angle4 == 180):\n",
    "        if angle == angle3 == 90 or angle2 == angle4 == 90:\n",
    "            return \"Rectangle\"\n",
    "        else:\n",
    "            return \"Parallelogram\"\n",
    "    elif (side1 == side3 and angle2 + angle4 == 180) or (side2 == side4 and angle1 + angle3 == 180):\n",
    "        return \"Trapazoid\"\n",
    "    elif (side1 == side2 and side3 == side4) or (side1 == side4 and side2 == side3):\n",
    "        return \"Kite\"\n",
    "    else:\n",
    "        return \"Other\"\n",
    "side1 = int(input(\"enter the value\"))\n",
    "side2 = int(input(\"enter the value\"))\n",
    "side3 = int(input(\"enter the value\"))\n",
    "side4 = int(input(\"enter the value\"))\n",
    "angle1 = int(input(\"enter the angle\"))\n",
    "angle2 = int(input(\"enter the angle\"))\n",
    "angle3 = int(input(\"enter the angle\"))\n",
    "angle4 = int(input(\"enter the angle\"))\n",
    "result = identify_quadrilateral(side1, side2, side3, side4, angle1, angle2, angle3, angle4)\n",
    "print(result)"
   ]
  },
  {
   "cell_type": "code",
   "execution_count": null,
   "id": "464edb17-bff6-4656-a1a5-ee1f0b6a402c",
   "metadata": {},
   "outputs": [],
   "source": [
    "#29. Write a Python script to determine the season based on a user-provided month using elif statements."
   ]
  },
  {
   "cell_type": "code",
   "execution_count": 25,
   "id": "67675b45-5f7a-4b82-a5eb-3cc09da36e52",
   "metadata": {},
   "outputs": [
    {
     "name": "stdin",
     "output_type": "stream",
     "text": [
      "enter the month inbetween 1 to 12 8\n"
     ]
    },
    {
     "name": "stdout",
     "output_type": "stream",
     "text": [
      "Summer\n"
     ]
    }
   ],
   "source": [
    "def determine_season(month):\n",
    "    if month < 1 or month > 12:\n",
    "        return \"Invalid month. please enter a month betwwen 1 and 12\"\n",
    "    elif 3 <= month <= 5:\n",
    "        return \"Spring\"\n",
    "    elif 6 <= month <= 8:\n",
    "        return \"Summer\"\n",
    "    elif 9 <= month <= 11:\n",
    "        return \"Autumn/Fall\"\n",
    "    else:\n",
    "        return \"Winter\"\n",
    "month = int(input(\"enter the month inbetween 1 to 12\"))\n",
    "result = determine_season(month)\n",
    "print(result)"
   ]
  },
  {
   "cell_type": "code",
   "execution_count": null,
   "id": "19e16ef6-392d-4624-8ee3-17d4484a6cc2",
   "metadata": {},
   "outputs": [],
   "source": [
    "#30. Implement a program to determine the type of a year (leap or common) and month (30 or 31 days) using\n",
    "#elif statements."
   ]
  },
  {
   "cell_type": "code",
   "execution_count": 28,
   "id": "4a0f2cdb-28f1-4fc4-ac84-243dc86563e7",
   "metadata": {},
   "outputs": [
    {
     "name": "stdin",
     "output_type": "stream",
     "text": [
      "Enter the year 2024\n",
      "Enter the month (1-12) 2\n"
     ]
    },
    {
     "name": "stdout",
     "output_type": "stream",
     "text": [
      "Leap Year\n",
      "28 or 29 days depending on the year\n"
     ]
    }
   ],
   "source": [
    "def determine_year_type(year):\n",
    "    if (year % 4 == 0 and year % 100 !=0) or (year % 400 == 0):\n",
    "        return \"Leap Year\"\n",
    "    else: \n",
    "        return \"comon year\"\n",
    "def determine_days_in_month(month):\n",
    "    if month < 1 or month > 12:\n",
    "        return \"invalid month. Please enter a month inbetween 1 and 12\"\n",
    "    if month in [1,3,5,7,8,10,12]:\n",
    "        return \"31 days\"\n",
    "    elif month in [4,6,9,11]:\n",
    "        return \"30 days\"\n",
    "    else:\n",
    "        return \"28 or 29 days depending on the year\"\n",
    "year = int(input(\"Enter the year\"))\n",
    "month = int(input(\"Enter the month (1-12)\"))\n",
    "year_type = determine_year_type(year)\n",
    "days_in_month = determine_days_in_month(month)\n",
    "print(year_type)\n",
    "print(days_in_month)"
   ]
  },
  {
   "cell_type": "code",
   "execution_count": null,
   "id": "03849043-e07c-48cd-aaf2-46b370d7c76b",
   "metadata": {},
   "outputs": [],
   "source": [
    "#basic level"
   ]
  },
  {
   "cell_type": "code",
   "execution_count": null,
   "id": "d2bd6eac-7b1a-4f55-9937-225cd71abe85",
   "metadata": {},
   "outputs": [],
   "source": [
    "#1. Write a Python program that checks if a given number is positive, negative, or zero."
   ]
  },
  {
   "cell_type": "code",
   "execution_count": 30,
   "id": "84004f1b-1879-48da-a7a1-e083441de99e",
   "metadata": {},
   "outputs": [
    {
     "name": "stdin",
     "output_type": "stream",
     "text": [
      "enter the number 49\n"
     ]
    },
    {
     "name": "stdout",
     "output_type": "stream",
     "text": [
      "the number is positive number\n"
     ]
    }
   ],
   "source": [
    "number = int(input(\"enter the number\"))\n",
    "if number == 0:\n",
    "    print(\"the number is zero\")\n",
    "elif number > 0:\n",
    "    print(\"the number is positive number\")\n",
    "else:\n",
    "    print(\"the number is negative number\")"
   ]
  },
  {
   "cell_type": "code",
   "execution_count": null,
   "id": "a54ba51b-011e-4f47-8195-10a07e0b1a18",
   "metadata": {},
   "outputs": [],
   "source": [
    "#2. Create a program to determine if a person is eligible to vote based on their age."
   ]
  },
  {
   "cell_type": "code",
   "execution_count": 1,
   "id": "0e1cc39c-0cc5-41c7-b678-2f10a5f80e28",
   "metadata": {},
   "outputs": [
    {
     "name": "stdin",
     "output_type": "stream",
     "text": [
      "Enter your age:  56\n"
     ]
    },
    {
     "name": "stdout",
     "output_type": "stream",
     "text": [
      "eligible to vote\n"
     ]
    }
   ],
   "source": [
    "def eligigle_to_vote(age):\n",
    "    if age >= 18:\n",
    "        print(\"eligible to vote\")\n",
    "    else:\n",
    "        print(\"not eligible to vote\")\n",
    "user_age = int(input(\"Enter your age: \"))  \n",
    "eligigle_to_vote(user_age)"
   ]
  },
  {
   "cell_type": "code",
   "execution_count": null,
   "id": "988871f2-9647-4adf-a279-f17507542df4",
   "metadata": {},
   "outputs": [],
   "source": [
    "#3. Write a program to find the maximum of two given numbers using conditional statements."
   ]
  },
  {
   "cell_type": "code",
   "execution_count": 2,
   "id": "ddb5e30d-c4f4-4fb5-95ab-6342e61c9cea",
   "metadata": {},
   "outputs": [
    {
     "name": "stdout",
     "output_type": "stream",
     "text": [
      "40\n"
     ]
    }
   ],
   "source": [
    "def maximum_of_two_number(number1, number2):\n",
    "    if number1 > number2:\n",
    "        return number1\n",
    "    else:\n",
    "        return number2\n",
    "number1 = 30\n",
    "number2 = 40\n",
    "max_number = maximum_of_two_number(number1, number2)\n",
    "print(max_number)"
   ]
  },
  {
   "cell_type": "code",
   "execution_count": null,
   "id": "d738ca42-3433-4b34-8337-b61f40975dde",
   "metadata": {},
   "outputs": [],
   "source": [
    "#4. Develop a program that calculates the grade of a student based on their exam score."
   ]
  },
  {
   "cell_type": "code",
   "execution_count": 4,
   "id": "aaac7221-e234-4bb4-bd7f-cc45916167af",
   "metadata": {},
   "outputs": [
    {
     "name": "stdin",
     "output_type": "stream",
     "text": [
      "enter the number 89\n"
     ]
    },
    {
     "name": "stdout",
     "output_type": "stream",
     "text": [
      "A\n"
     ]
    }
   ],
   "source": [
    "def student_grade(score):\n",
    "    if 90 <= score <= 100:\n",
    "        return \"A with distinction\"\n",
    "    elif 80 <= score <= 90:\n",
    "        return \"A\"\n",
    "    elif 70 <= score <= 80:\n",
    "        return \"B\"\n",
    "    elif 60 <= score <= 70:\n",
    "        return \"c\"\n",
    "    elif 40 <= score <= 60:\n",
    "        return \"D\"\n",
    "    else:\n",
    "        return \"Fail, reapear the exam\"\n",
    "score = int(input(\"enter the number\"))\n",
    "result = student_grade(score)\n",
    "print (result)"
   ]
  },
  {
   "cell_type": "code",
   "execution_count": null,
   "id": "fddea3ed-3efa-4c0b-9460-97be29fcb73f",
   "metadata": {},
   "outputs": [],
   "source": [
    "#5. Create a program that checks if a year is a leap year or not."
   ]
  },
  {
   "cell_type": "code",
   "execution_count": 6,
   "id": "7ab27262-bbe6-4390-9096-a6979eee4061",
   "metadata": {},
   "outputs": [
    {
     "name": "stdin",
     "output_type": "stream",
     "text": [
      "enter the year 2024\n"
     ]
    },
    {
     "name": "stdout",
     "output_type": "stream",
     "text": [
      "The Year is a leap Year\n"
     ]
    }
   ],
   "source": [
    "def leap_year(year):\n",
    "    if year % 400 == 0:\n",
    "        return True\n",
    "    elif year % 100 ==0:\n",
    "        return False\n",
    "    elif year % 4 == 0:\n",
    "        return True\n",
    "    else: \n",
    "        return False\n",
    "year = int(input(\"enter the year\"))\n",
    "if leap_year(year):\n",
    "    print(\"The Year is a leap Year\")\n",
    "else:\n",
    "    print(\"The Year is not a leap year\")"
   ]
  },
  {
   "cell_type": "code",
   "execution_count": null,
   "id": "af1cbb2b-4c48-4ede-b396-a07fdd1cbc6d",
   "metadata": {},
   "outputs": [],
   "source": [
    "#6. Write a program to classify a triangle based on its sides' lengths."
   ]
  },
  {
   "cell_type": "code",
   "execution_count": 8,
   "id": "bf0fbb2d-e3a0-4383-9524-64763751da7b",
   "metadata": {},
   "outputs": [
    {
     "name": "stdin",
     "output_type": "stream",
     "text": [
      "Enter the length of side1 45\n",
      "Enter the length of side2 45\n",
      "Enter the length of side3 45\n"
     ]
    },
    {
     "name": "stdout",
     "output_type": "stream",
     "text": [
      "Equilateral Triangle\n"
     ]
    }
   ],
   "source": [
    "def classify_triangle(side1, side2, side3):\n",
    "    if side1 <= 0 or side2 <= 0 or side3 <= 0:\n",
    "        return \"Invalid input. All sides must be greater than zero.\"\n",
    "    elif side1 == side2 == side3:\n",
    "        return \"Equilateral Triangle\"\n",
    "    elif side1 == side2 or side2 == side3 or side1 == side3:\n",
    "        return \"Isosceles Triangle\"\n",
    "    else:\n",
    "        return \"Scalene Triangle\"\n",
    "side1 = int(input(\"Enter the length of side1\"))\n",
    "side2 = int(input(\"Enter the length of side2\"))\n",
    "side3 = int(input(\"Enter the length of side3\"))\n",
    "result = classify_triangle(side1, side2, side3)\n",
    "print(result)"
   ]
  },
  {
   "cell_type": "code",
   "execution_count": null,
   "id": "2271ac5d-7b3d-4c2a-89b9-58ef59e7782b",
   "metadata": {},
   "outputs": [],
   "source": [
    "#7. Build a program that determines the largest of three given numbers."
   ]
  },
  {
   "cell_type": "code",
   "execution_count": 9,
   "id": "830c356e-5ec2-4f82-b17c-c502642722aa",
   "metadata": {},
   "outputs": [
    {
     "name": "stdin",
     "output_type": "stream",
     "text": [
      "Enter the first number 34\n",
      "Enter the second number 35\n",
      "Enter the third number 36\n"
     ]
    },
    {
     "name": "stdout",
     "output_type": "stream",
     "text": [
      "36\n"
     ]
    }
   ],
   "source": [
    "def find_largest_number(num1, num2, num3):\n",
    "    if num1 >= num2 and num1 >= num3:\n",
    "        return num1\n",
    "    elif num2 >= num1 and num2 >= num3:\n",
    "        return num2\n",
    "    else:\n",
    "        return num3\n",
    "num1 = int(input(\"Enter the first number\"))\n",
    "num2 = int(input(\"Enter the second number\"))\n",
    "num3 = int(input(\"Enter the third number\"))\n",
    "largest_number = find_largest_number(num1, num2, num3)\n",
    "print(largest_number)"
   ]
  },
  {
   "cell_type": "code",
   "execution_count": null,
   "id": "3f6850c9-302c-4217-9723-fa718340007f",
   "metadata": {},
   "outputs": [],
   "source": [
    "#8. Develop a program that checks whether a character is a vowel or a consonant."
   ]
  },
  {
   "cell_type": "code",
   "execution_count": 10,
   "id": "5e973b91-27fa-40d5-8e4e-ae213bda3fe7",
   "metadata": {},
   "outputs": [
    {
     "name": "stdin",
     "output_type": "stream",
     "text": [
      "enter a character a\n"
     ]
    },
    {
     "name": "stdout",
     "output_type": "stream",
     "text": [
      "vowel\n"
     ]
    }
   ],
   "source": [
    "def character_check(char):\n",
    "    char = char.lower()\n",
    "    vowels = \"aeiou\"\n",
    "    if char in vowels:\n",
    "        return \"vowel\"\n",
    "    else:\n",
    "        return \"consonant\"\n",
    "character = input(\"enter a character\")\n",
    "vowel_check = character_check(character)\n",
    "print(vowel_check)"
   ]
  },
  {
   "cell_type": "code",
   "execution_count": null,
   "id": "e748df1d-9ce6-4373-a351-5262079c857e",
   "metadata": {},
   "outputs": [],
   "source": [
    "#9. Create a program to calculate the total cost of a shopping cart based on discounts."
   ]
  },
  {
   "cell_type": "code",
   "execution_count": 11,
   "id": "dee20ea0-38b3-469a-bdbb-09209d99517b",
   "metadata": {},
   "outputs": [
    {
     "name": "stdin",
     "output_type": "stream",
     "text": [
      "Enter the purchase amount 1500\n"
     ]
    },
    {
     "name": "stdout",
     "output_type": "stream",
     "text": [
      "5 percent discount\n"
     ]
    }
   ],
   "source": [
    "def shopping_cart(amount):\n",
    "    if amount <=0:\n",
    "        return \"Invalid Purchase\"\n",
    "    elif 500 <=amount <=1500:\n",
    "        return \"5 percent discount\"\n",
    "    elif 1500 <= amount <= 2500:\n",
    "        return \"10 percent discount\"\n",
    "    elif amount >= 2500:\n",
    "        return \"15 percent discount flat\"\n",
    "    else:\n",
    "        return \"no discount\"\n",
    "amount = int(input(\"Enter the purchase amount\"))\n",
    "result = shopping_cart(amount)\n",
    "print(result)"
   ]
  },
  {
   "cell_type": "code",
   "execution_count": null,
   "id": "ac3ddf07-d517-4105-8cde-30ff92235006",
   "metadata": {},
   "outputs": [],
   "source": [
    "#10. Write a program that checks if a given number is even or odd."
   ]
  },
  {
   "cell_type": "code",
   "execution_count": 12,
   "id": "7bb6c6b5-70ee-49c1-8502-858f798e3ff1",
   "metadata": {},
   "outputs": [
    {
     "name": "stdin",
     "output_type": "stream",
     "text": [
      "Enter a number:  34\n"
     ]
    },
    {
     "name": "stdout",
     "output_type": "stream",
     "text": [
      "Even\n"
     ]
    }
   ],
   "source": [
    "def check_even_odd(number):\n",
    "    if number % 2 == 0:\n",
    "        return \"Even\"\n",
    "    else:\n",
    "        return \"Odd\"\n",
    "number = int(input(\"Enter a number: \"))\n",
    "result = check_even_odd(number)\n",
    "print(result)"
   ]
  },
  {
   "cell_type": "code",
   "execution_count": null,
   "id": "2e9d8db0-9330-4e1e-86d9-27afa8bbdac8",
   "metadata": {},
   "outputs": [],
   "source": [
    "#Intermediate Level"
   ]
  },
  {
   "cell_type": "code",
   "execution_count": null,
   "id": "8a0d7a56-ede8-400b-a4eb-8d3e8cf93d3f",
   "metadata": {},
   "outputs": [],
   "source": [
    "#11. Write a program that calculates the roots of a quadratic equation ."
   ]
  },
  {
   "cell_type": "code",
   "execution_count": 14,
   "id": "63dcebe0-ea1b-486a-9222-02614bbea047",
   "metadata": {},
   "outputs": [
    {
     "name": "stdin",
     "output_type": "stream",
     "text": [
      "Enter the coefficient a:  2\n",
      "Enter the coefficient b:  30\n",
      "Enter the coefficient c:  4\n"
     ]
    },
    {
     "name": "stdout",
     "output_type": "stream",
     "text": [
      "The roots are: (-0.13454006867188273, -14.865459931328118)\n"
     ]
    }
   ],
   "source": [
    "import math\n",
    "def calculate_quadratic_roots(a, b, c):\n",
    "    discriminant = b**2 - 4*a*c\n",
    "    if discriminant > 0:\n",
    "        root1 = (-b + math.sqrt(discriminant)) / (2*a)\n",
    "        root2 = (-b - math.sqrt(discriminant)) / (2*a)\n",
    "        return root1, root2 \n",
    "    elif discriminant == 0:\n",
    "        root = -b / (2*a)\n",
    "        return root  \n",
    "    else:\n",
    "        real_part = -b / (2*a)\n",
    "        imaginary_part = math.sqrt(abs(discriminant)) / (2*a)\n",
    "        return f\"{real_part}+{imaginary_part}i\", f\"{real_part}-{imaginary_part}i\"  # Return complex roots as strings\n",
    "a = int(input(\"Enter the coefficient a: \"))\n",
    "b = int(input(\"Enter the coefficient b: \"))\n",
    "c = int(input(\"Enter the coefficient c: \"))\n",
    "roots = calculate_quadratic_roots(a, b, c)\n",
    "print(\"The roots are:\", roots)"
   ]
  },
  {
   "cell_type": "code",
   "execution_count": null,
   "id": "29d77cf4-dab2-4d26-b55d-0de66d200007",
   "metadata": {},
   "outputs": [],
   "source": [
    "#12. Create a program that determines the day of the week based on the day number (1-7)."
   ]
  },
  {
   "cell_type": "code",
   "execution_count": 15,
   "id": "c1f59d07-5e2e-47bd-830d-b0b054f37518",
   "metadata": {},
   "outputs": [
    {
     "name": "stdin",
     "output_type": "stream",
     "text": [
      "enter the number 6\n"
     ]
    },
    {
     "name": "stdout",
     "output_type": "stream",
     "text": [
      "Saturday\n"
     ]
    }
   ],
   "source": [
    "def determine_week(number):\n",
    "    if number < 1 or number > 7:\n",
    "        return \"Invalid week day\"\n",
    "    elif number == 1:\n",
    "        return \"Monday\"\n",
    "    elif number == 2:\n",
    "        return \"Tuesday\"\n",
    "    elif number == 3:\n",
    "        return \"Wednesday\"\n",
    "    elif number == 4:\n",
    "        return \"Thursday\"\n",
    "    elif number == 5:\n",
    "        return \"Friday\"\n",
    "    elif number == 6:\n",
    "        return \"Saturday\"\n",
    "    else:\n",
    "        return \"Sunday\"\n",
    "number =  int(input(\"enter the number\"))\n",
    "result = determine_week(number)\n",
    "print(result)"
   ]
  },
  {
   "cell_type": "code",
   "execution_count": null,
   "id": "f557b91e-cfb6-4975-bf37-9290bcc888e7",
   "metadata": {},
   "outputs": [],
   "source": [
    "#13. Develop a program that calculates the factorial of a given number using recursion."
   ]
  },
  {
   "cell_type": "code",
   "execution_count": 18,
   "id": "42b559e3-fc5b-4c4e-9cba-35ab3904b863",
   "metadata": {},
   "outputs": [
    {
     "name": "stdin",
     "output_type": "stream",
     "text": [
      "enter the number 5\n"
     ]
    },
    {
     "name": "stdout",
     "output_type": "stream",
     "text": [
      "120\n"
     ]
    }
   ],
   "source": [
    "def calculate_factorial(number):\n",
    "    if number == 0:\n",
    "        return 1\n",
    "    else:\n",
    "        return number * calculate_factorial(number-1)\n",
    "number = int(input(\"enter the number\"))\n",
    "result = calculate_factorial(number)\n",
    "print(result)"
   ]
  },
  {
   "cell_type": "code",
   "execution_count": null,
   "id": "5779fa06-96c8-45f2-9ff0-22ab7c661d6b",
   "metadata": {},
   "outputs": [],
   "source": [
    "#14. Write a program to find the largest among three numbers without using the `max()` function."
   ]
  },
  {
   "cell_type": "code",
   "execution_count": 1,
   "id": "c06e161d-2f95-4c12-a8e8-72a168ccbf81",
   "metadata": {},
   "outputs": [
    {
     "name": "stdin",
     "output_type": "stream",
     "text": [
      "Enter the first number 100\n",
      "Enter the second number 200\n",
      "Enter the third number 300\n"
     ]
    },
    {
     "name": "stdout",
     "output_type": "stream",
     "text": [
      "300\n"
     ]
    }
   ],
   "source": [
    "def find_largest_number(num1, num2, num3):\n",
    "    if num1 >= num2 and num1 >= num3:\n",
    "        return num1\n",
    "    elif num2 >= num1 and num2 >= num3:\n",
    "        return num2\n",
    "    else:\n",
    "        return num3\n",
    "num1 = int(input(\"Enter the first number\"))\n",
    "num2 = int(input(\"Enter the second number\"))\n",
    "num3 = int(input(\"Enter the third number\"))\n",
    "largest_number = find_largest_number(num1, num2, num3)\n",
    "print(largest_number)"
   ]
  },
  {
   "cell_type": "code",
   "execution_count": null,
   "id": "62ab4345-ed3e-4158-9b6a-5000ec161d65",
   "metadata": {},
   "outputs": [],
   "source": [
    "#15. Create a program that simulates a basic ATM transaction menu."
   ]
  },
  {
   "cell_type": "code",
   "execution_count": 2,
   "id": "854eae4f-bb5f-4749-93fd-887c55983688",
   "metadata": {},
   "outputs": [
    {
     "name": "stdin",
     "output_type": "stream",
     "text": [
      "enter your initial balance 5000\n"
     ]
    },
    {
     "name": "stdout",
     "output_type": "stream",
     "text": [
      "\n",
      "ATM Menu\n",
      "1. Check Balance\n",
      "2. Deposit\n",
      "3. Withdraw\n",
      "4. Exit\n"
     ]
    },
    {
     "name": "stdin",
     "output_type": "stream",
     "text": [
      "Enter your choice(1-4): 4\n"
     ]
    },
    {
     "name": "stdout",
     "output_type": "stream",
     "text": [
      "Existing ATM. Thank you!\n"
     ]
    }
   ],
   "source": [
    "def display_menu():\n",
    "    print(\"\\nATM Menu\")\n",
    "    print(\"1. Check Balance\")\n",
    "    print(\"2. Deposit\")\n",
    "    print(\"3. Withdraw\")\n",
    "    print(\"4. Exit\")\n",
    "def check_balance(balance):\n",
    "    print(balance)\n",
    "def deposit(balance):\n",
    "    amount = eval(input(\"Enter the deposit amount\"))\n",
    "    if amount > 0:\n",
    "        balance += amount\n",
    "        print(balance)\n",
    "    else:\n",
    "        print(\"Invalid amount for deposit. please enter a positive value.\")\n",
    "    return balance\n",
    "def withdraw(balance):\n",
    "    amount = eval(input(\"Enter the withdrawal amount.\"))\n",
    "    if amount > 0 and amount <= balance:\n",
    "        balance -= amount\n",
    "        print(balance)\n",
    "    elif amount <= 0:\n",
    "        print(\"Invalid amount for withdrawal. Please enter a positive value.\")\n",
    "    else:\n",
    "        print(\"Insufficient funds for withdrawal.\")\n",
    "    return balance\n",
    "initial_balance = eval(input(\"enter your initial balance\"))\n",
    "current_balance = initial_balance\n",
    "while True:\n",
    "    display_menu()\n",
    "    choice = input(\"Enter your choice(1-4):\")\n",
    "    if choice == \"1\":\n",
    "        check_balance(current_balance)\n",
    "    elif choice == \"2\":\n",
    "        check_balance = deposit(current_balance)\n",
    "    elif choice == \"3\":\n",
    "        check_balance = withdraw(current_balance)\n",
    "    elif choice == \"4\":\n",
    "        print(\"Existing ATM. Thank you!\")\n",
    "        break\n",
    "    else:\n",
    "        print(\"Invalid Choice. Please enter a number between 1 and 4.\")\n",
    "        \n",
    "    \n",
    " "
   ]
  },
  {
   "cell_type": "code",
   "execution_count": null,
   "id": "52f40e75-3e01-47ca-9b98-72871ec52d34",
   "metadata": {},
   "outputs": [],
   "source": [
    "#16. Build a program that checks if a given string is a palindrome or not."
   ]
  },
  {
   "cell_type": "code",
   "execution_count": 7,
   "id": "f1c046bf-c2f6-4a1c-8bae-40531b7512f5",
   "metadata": {},
   "outputs": [
    {
     "name": "stdin",
     "output_type": "stream",
     "text": [
      "Enter a string. madam\n"
     ]
    },
    {
     "name": "stdout",
     "output_type": "stream",
     "text": [
      "The given string is a palindrome.\n"
     ]
    }
   ],
   "source": [
    "def check_palindrome(string):\n",
    "    string = string.replace(\" \", \" \").lower()\n",
    "    return string == string[::-1]\n",
    "string = input(\"Enter a string.\")\n",
    "if check_palindrome(string):\n",
    "    print(\"The given string is a palindrome.\")\n",
    "else:\n",
    "    print(\"The given string is not a palindrome.\")"
   ]
  },
  {
   "cell_type": "code",
   "execution_count": null,
   "id": "62513161-57c7-4f5d-85f1-03b12c138e9b",
   "metadata": {},
   "outputs": [],
   "source": [
    "#17. Write a program that calculates the average of a list of numbers, excluding the smallest and largest values."
   ]
  },
  {
   "cell_type": "code",
   "execution_count": 12,
   "id": "17e6e12f-1507-47c6-9bb5-aa8f165a8009",
   "metadata": {},
   "outputs": [
    {
     "name": "stdin",
     "output_type": "stream",
     "text": [
      "Enter a list of numbers separated by space:  20 30 40 50 60 70\n"
     ]
    },
    {
     "name": "stdout",
     "output_type": "stream",
     "text": [
      "45.0\n"
     ]
    }
   ],
   "source": [
    "def calculate_avg(numbers):\n",
    "    if len(numbers) < 3:\n",
    "        return \"Insufficient number of elements to calculate average\"\n",
    "\n",
    "    min_val = float('inf')\n",
    "    max_val = float('-inf')\n",
    "\n",
    "    for num in numbers:  \n",
    "        if num < min_val:\n",
    "            min_val = num\n",
    "        elif num > max_val:\n",
    "            max_val = num\n",
    "\n",
    "    sum_remaining_values = sum(num for num in numbers if num != min_val and num != max_val)\n",
    "    average = sum_remaining_values / (len(numbers) - 2)\n",
    "    return average\n",
    "\n",
    "\n",
    "numbers = [float(x) for x in input(\"Enter a list of numbers separated by space: \").split()]\n",
    "result = calculate_avg(numbers)\n",
    "print(result)"
   ]
  },
  {
   "cell_type": "code",
   "execution_count": null,
   "id": "77f4353b-79a2-470d-b6af-f85b49a08610",
   "metadata": {},
   "outputs": [],
   "source": [
    "#18. Develop a program that converts a given temperature from Celsius to Fahrenheit."
   ]
  },
  {
   "cell_type": "code",
   "execution_count": 14,
   "id": "048749af-c28c-443b-9db3-780b4e7d8901",
   "metadata": {},
   "outputs": [
    {
     "name": "stdin",
     "output_type": "stream",
     "text": [
      "Enter the temperature in Celsius 40\n"
     ]
    },
    {
     "name": "stdout",
     "output_type": "stream",
     "text": [
      "104.0\n"
     ]
    }
   ],
   "source": [
    "def celsius_to_fahrenheit(celsius):\n",
    "    if celsius < -273:\n",
    "        return None\n",
    "    else:\n",
    "        fahrenheit = (celsius *9/5) +32\n",
    "        return fahrenheit\n",
    "celsius = float(input(\"Enter the temperature in Celsius\"))\n",
    "result = celsius_to_fahrenheit(celsius)\n",
    "print(result)"
   ]
  },
  {
   "cell_type": "code",
   "execution_count": null,
   "id": "c363a91a-d426-457d-87e7-e6d643931b3d",
   "metadata": {},
   "outputs": [],
   "source": [
    "#19. Create a program that simulates a basic calculator for addition, subtraction, multiplication, and division."
   ]
  },
  {
   "cell_type": "code",
   "execution_count": 21,
   "id": "7998c4d3-1755-48d0-927f-6d6f6e3be60d",
   "metadata": {},
   "outputs": [
    {
     "name": "stdin",
     "output_type": "stream",
     "text": [
      "Enter the operation ('addition', 'subtraction', 'multiplication', or 'divide'):  divide\n",
      "Enter the first number:  4\n",
      "Enter the second number:  4\n"
     ]
    },
    {
     "name": "stdout",
     "output_type": "stream",
     "text": [
      "None\n"
     ]
    }
   ],
   "source": [
    "def calculator(operation, number1, number2):\n",
    "    if operation == \"addition\":\n",
    "        result = number1 + number2\n",
    "    elif operation == \"subtraction\":\n",
    "        result = number1 - number2\n",
    "    elif operation == \"multiplication\":\n",
    "        result = number1 * number2\n",
    "    elif operation == \"divide\":\n",
    "        if number2 != 0:\n",
    "            result = number1 / number2\n",
    "        else:\n",
    "            return \"Cannot divide by zero.Please enter a non-zero number\"\n",
    "    else:\n",
    "        return \"invalid operation\"\n",
    "operation = input(\"Enter the operation ('addition', 'subtraction', 'multiplication', or 'divide'): \").lower()\n",
    "number1 = float(input(\"Enter the first number: \"))\n",
    "number2 = float(input(\"Enter the second number: \"))\n",
    "result = calculator(operation, number1, number2)\n",
    "print(result)"
   ]
  },
  {
   "cell_type": "code",
   "execution_count": 2,
   "id": "18aa778f-5644-46c9-8526-0858ad8cde69",
   "metadata": {},
   "outputs": [
    {
     "name": "stdin",
     "output_type": "stream",
     "text": [
      "Enter the operation ('addition', 'subtraction', 'multiplication', or 'divide'):  divide\n",
      "Enter the first number:  4\n",
      "Enter the second number:  4\n"
     ]
    },
    {
     "name": "stdout",
     "output_type": "stream",
     "text": [
      "None\n"
     ]
    }
   ],
   "source": [
    "def calculator(operation, number1, number2):\n",
    "    if operation == \"addition\":\n",
    "        result = number1 + number2\n",
    "    elif operation == \"subtraction\":\n",
    "        result = number1 - number2\n",
    "    elif operation == \"multiplication\":\n",
    "        result = number1 * number2\n",
    "    elif operation == \"divide\":\n",
    "        if number2 != 0:\n",
    "            result = number1 / number2\n",
    "        else:\n",
    "            return \"Cannot divide by zero. Please enter a non-zero number.\"\n",
    "    else:\n",
    "        return \"Invalid operation\"\n",
    "        \n",
    "operation = input(\"Enter the operation ('addition', 'subtraction', 'multiplication', or 'divide'): \").lower()\n",
    "number1 = float(input(\"Enter the first number: \"))\n",
    "number2 = float(input(\"Enter the second number: \"))\n",
    "result = calculator(operation, number1, number2)\n",
    "print(result)\n"
   ]
  },
  {
   "cell_type": "code",
   "execution_count": 8,
   "id": "992b39f0-f834-453f-bf62-a31946659489",
   "metadata": {},
   "outputs": [
    {
     "name": "stdin",
     "output_type": "stream",
     "text": [
      "Enter the operation ('addition', 'subtraction', 'multiplication', or 'divide'):  subtraction\n",
      "Enter the first number:  2\n",
      "Enter the second number:  1\n"
     ]
    },
    {
     "name": "stdout",
     "output_type": "stream",
     "text": [
      "1.0\n"
     ]
    }
   ],
   "source": [
    "def calculator(operation, number1, number2):\n",
    "    if operation == \"addition\":\n",
    "        result = number1 + number2\n",
    "        return result\n",
    "    elif operation == \"subtraction\":\n",
    "        result = number1 - number2\n",
    "        return result\n",
    "    elif operation == \"multiplication\":\n",
    "        result = number1 * number2\n",
    "        return result\n",
    "    elif operation == \"divide\":\n",
    "        if number2 != 0:\n",
    "            result = number1 / number2\n",
    "            return result\n",
    "        else:\n",
    "            return \"Cannot divide by zero. Please enter a non-zero number.\"\n",
    "    else:\n",
    "        return \"Invalid operation\"\n",
    "        \n",
    "operation = input(\"Enter the operation ('addition', 'subtraction', 'multiplication', or 'divide'): \").lower()\n",
    "number1 = float(input(\"Enter the first number: \"))\n",
    "number2 = float(input(\"Enter the second number: \"))\n",
    "result = calculator(operation, number1, number2)\n",
    "print(result)\n"
   ]
  },
  {
   "cell_type": "code",
   "execution_count": null,
   "id": "683b55c4-5d55-4d57-9c8b-3a4765738725",
   "metadata": {},
   "outputs": [],
   "source": [
    "#20. Write a program that determines the roots of a cubic equation using the Cardano formula."
   ]
  },
  {
   "cell_type": "code",
   "execution_count": 11,
   "id": "85160d2a-b444-48a7-8125-7a9ed458da93",
   "metadata": {},
   "outputs": [
    {
     "name": "stdin",
     "output_type": "stream",
     "text": [
      "Enter the coefficient a:  10\n",
      "Enter the coefficient b:  20\n",
      "Enter the coefficient c:  30\n",
      "Enter the coefficient d:  40\n"
     ]
    },
    {
     "name": "stdout",
     "output_type": "stream",
     "text": [
      "Roots: ((-0.7566516780864044+0j), (1.3783258390432018-2.553306940593506j), (1.378325839043203+2.5533069405935045j))\n"
     ]
    }
   ],
   "source": [
    "import cmath\n",
    "def cubic_roots(a, b, c, d):\n",
    "    delta1 = (c**2 - 3*b*d)\n",
    "    delta2 = (2*c**3 - 9*b*c*d + 27*a*d**2)\n",
    "    delta = (delta2**2 - 4*delta1**3)\n",
    "    if delta > 0:\n",
    "        c = ((delta2 + cmath.sqrt(delta)) / 2)**(1/3)\n",
    "        root1 = -1/(3*a) * (c + delta1/c -b)\n",
    "        root2 = -1/(3*a) * (cmath.exp(2j*cmath.pi/3)*c + delta1/(cmath.exp(2j*cmath.pi/3)*c) - b)\n",
    "        root3 = -1/(3*a) * (cmath.exp(4j*cmath.pi/3)*c + delta1/(cmath.exp(4j*cmath.pi/3)*c) - b)\n",
    "        return root1, root2, root3\n",
    "    elif delta == 0:\n",
    "        c = ((delta1 + cmath.sqrt(delta)) / 2)**(1/3)\n",
    "        root1 = -1/(3*a) * (C + delta0/C - b)\n",
    "        root2 = -1/(6*a) * (cmath.exp(2j*cmath.pi/3)*C + delta0/(cmath.exp(2j*cmath.pi/3)*C) - b)\n",
    "        root3 = -1/(6*a) * (cmath.exp(4j*cmath.pi/3)*C + delta0/(cmath.exp(4j*cmath.pi/3)*C) - b)\n",
    "        return root1, root2, root3\n",
    "    else:\n",
    "        C = ((delta1 + cmath.sqrt(delta)) / 2)**(1/3)\n",
    "        D = ((delta1 - cmath.sqrt(delta)) / 2)**(1/3)\n",
    "        root1 = -1/(3*a) * (C + D - b)\n",
    "        root2 = -1/(3*a) * (cmath.exp(2j*cmath.pi/3)*C + cmath.exp(2j*cmath.pi/3)*D - b)\n",
    "        root3 = -1/(3*a) * (cmath.exp(4j*cmath.pi/3)*C + cmath.exp(4j*cmath.pi/3)*D - b)\n",
    "        return root1, root2, root3\n",
    "a = float(input(\"Enter the coefficient a: \"))\n",
    "b = float(input(\"Enter the coefficient b: \"))\n",
    "c = float(input(\"Enter the coefficient c: \"))\n",
    "d = float(input(\"Enter the coefficient d: \"))\n",
    "roots = cubic_roots(a, b, c, d)\n",
    "print(\"Roots:\", roots)"
   ]
  },
  {
   "cell_type": "code",
   "execution_count": null,
   "id": "44f6f6b0-11b4-4f66-8e20-d66f1a034735",
   "metadata": {},
   "outputs": [],
   "source": [
    "#21. Create a program that calculates the income tax based on the user's income and tax brackets."
   ]
  },
  {
   "cell_type": "code",
   "execution_count": 17,
   "id": "b14cbb18-d4f1-469e-8548-fa38130b3156",
   "metadata": {},
   "outputs": [
    {
     "name": "stdin",
     "output_type": "stream",
     "text": [
      "Enter the income 5000000\n"
     ]
    },
    {
     "name": "stdout",
     "output_type": "stream",
     "text": [
      "542500.0\n"
     ]
    }
   ],
   "source": [
    "def calculate_income_tax(income):\n",
    "    if income < 0:\n",
    "        return \"Income Cannot be Negetive\"\n",
    "    if income < 250000:\n",
    "        tax = 0\n",
    "        return income\n",
    "    elif income <= 500000:\n",
    "        tax = (income - 250000)*0.05\n",
    "        return tax\n",
    "    elif income <= 1000000:\n",
    "        tax = (500000 - 250000)*0.05 + (income - 1000000) * 0.10\n",
    "        return tax\n",
    "    elif income <= float(\"inf\"):\n",
    "        tax = (500000 - 250000)*0.05 + (1000000 - 500000) * 0.10 + (income - 1000000 ) * 0.12\n",
    "        return tax\n",
    "    else:\n",
    "        return \"Invalid Income\"\n",
    "income = float(input(\"Enter the income\"))\n",
    "result = calculate_income_tax(income)\n",
    "print(result)"
   ]
  },
  {
   "cell_type": "code",
   "execution_count": null,
   "id": "28f228bb-a089-4704-b38c-7f6d05af52fb",
   "metadata": {},
   "outputs": [],
   "source": [
    "#22. Write a program that simulates a rock-paper-scissors game against the computer."
   ]
  },
  {
   "cell_type": "code",
   "execution_count": 18,
   "id": "be44495d-da0d-4419-b69d-733c1ef6c717",
   "metadata": {},
   "outputs": [
    {
     "name": "stdin",
     "output_type": "stream",
     "text": [
      "Enter your choice (rock, paper, scissors):  rock\n"
     ]
    },
    {
     "name": "stdout",
     "output_type": "stream",
     "text": [
      "You chose: rock\n",
      "Computer chose: scissors\n",
      "You win!\n"
     ]
    },
    {
     "name": "stdin",
     "output_type": "stream",
     "text": [
      "Play again? (yes/no):  yes \n"
     ]
    },
    {
     "name": "stdout",
     "output_type": "stream",
     "text": [
      "Thanks for playing!\n"
     ]
    }
   ],
   "source": [
    "import random\n",
    "def play_rock_paper_scissors():\n",
    "    user_choice = input(\"Enter your choice (rock, paper, scissors): \").lower()\n",
    "    computer_choice = random.choice([\"rock\", \"paper\", \"scissors\"])\n",
    "    print(\"You chose:\", user_choice)\n",
    "    print(\"Computer chose:\", computer_choice)\n",
    "    if user_choice == computer_choice:\n",
    "        print(\"It's a tie!\")\n",
    "    else:\n",
    "        if user_choice == \"rock\":\n",
    "            if computer_choice == \"scissors\":\n",
    "                print(\"You win!\")\n",
    "            else: \n",
    "                print(\"Computer wins!\")\n",
    "        elif user_choice == \"paper\":\n",
    "            if computer_choice == \"rock\":\n",
    "                print(\"You win!\")\n",
    "            else: \n",
    "                print(\"Computer wins!\")\n",
    "        else:  \n",
    "            if computer_choice == \"paper\":\n",
    "                print(\"You win!\")\n",
    "            else: \n",
    "                print(\"Computer wins!\")\n",
    "while True:\n",
    "    play_rock_paper_scissors()\n",
    "    play_again = input(\"Play again? (yes/no): \").lower()\n",
    "    if play_again != \"yes\":\n",
    "        break\n",
    "print(\"Thanks for playing!\")"
   ]
  },
  {
   "cell_type": "code",
   "execution_count": null,
   "id": "b80bd560-1054-4799-8e7e-3869dc497725",
   "metadata": {},
   "outputs": [],
   "source": [
    "#23. Develop a program that generates a random password based on user preferences (length, complexity)."
   ]
  },
  {
   "cell_type": "code",
   "execution_count": 19,
   "id": "75cf348f-63eb-420c-9e06-70f1f198f551",
   "metadata": {},
   "outputs": [
    {
     "name": "stdin",
     "output_type": "stream",
     "text": [
      "Enter the desired password length:  10\n",
      "Include uppercase letters? (yes/no):  yes\n",
      "Include digits? (yes/no):  yes\n",
      "Include special characters? (yes/no):  no\n"
     ]
    },
    {
     "name": "stdout",
     "output_type": "stream",
     "text": [
      "Generated Password: nJCRTgj4HF\n"
     ]
    }
   ],
   "source": [
    "import random\n",
    "import string\n",
    "def generate_password(length, include_uppercase, include_digits, include_special_chars):\n",
    "    if length < 1:\n",
    "        return \"Password length must be at least 1\"\n",
    "\n",
    "    chars = string.ascii_lowercase\n",
    "    if include_uppercase:\n",
    "        chars += string.ascii_uppercase\n",
    "    if include_digits:\n",
    "        chars += string.digits\n",
    "    if include_special_chars:\n",
    "        chars += string.punctuation\n",
    "\n",
    "    password = ''\n",
    "    for _ in range(length):\n",
    "        password += random.choice(chars)\n",
    "\n",
    "    return password\n",
    "\n",
    "# Get user preferences\n",
    "length = int(input(\"Enter the desired password length: \"))\n",
    "include_uppercase = input(\"Include uppercase letters? (yes/no): \").lower() == 'yes'\n",
    "include_digits = input(\"Include digits? (yes/no): \").lower() == 'yes'\n",
    "include_special_chars = input(\"Include special characters? (yes/no): \").lower() == 'yes'\n",
    "\n",
    "# Generate and print the password\n",
    "password = generate_password(length, include_uppercase, include_digits, include_special_chars)\n",
    "print(f\"Generated Password: {password}\")\n"
   ]
  },
  {
   "cell_type": "code",
   "execution_count": null,
   "id": "9b102769-16b2-4927-89b8-feea05e38fc7",
   "metadata": {},
   "outputs": [],
   "source": [
    "#24. Create a program that implements a simple text-based adventure game with branching scenarios."
   ]
  },
  {
   "cell_type": "code",
   "execution_count": 1,
   "id": "ff03eb82-a530-4ff8-825a-6ce1acc151d8",
   "metadata": {},
   "outputs": [
    {
     "name": "stdout",
     "output_type": "stream",
     "text": [
      "Welcome to the Adventure Game!\n",
      "You find yourself standing in front of a mysterious cave.\n",
      "There are two paths: one leads to the left, and the other to the right.\n",
      "\n",
      "Which path will you choose? (left/right)\n"
     ]
    },
    {
     "name": "stdin",
     "output_type": "stream",
     "text": [
      " left\n"
     ]
    },
    {
     "name": "stdout",
     "output_type": "stream",
     "text": [
      "\n",
      "You chose the left path.\n",
      "You encounter a friendly group of forest animals.\n",
      "They guide you to a hidden treasure chest!\n",
      "Congratulations! You win!\n"
     ]
    }
   ],
   "source": [
    "import time\n",
    "\n",
    "def intro():\n",
    "    print(\"Welcome to the Adventure Game!\")\n",
    "    time.sleep(1)\n",
    "    print(\"You find yourself standing in front of a mysterious cave.\")\n",
    "    time.sleep(1)\n",
    "    print(\"There are two paths: one leads to the left, and the other to the right.\")\n",
    "\n",
    "def main():\n",
    "    intro()\n",
    "\n",
    "    print(\"\\nWhich path will you choose? (left/right)\")\n",
    "    choice = input().lower()\n",
    "\n",
    "    if choice == \"left\":\n",
    "        print(\"\\nYou chose the left path.\")\n",
    "        time.sleep(1)\n",
    "        print(\"You encounter a friendly group of forest animals.\")\n",
    "        time.sleep(1)\n",
    "        print(\"They guide you to a hidden treasure chest!\")\n",
    "        time.sleep(1)\n",
    "        print(\"Congratulations! You win!\")\n",
    "    elif choice == \"right\":\n",
    "        print(\"\\nYou chose the right path.\")\n",
    "        time.sleep(1)\n",
    "        print(\"You enter a dark cave filled with bats.\")\n",
    "        time.sleep(1)\n",
    "        print(\"Suddenly, a mysterious figure appears and offers you a magical amulet.\")\n",
    "        time.sleep(1)\n",
    "        print(\"You decide to take it and continue your journey.\")\n",
    "        time.sleep(1)\n",
    "        print(\"The amulet protects you from danger.\")\n",
    "        time.sleep(1)\n",
    "        print(\"Congratulations! You win!\")\n",
    "    else:\n",
    "        print(\"Invalid choice. Please enter 'left' or 'right'.\")\n",
    "\n",
    "if __name__ == \"__main__\":\n",
    "    main()\n"
   ]
  },
  {
   "cell_type": "code",
   "execution_count": null,
   "id": "4c1f7efe-9aa6-4afc-8031-fe3e7d92dfcc",
   "metadata": {},
   "outputs": [],
   "source": [
    "#25. Build a program that solves a linear equation for x, considering different cases."
   ]
  },
  {
   "cell_type": "code",
   "execution_count": 5,
   "id": "d7fe4071-3876-472b-84ae-62ed937968cd",
   "metadata": {},
   "outputs": [
    {
     "name": "stdout",
     "output_type": "stream",
     "text": [
      "-7\n"
     ]
    }
   ],
   "source": [
    "def solve_linear_equation(equation):\n",
    "    n = len(equation)\n",
    "    sign = 1 \n",
    "    coeff = 0\n",
    "    total = 0 \n",
    "    i = 0\n",
    "    for j in range(0, n):\n",
    "        if equation[j] == \"+\" or equation[j] == \"-\":\n",
    "            if j > i:\n",
    "                total = total + sign * int(equation[i : j])\n",
    "            i = j\n",
    "        elif equation[j] == \"x\":\n",
    "            if i == j or equation[j - 1] == \"+\":\n",
    "                coeff += sign\n",
    "            elif equation[j - 1] == \"-\":\n",
    "                coeff = coeff - sign \n",
    "            else:\n",
    "                coeff = coeff + sign * int(equation[i:j])\n",
    "            i = j + 1\n",
    "        elif equation[j] == \"=\":\n",
    "            if j > i:\n",
    "                total = total + sign * int(equation[i : j])\n",
    "            sign = -1\n",
    "            i = j + 1\n",
    "    if i < n:\n",
    "        total = total + sign * int(equation[i : len(equation)])\n",
    "    if coeff == 0 and total == 0:\n",
    "        return \"Infinite solutions\"\n",
    "    if coeff == 0 and total:\n",
    "        return \"No solution\"\n",
    "    ans = -total / coeff\n",
    "    return int(ans)\n",
    "\n",
    "equation = \"x+98-45+x=66+x-20\"\n",
    "result = solve_linear_equation(equation)\n",
    "print(result)\n"
   ]
  },
  {
   "cell_type": "code",
   "execution_count": null,
   "id": "65c14532-2643-43a9-8ec6-6e75a01df86e",
   "metadata": {},
   "outputs": [],
   "source": [
    "#26. Write a program that simulates a basic quiz game with multiple-choice questions and scoring."
   ]
  },
  {
   "cell_type": "code",
   "execution_count": null,
   "id": "bb64ca5d-4afa-4f5a-b129-d03ce6fa89e9",
   "metadata": {},
   "outputs": [
    {
     "name": "stdout",
     "output_type": "stream",
     "text": [
      "What is the capital of Farnce?\n",
      "1. Paris\n",
      "2. Berlin\n",
      "3. Madrid\n",
      "4. Rome\n",
      "4\n"
     ]
    },
    {
     "name": "stdin",
     "output_type": "stream",
     "text": [
      "enter the number of your answer(1,2,3,or 4) 1\n"
     ]
    },
    {
     "name": "stdout",
     "output_type": "stream",
     "text": [
      "invalid input. please enter a number between 1 and 4.\n",
      "\n",
      "Which programming language is this program written in?\n",
      "1. Java\n",
      "2. Python\n",
      "3. C++\n",
      "4. JavaScript\n",
      "\n"
     ]
    },
    {
     "name": "stdin",
     "output_type": "stream",
     "text": [
      "enter the number of your answer(1,2,3,or 4) 2\n"
     ]
    },
    {
     "name": "stdout",
     "output_type": "stream",
     "text": [
      "invalid input. please enter a number between 1 and 4.\n",
      "\n",
      "What is the largest planet in our solar system?\n",
      "1. Earth\n",
      "2. Mars\n",
      "3. Jupiter\n",
      "4. Venus\n",
      "\n"
     ]
    },
    {
     "name": "stdin",
     "output_type": "stream",
     "text": [
      "enter the number of your answer(1,2,3,or 4) 3\n"
     ]
    },
    {
     "name": "stdout",
     "output_type": "stream",
     "text": [
      "invalid input. please enter a number between 1 and 4.\n",
      "\n",
      "Quiz completed! your score: 0/2\n"
     ]
    }
   ],
   "source": [
    "question = [ \n",
    "    { \"prompt\": \"What is the capital of Farnce?\\n1. Paris\\n2. Berlin\\n3. Madrid\\n4. Rome\\n4\",\n",
    "      \"Correct_option\": 1\n",
    "    },\n",
    "    {  \"prompt\": \"Which programming language is this program written in?\\n1. Java\\n2. Python\\n3. C++\\n4. JavaScript\\n\",\n",
    "        \"correct_option\": 2\n",
    "    },\n",
    "    {   \"prompt\": \"What is the largest planet in our solar system?\\n1. Earth\\n2. Mars\\n3. Jupiter\\n4. Venus\\n\",\n",
    "        \"correct_option\": 3\n",
    "    }\n",
    "]\n",
    "score = 0\n",
    "for question in question:\n",
    "    print(question[\"prompt\"])\n",
    "    answer = input(\"enter the number of your answer(1,2,3,or 4)\")\n",
    "    if answer== int(answer):\n",
    "        if 1 <= answer <= 4:\n",
    "            if answer == question[\"correct_option\"]:\n",
    "                print(\"correct!\\n\")\n",
    "                score +=1\n",
    "            else:\n",
    "                print(f\"Wrong! The correct answer was {question['correct_option']}: {question['prompt'].splitlines()[question['correct_option']]}\\n\")\n",
    "        else:\n",
    "            print(\"invalid input. please enter a number between 1 and 4.\\n\")\n",
    "    else:\n",
    "        print(\"invalid input. please enter a number between 1 and 4.\\n\")\n",
    "print(f\"Quiz completed! your score: {score}/{len(question)}\")\n",
    "            "
   ]
  },
  {
   "cell_type": "code",
   "execution_count": null,
   "id": "748f96d8-a5f2-45c8-bd4d-7131fd9dc50b",
   "metadata": {},
   "outputs": [],
   "source": [
    "#27. Develop a program that determines whether a given year is a prime number or not."
   ]
  },
  {
   "cell_type": "code",
   "execution_count": 16,
   "id": "7f943f00-cce1-4598-9b0f-bcbc1abfa2ad",
   "metadata": {},
   "outputs": [
    {
     "name": "stdin",
     "output_type": "stream",
     "text": [
      "enter a year to check if it's a prime number 2024\n"
     ]
    },
    {
     "name": "stdout",
     "output_type": "stream",
     "text": [
      "False\n"
     ]
    }
   ],
   "source": [
    "def is_prime(year):\n",
    "    if year <= 1:\n",
    "        return False\n",
    "    elif year == 2:\n",
    "        return True\n",
    "    else:\n",
    "        for i in range(2, year):\n",
    "            if year % i == 0:\n",
    "                return False\n",
    "        return True\n",
    "year = int(input(\"enter a year to check if it's a prime number\"))\n",
    "result = is_prime(year)\n",
    "print(result)"
   ]
  },
  {
   "cell_type": "code",
   "execution_count": null,
   "id": "0b76bd7d-9a80-4f1a-84e6-c0967d163b57",
   "metadata": {},
   "outputs": [],
   "source": [
    "#28. Create a program that sorts three numbers in ascending order using conditional statements."
   ]
  },
  {
   "cell_type": "code",
   "execution_count": 4,
   "id": "b15b433c-1983-49cf-820f-0e18d02c9009",
   "metadata": {},
   "outputs": [
    {
     "name": "stdin",
     "output_type": "stream",
     "text": [
      "enter the first number 100\n",
      "enter the second number 2\n",
      "enter the third number 1.5\n"
     ]
    },
    {
     "name": "stdout",
     "output_type": "stream",
     "text": [
      "(1.5, 2.0, 100.0)\n"
     ]
    }
   ],
   "source": [
    "def sorts_three_number(a,b,c):\n",
    "    if a <= b <= c:\n",
    "        return a,b,c\n",
    "    elif a<=c<=b:\n",
    "        return a,c,b\n",
    "    elif b<=c<=a:\n",
    "        return b,c,a\n",
    "    elif b<=a<=c:\n",
    "        return b,a,c\n",
    "    elif c<=a<=b:\n",
    "        return c,a,b\n",
    "    else:\n",
    "        return c,b,a\n",
    "a = float(input(\"enter the first number\")) \n",
    "b = float(input(\"enter the second number\"))\n",
    "c = float(input(\"enter the third number\"))\n",
    "result = sorts_three_number(a,b,c)\n",
    "print(result)"
   ]
  },
  {
   "cell_type": "code",
   "execution_count": null,
   "id": "5ba0fb09-d3ec-48a1-96e0-e52411a9acc5",
   "metadata": {},
   "outputs": [],
   "source": [
    "#29. Build a program that determines the roots of a quartic equation using numerical methods."
   ]
  },
  {
   "cell_type": "code",
   "execution_count": 3,
   "id": "76c7e9d0-9a9f-4611-87e7-5859bf13b1cf",
   "metadata": {},
   "outputs": [
    {
     "name": "stdin",
     "output_type": "stream",
     "text": [
      "enter the value 2\n",
      "enter the value 10\n",
      "enter the value 3\n"
     ]
    },
    {
     "name": "stdout",
     "output_type": "stream",
     "text": [
      "(-0.320550528229663, -4.6794494717703365)\n"
     ]
    }
   ],
   "source": [
    "import math \n",
    "def quadratic_equation(a,b,c):\n",
    "    discriminant = b**2 - 4*a*c\n",
    "    if discriminant >=0:\n",
    "        root1 = (-b + math.sqrt(discriminant)) / (2*a)\n",
    "        root2 = (-b - math.sqrt(discriminant)) / (2*a)\n",
    "        return root1,  root2\n",
    "    else:\n",
    "        return \"No real roots\"\n",
    "a = int(input(\"enter the value\"))\n",
    "b = int(input(\"enter the value\"))\n",
    "c = int(input(\"enter the value\"))\n",
    "roots = quadratic_equation(a,b,c)\n",
    "print(roots)"
   ]
  },
  {
   "cell_type": "code",
   "execution_count": null,
   "id": "f159669e-aded-4ac8-935a-6f275f88f517",
   "metadata": {},
   "outputs": [],
   "source": [
    "#30. Write a program that calculates the BMI (Body Mass Index) and provides health recommendations based\n",
    "#on the user's input."
   ]
  },
  {
   "cell_type": "code",
   "execution_count": 2,
   "id": "91ec9323-773a-45ad-8555-3951ba022996",
   "metadata": {},
   "outputs": [
    {
     "name": "stdin",
     "output_type": "stream",
     "text": [
      "enter the value 60\n",
      "enter the value 170\n"
     ]
    },
    {
     "name": "stdout",
     "output_type": "stream",
     "text": [
      "underweight\n"
     ]
    }
   ],
   "source": [
    "def catagorize_bmi(weight, height):\n",
    "    bmi = weight / (height **2)\n",
    "    if bmi < 18.5:\n",
    "        return \"underweight\"\n",
    "    elif 18.5 <= bmi < 25:\n",
    "        return \"Normal weight\"\n",
    "    elif 25 <= bmi < 30:\n",
    "        return \"Overweight\"\n",
    "    else:\n",
    "        return \"Obese\"\n",
    "weight = float(input(\"enter the value\"))\n",
    "height = float(input(\"enter the value\"))\n",
    "result = catagorize_bmi(weight, height)\n",
    "print(result)"
   ]
  },
  {
   "cell_type": "code",
   "execution_count": null,
   "id": "4b42dd4f-bbc6-4a57-8a7b-c18831e2e23f",
   "metadata": {},
   "outputs": [],
   "source": [
    "#31. Create a program that validates a password based on complexity rules (length, characters, etc.)."
   ]
  },
  {
   "cell_type": "code",
   "execution_count": 1,
   "id": "20b5d756-1e0d-479a-a9b0-b18860465a88",
   "metadata": {},
   "outputs": [
    {
     "name": "stdin",
     "output_type": "stream",
     "text": [
      "Enter your password:  Abcd@1234\n"
     ]
    },
    {
     "name": "stdout",
     "output_type": "stream",
     "text": [
      "True\n"
     ]
    }
   ],
   "source": [
    "def is_valid_password(password):\n",
    "    if len(password) < 8:\n",
    "        return False\n",
    "    if not any(char.isupper() for char in password):\n",
    "        return False\n",
    "    if not any(char.islower() for char in password):\n",
    "        return False\n",
    "    if not any(char.isdigit() for char in password):\n",
    "        return False\n",
    "    special_character = \"!@#$%^&*()-_=+[]{}|;:'\\\",.<>/?\"\n",
    "    if not any(char in special_character for char in password):\n",
    "        return False\n",
    "    return True\n",
    "password = input(\"Enter your password: \")\n",
    "result = is_valid_password(password)\n",
    "print(result)"
   ]
  },
  {
   "cell_type": "code",
   "execution_count": null,
   "id": "1cab3687-5c47-4506-8f58-84b3a1cd972b",
   "metadata": {},
   "outputs": [],
   "source": [
    "#32. Develop a program that performs matrix addition and subtraction based on user input."
   ]
  },
  {
   "cell_type": "code",
   "execution_count": 22,
   "id": "18263656-02db-44c2-99fc-5ae148a7fd45",
   "metadata": {},
   "outputs": [
    {
     "name": "stdout",
     "output_type": "stream",
     "text": [
      "[[-4, -4], [-4, -4]]\n"
     ]
    }
   ],
   "source": [
    "def matrix_operation(matrix1, matrix2, operation):\n",
    "    rows1 = len(matrix1)\n",
    "    cols1 = len(matrix1[0])\n",
    "    rows2 = len(matrix2)\n",
    "    cols2 = len(matrix2[0])\n",
    "    if rows1 != rows2 or cols1 != cols2:\n",
    "        raise Valueerror(\"matrices must have the same dimentions.\")\n",
    "    result = []\n",
    "    for i in range(rows1):\n",
    "        row = []\n",
    "        for j in range(cols1):\n",
    "            if operation == \"add\":\n",
    "                row.append(matrix1[i][j] + matrix2[i][j])\n",
    "            elif operation ==\"subtract\":\n",
    "                row.append(matrix1[i][j] - matrix2[i][j])\n",
    "            else:\n",
    "                raise valueerror(\"Invalid operation. please choose 'add' or 'subtract'. \")\n",
    "        result.append(row)\n",
    "    return result \n",
    "matrix1 = [[1, 2], [3, 4]]\n",
    "matrix2 = [[5, 6], [7, 8]]\n",
    "operation = \"subtract\" # or \"subtract\"\n",
    "result = matrix_operation(matrix1, matrix2, operation)\n",
    "print(result)"
   ]
  },
  {
   "cell_type": "code",
   "execution_count": 23,
   "id": "413f890d-834b-4567-99f9-79eb8a3c6d97",
   "metadata": {},
   "outputs": [],
   "source": [
    "#33. Write a program that calculates the greatest common divisor (GCD) of two numbers using the Euclidean\n",
    "#algorithm."
   ]
  },
  {
   "cell_type": "code",
   "execution_count": 26,
   "id": "2caecea7-335d-4f14-af3f-ceb415a3e89d",
   "metadata": {},
   "outputs": [
    {
     "name": "stdin",
     "output_type": "stream",
     "text": [
      "enter the first number 40\n",
      "enter the second number 50\n"
     ]
    },
    {
     "name": "stdout",
     "output_type": "stream",
     "text": [
      "10\n"
     ]
    }
   ],
   "source": [
    "def gcd_of_euclidean(a, b):\n",
    "    while b != 0:\n",
    "        if a > b:\n",
    "            a = a - b\n",
    "        else:\n",
    "            b = b - a\n",
    "    return a\n",
    "a = int(input(\"enter the first number\"))\n",
    "b = int(input(\"enter the second number\"))\n",
    "result = gcd_of_euclidean(a, b)\n",
    "print(result)"
   ]
  },
  {
   "cell_type": "code",
   "execution_count": null,
   "id": "b2875d7e-1725-4f9a-9cb2-cc01594043b2",
   "metadata": {},
   "outputs": [],
   "source": [
    "#34. Build a program that performs matrix multiplication using nested loops and conditional statements."
   ]
  },
  {
   "cell_type": "code",
   "execution_count": 30,
   "id": "15505b80-78ec-44ff-9b86-01b376b0a6d3",
   "metadata": {},
   "outputs": [
    {
     "name": "stdin",
     "output_type": "stream",
     "text": [
      "enter the number of rows for the first matrix 2\n",
      "enter the number of columns for the first matrix 2\n",
      "enter the number of rows for the second matrix 2\n",
      "enter the number of columns for the second matrix 2\n"
     ]
    },
    {
     "name": "stdout",
     "output_type": "stream",
     "text": [
      "\n",
      "Enter elements for the first matrix:\n"
     ]
    },
    {
     "name": "stdin",
     "output_type": "stream",
     "text": [
      "enter element at position (1, 1 1\n",
      "enter element at position (1, 2 2\n",
      "enter element at position (2, 1 3\n",
      "enter element at position (2, 2 4\n"
     ]
    },
    {
     "name": "stdout",
     "output_type": "stream",
     "text": [
      "\n",
      "Enter elements for the second matrix:\n"
     ]
    },
    {
     "name": "stdin",
     "output_type": "stream",
     "text": [
      "enter element at position (1, 1 5\n",
      "enter element at position (1, 2 6\n",
      "enter element at position (2, 1 7\n",
      "enter element at position (2, 2 8\n"
     ]
    },
    {
     "name": "stdout",
     "output_type": "stream",
     "text": [
      "\n",
      "Matrix 1\n",
      "[1.0, 2.0]\n",
      "[3.0, 4.0]\n",
      "\n",
      "Matrix 2\n",
      "[5.0, 6.0]\n",
      "[7.0, 8.0]\n",
      "\n",
      "Matrix Multiplication Result\n",
      "[19.0, 22.0]\n",
      "[43.0, 50.0]\n"
     ]
    }
   ],
   "source": [
    "def matrix_multiplication(matrix1, matrix2):\n",
    "    result_matrix = []\n",
    "    rows1, cols1 = len(matrix1), len(matrix1[0])\n",
    "    rows2, cols2 = len(matrix2), len(matrix2[0])\n",
    "    if cols1 != rows2:\n",
    "        print(\"error: the number of columns in the first matrix must be equal to the number of rows in the second matrix\")\n",
    "        return None\n",
    "    else:\n",
    "        for i in range(rows1):\n",
    "            row = []\n",
    "            for j in range(cols2):\n",
    "                element_sum = 0\n",
    "                for k in range(cols1):\n",
    "                    element_sum += matrix1[i][k] * matrix2[k][j]\n",
    "                row.append(element_sum)\n",
    "            result_matrix.append(row)\n",
    "    return result_matrix\n",
    "def input_matrix(rows, cols):\n",
    "    matrix = []\n",
    "    for i in range(rows):\n",
    "        row = []\n",
    "        for j in range(cols):\n",
    "            element = float(input(f\"enter element at position ({i +1}, {j +1}\"))\n",
    "            row.append(element)\n",
    "        matrix.append(row)\n",
    "    return matrix\n",
    "def display_matrix(matrix, title):\n",
    "    print(f\"\\n{title}\")\n",
    "    for row in matrix:\n",
    "        print(row)\n",
    "rows1 = int(input(\"enter the number of rows for the first matrix\"))\n",
    "cols1 = int(input(\"enter the number of columns for the first matrix\"))\n",
    "rows2 = int(input(\"enter the number of rows for the second matrix\"))\n",
    "cols2 = int(input(\"enter the number of columns for the second matrix\"))        \n",
    "print(\"\\nEnter elements for the first matrix:\")\n",
    "matrix1 = input_matrix(rows1, cols1)\n",
    "print(\"\\nEnter elements for the second matrix:\")\n",
    "matrix2 = input_matrix(rows2, cols2)\n",
    "result_matrix = matrix_multiplication(matrix1, matrix2)\n",
    "if result_matrix is not None:\n",
    "    display_matrix(matrix1, \"Matrix 1\")\n",
    "    display_matrix(matrix2, \"Matrix 2\")\n",
    "    display_matrix(result_matrix, \"Matrix Multiplication Result\")"
   ]
  },
  {
   "cell_type": "code",
   "execution_count": null,
   "id": "d2cd1c11-92b0-43ce-9037-59c52de41cf4",
   "metadata": {},
   "outputs": [],
   "source": [
    "#35. Create a program that simulates a basic text-based tic-tac-toe game against the computer."
   ]
  },
  {
   "cell_type": "code",
   "execution_count": null,
   "id": "5f43a075-81a5-47b1-b530-6720470bcaa0",
   "metadata": {},
   "outputs": [],
   "source": [
    "#36. Write a program that generates Fibonacci numbers up to a specified term using iterative methods."
   ]
  },
  {
   "cell_type": "code",
   "execution_count": 32,
   "id": "40d347e6-fb29-4ba2-9bbe-53bdd6fea550",
   "metadata": {},
   "outputs": [
    {
     "name": "stdin",
     "output_type": "stream",
     "text": [
      "Enter the number of Fibonacci terms to generate:  6\n"
     ]
    },
    {
     "name": "stdout",
     "output_type": "stream",
     "text": [
      "Fibonacci sequence up to term 6: [0, 1, 1, 2, 3, 5]\n"
     ]
    }
   ],
   "source": [
    "def generate_fibonacci(n):\n",
    "    fibonacci_sequence = [0, 1]\n",
    "    if n == 1:\n",
    "        return [0]\n",
    "    elif n == 2:\n",
    "        return fibonacci_sequence\n",
    "    while len(fibonacci_sequence) < n:\n",
    "        next_term = fibonacci_sequence[-1] + fibonacci_sequence[-2]\n",
    "        fibonacci_sequence.append(next_term)\n",
    "    return fibonacci_sequence\n",
    "n = int(input(\"Enter the number of Fibonacci terms to generate: \"))\n",
    "fibonacci_sequence = generate_fibonacci(n)\n",
    "print(f\"Fibonacci sequence up to term {n}: {fibonacci_sequence}\")\n"
   ]
  },
  {
   "cell_type": "code",
   "execution_count": null,
   "id": "de049d2a-628e-4e5b-8598-a93a36b6630b",
   "metadata": {},
   "outputs": [],
   "source": [
    "#37. Develop a program that calculates the nth term of the Fibonacci sequence using memoization."
   ]
  },
  {
   "cell_type": "code",
   "execution_count": 33,
   "id": "de4887d9-e651-4f3c-83cc-32f589b09a48",
   "metadata": {},
   "outputs": [
    {
     "name": "stdin",
     "output_type": "stream",
     "text": [
      "Enter the value of n for the nth Fibonacci term:  6\n"
     ]
    },
    {
     "name": "stdout",
     "output_type": "stream",
     "text": [
      "The 6th term of the Fibonacci sequence is: 8\n"
     ]
    }
   ],
   "source": [
    "def fibonacci_memo(n, memo={}):\n",
    "    if n in memo:\n",
    "        return memo[n]\n",
    "    if n <= 1:\n",
    "        return n\n",
    "    else:\n",
    "        result = fibonacci_memo(n - 1, memo) + fibonacci_memo(n - 2, memo)\n",
    "        memo[n] = result\n",
    "        return result\n",
    "n = int(input(\"Enter the value of n for the nth Fibonacci term: \"))\n",
    "result = fibonacci_memo(n)\n",
    "print(f\"The {n}th term of the Fibonacci sequence is: {result}\")"
   ]
  },
  {
   "cell_type": "code",
   "execution_count": null,
   "id": "b144c423-527e-426d-bf05-6094abfbb713",
   "metadata": {},
   "outputs": [],
   "source": [
    "#38. Create a program that generates a calendar for a given month and year using conditional statements."
   ]
  },
  {
   "cell_type": "code",
   "execution_count": 1,
   "id": "aa7fd8cd-a096-4189-8819-0aa21e64c1f9",
   "metadata": {},
   "outputs": [
    {
     "name": "stdin",
     "output_type": "stream",
     "text": [
      "Enter the year:  2024\n",
      "Enter the month (1-12):  1\n"
     ]
    },
    {
     "name": "stdout",
     "output_type": "stream",
     "text": [
      "\n",
      "Calendar for January 2024:\n",
      "\n",
      " Mo Tu We Th Fr Sa Su\n",
      " 1  2  3  4  5  6  7 \n",
      " 8  9 10 11 12 13 14 \n",
      "15 16 17 18 19 20 21 \n",
      "22 23 24 25 26 27 28 \n",
      "29 30 31             \n"
     ]
    }
   ],
   "source": [
    "import calendar\n",
    "def generate_calendar(year, month):\n",
    "    cal = calendar.monthcalendar(year, month)\n",
    "    print(f\"\\nCalendar for {calendar.month_name[month]} {year}:\\n\")\n",
    "    print(\" Mo Tu We Th Fr Sa Su\")\n",
    "    for week in cal:\n",
    "        week_str = \"\"\n",
    "        for day in week:\n",
    "            if day == 0:\n",
    "                week_str += \"   \"\n",
    "            else:\n",
    "                week_str += f\"{day:2} \"\n",
    "        print(week_str)\n",
    "year = int(input(\"Enter the year: \"))\n",
    "month = int(input(\"Enter the month (1-12): \"))\n",
    "if 1 <= month <= 12:\n",
    "    generate_calendar(year, month)\n",
    "else:\n",
    "    print(\"Invalid month. Please enter a number between 1 and 12.\")"
   ]
  },
  {
   "cell_type": "code",
   "execution_count": null,
   "id": "1ed002e9-66d2-41f5-9e08-08471072c814",
   "metadata": {},
   "outputs": [],
   "source": [
    "#39. Build a program that simulates a basic text-based blackjack game against the computer."
   ]
  },
  {
   "cell_type": "code",
   "execution_count": null,
   "id": "d8869dd4-e0db-4bf1-bd07-aa4ab8e33014",
   "metadata": {},
   "outputs": [],
   "source": [
    "#40. Write a program that generates the prime factors of a given number using trial division."
   ]
  },
  {
   "cell_type": "code",
   "execution_count": 5,
   "id": "1f2c1c42-ea1a-4dc1-90a1-d5ec6f200b42",
   "metadata": {},
   "outputs": [
    {
     "name": "stdout",
     "output_type": "stream",
     "text": [
      "[2, 2, 5]\n"
     ]
    }
   ],
   "source": [
    "def prime_factors(n):\n",
    "    prime_factors = []\n",
    "    divisor = 2\n",
    "    while n > 1:\n",
    "        if n % divisor == 0:\n",
    "            prime_factors.append(divisor)\n",
    "            n //= divisor\n",
    "        else:\n",
    "            divisor +=1 \n",
    "            if divisor * divisor > n:\n",
    "                prime_factors.append(n)\n",
    "                break\n",
    "    return prime_factors\n",
    "n = 20\n",
    "result = prime_factors(n)\n",
    "print(result)"
   ]
  }
 ],
 "metadata": {
  "kernelspec": {
   "display_name": "Python 3 (ipykernel)",
   "language": "python",
   "name": "python3"
  },
  "language_info": {
   "codemirror_mode": {
    "name": "ipython",
    "version": 3
   },
   "file_extension": ".py",
   "mimetype": "text/x-python",
   "name": "python",
   "nbconvert_exporter": "python",
   "pygments_lexer": "ipython3",
   "version": "3.10.8"
  }
 },
 "nbformat": 4,
 "nbformat_minor": 5
}
