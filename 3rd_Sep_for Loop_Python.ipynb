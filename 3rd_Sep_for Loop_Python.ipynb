{
 "cells": [
  {
   "cell_type": "code",
   "execution_count": null,
   "id": "786d65a6-0790-43bb-8e1a-dcbd9a1424bb",
   "metadata": {},
   "outputs": [],
   "source": [
    "#1. Write a Python program to print the numbers from 1 to 10 using a `for` loop."
   ]
  },
  {
   "cell_type": "code",
   "execution_count": 9,
   "id": "47a377cb-fd73-43f6-9765-96630ca8c9f2",
   "metadata": {},
   "outputs": [
    {
     "name": "stdout",
     "output_type": "stream",
     "text": [
      "1\n",
      "2\n",
      "3\n",
      "4\n",
      "5\n",
      "6\n",
      "7\n",
      "8\n",
      "9\n",
      "10\n"
     ]
    }
   ],
   "source": [
    "for i in range(1,11):\n",
    "    print(i)"
   ]
  },
  {
   "cell_type": "code",
   "execution_count": null,
   "id": "01e517b2-77ac-4e17-9615-a41933e5e11c",
   "metadata": {},
   "outputs": [],
   "source": [
    "#2. Create a program that calculates the sum of all numbers in a list using a `for` loop."
   ]
  },
  {
   "cell_type": "code",
   "execution_count": null,
   "id": "91f45361-f5c6-4af5-afe9-5f78338bc3a4",
   "metadata": {},
   "outputs": [],
   "source": [
    "total = 0\n",
    "for i in range (1,11):\n",
    "    total += i\n",
    "print(total)"
   ]
  },
  {
   "cell_type": "code",
   "execution_count": null,
   "id": "d4a9179b-674a-4baa-9d35-8b2f5c598510",
   "metadata": {},
   "outputs": [],
   "source": [
    "#3. Write a program to print the characters of a string in reverse order using a `for` loop."
   ]
  },
  {
   "cell_type": "code",
   "execution_count": 6,
   "id": "04be2b39-c1aa-4dc4-97bf-7705aff82326",
   "metadata": {},
   "outputs": [
    {
     "name": "stdout",
     "output_type": "stream",
     "text": [
      "sllikswp\n"
     ]
    }
   ],
   "source": [
    "string = \"pwskills\"\n",
    "rev_string = \"\"\n",
    "for char in string:\n",
    "    rev_string = char + rev_string \n",
    "print(rev_string)"
   ]
  },
  {
   "cell_type": "code",
   "execution_count": null,
   "id": "e6c91fdd-2830-4956-9244-f27344d97971",
   "metadata": {},
   "outputs": [],
   "source": [
    "#4. Develop a program that finds the factorial of a given number using a `for` loop."
   ]
  },
  {
   "cell_type": "code",
   "execution_count": 15,
   "id": "e7d14e50-feeb-4b10-9bd2-59860399df07",
   "metadata": {},
   "outputs": [
    {
     "name": "stdin",
     "output_type": "stream",
     "text": [
      "enter the number 9\n"
     ]
    },
    {
     "name": "stdout",
     "output_type": "stream",
     "text": [
      "362880\n"
     ]
    }
   ],
   "source": [
    "number = int(input(\"enter the number\"))\n",
    "factorial = 1\n",
    "if number == 0:\n",
    "    print ('factorial is 1')\n",
    "else:\n",
    "    for i in range (1, number + 1):\n",
    "        factorial *= i\n",
    "print(factorial)\n",
    "    "
   ]
  },
  {
   "cell_type": "code",
   "execution_count": null,
   "id": "daa2466c-4eb4-4c0f-85cc-05148555b5fb",
   "metadata": {},
   "outputs": [],
   "source": [
    "#5. Create a program to print the multiplication table of a given number using a `for` loop."
   ]
  },
  {
   "cell_type": "code",
   "execution_count": 4,
   "id": "f3c6b2bb-7371-49a7-9688-35e379563eed",
   "metadata": {},
   "outputs": [
    {
     "name": "stdin",
     "output_type": "stream",
     "text": [
      "enter the number 12\n"
     ]
    },
    {
     "name": "stdout",
     "output_type": "stream",
     "text": [
      "multiplication table for 12:\n",
      "12 * 1 = 12\n",
      "12 * 2 = 24\n",
      "12 * 3 = 36\n",
      "12 * 4 = 48\n",
      "12 * 5 = 60\n",
      "12 * 6 = 72\n",
      "12 * 7 = 84\n",
      "12 * 8 = 96\n",
      "12 * 9 = 108\n",
      "12 * 10 = 120\n"
     ]
    }
   ],
   "source": [
    "number = int(input(\"enter the number\"))\n",
    "if number == 0:\n",
    "    print(\"multiplication_table is 0\")\n",
    "else:\n",
    "    print(f\"multiplication table for {number}:\")\n",
    "    for i in range(1,11):\n",
    "        result = number*i\n",
    "        print(f\"{number} * {i} = {result}\")"
   ]
  },
  {
   "cell_type": "code",
   "execution_count": null,
   "id": "57240206-23b6-4c85-82b4-2c228faae0f1",
   "metadata": {},
   "outputs": [],
   "source": [
    "#6. Write a program that counts the number of even and odd numbers in a list using a `for` loop."
   ]
  },
  {
   "cell_type": "code",
   "execution_count": 16,
   "id": "adf24503-6a78-4117-a6c7-0cb2e43d73d5",
   "metadata": {},
   "outputs": [
    {
     "name": "stdout",
     "output_type": "stream",
     "text": [
      "even number is in the list:  7\n",
      "odd number is in the list:  6\n"
     ]
    }
   ],
   "source": [
    "list = [1,2,3,4,5,6,7,8,9,10,88,243,44]\n",
    "even_count , odd_count = 0, 0\n",
    "for num in list:\n",
    "    if num%2==0:\n",
    "        even_count += 1\n",
    "    else:\n",
    "        odd_count += 1\n",
    "print(\"even number is in the list: \", even_count)\n",
    "print(\"odd number is in the list: \", odd_count)"
   ]
  },
  {
   "cell_type": "code",
   "execution_count": null,
   "id": "fb5f7bdf-413e-4a97-b505-3c9e9e0a9df1",
   "metadata": {},
   "outputs": [],
   "source": [
    "#7. Develop a program that prints the squares of numbers from 1 to 5 using a `for` loop."
   ]
  },
  {
   "cell_type": "code",
   "execution_count": 1,
   "id": "519a3c06-18fb-4307-be55-83028aecd8dd",
   "metadata": {},
   "outputs": [],
   "source": [
    "def calculate_sqare(n):\n",
    "    squares_sum = 0\n",
    "    for i in range(1,n+1):\n",
    "        squares_sum += i*i\n",
    "    return squares_sum"
   ]
  },
  {
   "cell_type": "code",
   "execution_count": 2,
   "id": "41224fe7-81fc-4f06-97fb-3fcf485a8a20",
   "metadata": {},
   "outputs": [
    {
     "name": "stdout",
     "output_type": "stream",
     "text": [
      "55\n"
     ]
    }
   ],
   "source": [
    "print(calculate_sqare(5))"
   ]
  },
  {
   "cell_type": "code",
   "execution_count": null,
   "id": "80e1fe3e-472d-4500-b780-9c84522bcdb8",
   "metadata": {},
   "outputs": [],
   "source": [
    "#8.Create a program to find the length of a string without using the `len()` function."
   ]
  },
  {
   "cell_type": "code",
   "execution_count": 3,
   "id": "f5220392-25d6-46a8-864e-5d15987eaaeb",
   "metadata": {},
   "outputs": [
    {
     "data": {
      "text/plain": [
       "8"
      ]
     },
     "execution_count": 3,
     "metadata": {},
     "output_type": "execute_result"
    }
   ],
   "source": [
    "string = \"pwskills\"\n",
    "len(string)"
   ]
  },
  {
   "cell_type": "code",
   "execution_count": 10,
   "id": "8024137f-ac19-4748-8539-6b39a8a9d9fc",
   "metadata": {},
   "outputs": [
    {
     "name": "stdout",
     "output_type": "stream",
     "text": [
      "8\n"
     ]
    }
   ],
   "source": [
    "string = \"pwskills\"\n",
    "count = 0\n",
    "for char in string:\n",
    "    count += 1\n",
    "print(count)"
   ]
  },
  {
   "cell_type": "code",
   "execution_count": null,
   "id": "de9b8859-77e2-49ea-9438-e435bdf54131",
   "metadata": {},
   "outputs": [],
   "source": [
    "#9.Write a program that calculates the average of a list of numbers using a `for` loop."
   ]
  },
  {
   "cell_type": "code",
   "execution_count": 17,
   "id": "38fff7ae-381a-491b-8ae5-49ecac68c37d",
   "metadata": {},
   "outputs": [
    {
     "name": "stdout",
     "output_type": "stream",
     "text": [
      "74.15384615384616\n"
     ]
    }
   ],
   "source": [
    "list = [4,6,454,67,65,78,5,34,21,45,98,55,32]\n",
    "avg = 0\n",
    "for i in list:\n",
    "    avg += i #sum of the list\n",
    "avg = avg/len(list) #formula for avg\n",
    "print(avg)"
   ]
  },
  {
   "cell_type": "code",
   "execution_count": null,
   "id": "c821b762-51b2-4257-bf42-c49987f4377d",
   "metadata": {},
   "outputs": [],
   "source": [
    "#10. Develop a program that prints the first `n` Fibonacci numbers using a `for` loop."
   ]
  },
  {
   "cell_type": "code",
   "execution_count": 28,
   "id": "504e3216-3a1b-4210-beda-d532fc7eb3a9",
   "metadata": {},
   "outputs": [
    {
     "name": "stdout",
     "output_type": "stream",
     "text": [
      "[]\n"
     ]
    }
   ],
   "source": [
    "n = 10\n",
    "fibonacci_numbers = [] \n",
    "num1, num2 = 0,1\n",
    "for i in range(n):\n",
    "    fibonacci_numbers.append(num1)  # Append current Fibonacci number to the list\n",
    "    next_num = num1 + num2  # Calculate next Fibonacci number\n",
    "    num1, num2 = num2, next_num  # Update numbers for next iteration\n",
    "print(fibonacci_number)"
   ]
  },
  {
   "cell_type": "code",
   "execution_count": 27,
   "id": "db8f8685-20ee-414d-ab13-14d63b2f49c4",
   "metadata": {},
   "outputs": [
    {
     "name": "stdout",
     "output_type": "stream",
     "text": [
      "[0, 1, 1, 2, 3, 5, 8, 13, 21, 34]\n"
     ]
    }
   ],
   "source": [
    "n = 10  # Define the number of Fibonacci numbers to generate\n",
    "\n",
    "fibonacci_numbers = []  # Initialize an empty list to store Fibonacci sequence\n",
    "num1, num2 = 0, 1  # Initialize first two numbers of the sequence\n",
    "\n",
    "for i in range(n):\n",
    "    fibonacci_numbers.append(num1)  # Append current Fibonacci number to the list\n",
    "    next_num = num1 + num2  # Calculate next Fibonacci number\n",
    "    num1, num2 = num2, next_num  # Update numbers for next iteration\n",
    "\n",
    "print(fibonacci_numbers)"
   ]
  },
  {
   "cell_type": "code",
   "execution_count": 35,
   "id": "d32f81d6-3170-4f61-91b4-4fb8005f832e",
   "metadata": {},
   "outputs": [],
   "source": [
    "#11. Write a program to check if a given list contains any duplicates using a `for` loop."
   ]
  },
  {
   "cell_type": "code",
   "execution_count": 4,
   "id": "ce30109a-7055-4b83-9fbe-757a46b7205b",
   "metadata": {},
   "outputs": [
    {
     "name": "stdout",
     "output_type": "stream",
     "text": [
      "[11, 22, 2, 8, 2, 8, 8, 11, 22]\n"
     ]
    }
   ],
   "source": [
    "list = [11,22,2,3,8,4,89,67,56,2, 8,7,8,45,11, 22]\n",
    "duplicate_list = []\n",
    "for i in list:\n",
    "    if list.count(i) >1:\n",
    "        duplicate_list.append(i)\n",
    "print(duplicate_list)\n"
   ]
  },
  {
   "cell_type": "code",
   "execution_count": null,
   "id": "38a8a148-c8f4-477d-81a3-b71ad414d68a",
   "metadata": {},
   "outputs": [],
   "source": [
    "#12. Create a program that prints the prime numbers in a given range using a `for` loop."
   ]
  },
  {
   "cell_type": "code",
   "execution_count": 13,
   "id": "9de417b9-d15d-4cee-af15-4546686a206b",
   "metadata": {},
   "outputs": [
    {
     "name": "stdout",
     "output_type": "stream",
     "text": [
      "1,3,5,7,9,11,13,15,17,19,"
     ]
    }
   ],
   "source": [
    "list = range(1,20)\n",
    "prime_list = []\n",
    "for i in list:\n",
    "    if i%2!=0:\n",
    "        prime_list.append(i)\n",
    "for number in prime_list:\n",
    "    print(number,end=\",\")\n",
    "        \n",
    "\n"
   ]
  },
  {
   "cell_type": "code",
   "execution_count": null,
   "id": "772c2f04-70ac-4d23-908c-96b6d9a3b84f",
   "metadata": {},
   "outputs": [],
   "source": [
    "#13. Develop a program that counts the number of vowels in a string using a `for` loop."
   ]
  },
  {
   "cell_type": "code",
   "execution_count": 22,
   "id": "454e0bc3-b04f-406c-81ca-f4b55a52205d",
   "metadata": {},
   "outputs": [
    {
     "name": "stdout",
     "output_type": "stream",
     "text": [
      "The number of vowels in a string: 12\n"
     ]
    }
   ],
   "source": [
    "string = \"I am practicing python and doing assignments\"\n",
    "string_vowels = \"aeiouAEIOU\"\n",
    "vowels_count = 0\n",
    "for i in string:\n",
    "    if i in string_vowels:\n",
    "        vowels_count += 1\n",
    "print(\"The number of vowels in a string:\",vowels_count)        \n"
   ]
  },
  {
   "cell_type": "code",
   "execution_count": null,
   "id": "b8a5a63a-08f1-486f-a761-26e379d0658c",
   "metadata": {},
   "outputs": [],
   "source": [
    "#14. Write a program to find the maximum element in a 2D list using a nested `for` loop."
   ]
  },
  {
   "cell_type": "code",
   "execution_count": 7,
   "id": "26295b13-6fd0-4683-88b7-e549b013e819",
   "metadata": {},
   "outputs": [
    {
     "name": "stdout",
     "output_type": "stream",
     "text": [
      "9\n"
     ]
    }
   ],
   "source": [
    "list_2d = [[1,2,3,4,5], [2,7,9,6], [3,4,6,9], [3,7,8,9]]\n",
    "product = list_2d[0][0]\n",
    "for i in list_2d:\n",
    "    for j in i:\n",
    "        if j > product:\n",
    "            product = j\n",
    "print(product)"
   ]
  },
  {
   "cell_type": "code",
   "execution_count": null,
   "id": "dc33ad77-eec2-431a-a515-fd845e857cd8",
   "metadata": {},
   "outputs": [],
   "source": [
    "#15. Create a program that removes all occurrences of a specific element from a list using a `for` loop."
   ]
  },
  {
   "cell_type": "code",
   "execution_count": 15,
   "id": "731688d3-1ecc-4fbd-a197-b2d30bd72e0c",
   "metadata": {},
   "outputs": [
    {
     "name": "stdout",
     "output_type": "stream",
     "text": [
      "[1]\n"
     ]
    }
   ],
   "source": [
    "my_list = [1,2,3,4,5,6,7,8,9,2,3,4,8,9,12,45]\n",
    "new_list = []\n",
    "char = 1\n",
    "for i in my_list:\n",
    "    if char == i:\n",
    "        new_list.append(i)\n",
    "print(new_list)    "
   ]
  },
  {
   "cell_type": "code",
   "execution_count": null,
   "id": "562b0900-732d-4f8f-8886-85207a33b99c",
   "metadata": {},
   "outputs": [],
   "source": [
    "#16. Develop a program that generates a multiplication table for numbers from 1 to 5 using a nested `for` loop."
   ]
  },
  {
   "cell_type": "code",
   "execution_count": 2,
   "id": "d3ed4790-a59f-4e98-ad64-66c57a7b170b",
   "metadata": {},
   "outputs": [
    {
     "ename": "SyntaxError",
     "evalue": "unterminated string literal (detected at line 3) (2476876584.py, line 3)",
     "output_type": "error",
     "traceback": [
      "\u001b[0;36m  Cell \u001b[0;32mIn[2], line 3\u001b[0;36m\u001b[0m\n\u001b[0;31m    print(\"Multipilaction Table for: i)\u001b[0m\n\u001b[0m          ^\u001b[0m\n\u001b[0;31mSyntaxError\u001b[0m\u001b[0;31m:\u001b[0m unterminated string literal (detected at line 3)\n"
     ]
    }
   ],
   "source": [
    "number = range(1,5)\n",
    "for i in number:\n",
    "    print(\"Multipilaction Table for: i)\n",
    "    for j in range (1,11):\n",
    "        product = i * j\n",
    "        print(i * j = product)\n",
    "    print()    "
   ]
  },
  {
   "cell_type": "code",
   "execution_count": 12,
   "id": "f3ad2714-033f-49ef-959a-650a81b7ac50",
   "metadata": {},
   "outputs": [
    {
     "name": "stdout",
     "output_type": "stream",
     "text": [
      "Multiplication table for 1:\n",
      "1 x 1 = 1\n",
      "1 x 2 = 2\n",
      "1 x 3 = 3\n",
      "1 x 4 = 4\n",
      "1 x 5 = 5\n",
      "1 x 6 = 6\n",
      "1 x 7 = 7\n",
      "1 x 8 = 8\n",
      "1 x 9 = 9\n",
      "1 x 10 = 10\n",
      "\n",
      "Multiplication table for 2:\n",
      "2 x 1 = 2\n",
      "2 x 2 = 4\n",
      "2 x 3 = 6\n",
      "2 x 4 = 8\n",
      "2 x 5 = 10\n",
      "2 x 6 = 12\n",
      "2 x 7 = 14\n",
      "2 x 8 = 16\n",
      "2 x 9 = 18\n",
      "2 x 10 = 20\n",
      "\n",
      "Multiplication table for 3:\n",
      "3 x 1 = 3\n",
      "3 x 2 = 6\n",
      "3 x 3 = 9\n",
      "3 x 4 = 12\n",
      "3 x 5 = 15\n",
      "3 x 6 = 18\n",
      "3 x 7 = 21\n",
      "3 x 8 = 24\n",
      "3 x 9 = 27\n",
      "3 x 10 = 30\n",
      "\n",
      "Multiplication table for 4:\n",
      "4 x 1 = 4\n",
      "4 x 2 = 8\n",
      "4 x 3 = 12\n",
      "4 x 4 = 16\n",
      "4 x 5 = 20\n",
      "4 x 6 = 24\n",
      "4 x 7 = 28\n",
      "4 x 8 = 32\n",
      "4 x 9 = 36\n",
      "4 x 10 = 40\n",
      "\n",
      "Multiplication table for 5:\n",
      "5 x 1 = 5\n",
      "5 x 2 = 10\n",
      "5 x 3 = 15\n",
      "5 x 4 = 20\n",
      "5 x 5 = 25\n",
      "5 x 6 = 30\n",
      "5 x 7 = 35\n",
      "5 x 8 = 40\n",
      "5 x 9 = 45\n",
      "5 x 10 = 50\n",
      "\n"
     ]
    }
   ],
   "source": [
    "for i in range(1, 6):  # Outer loop for the multiplicand (1 to 5)\n",
    "    print(f\"Multiplication table for {i}:\")\n",
    "    for j in range(1, 11):  # Inner loop for the multiplier (1 to 10)\n",
    "        product = i * j  # Calculate the product\n",
    "        print(f\"{i} x {j} = {product}\")\n",
    "    print()  # Print an empty line for visual separation between tables"
   ]
  },
  {
   "cell_type": "code",
   "execution_count": null,
   "id": "262407d9-1325-429a-ae8c-b3cb14118c50",
   "metadata": {},
   "outputs": [],
   "source": [
    "#17. Write a program that converts a list of Fahrenheit temperatures to Celsius using a `for` loop."
   ]
  },
  {
   "cell_type": "code",
   "execution_count": 6,
   "id": "bbec46cb-96e4-4a35-87f1-2a5a9e89a409",
   "metadata": {},
   "outputs": [
    {
     "name": "stdout",
     "output_type": "stream",
     "text": [
      "[37.77777777777778, 38.888888888888886, 41.111111111111114, 42.22222222222222, 43.333333333333336, 36.666666666666664, 36.111111111111114, 33.888888888888886]\n"
     ]
    }
   ],
   "source": [
    "fah_tem = [100,102,106,108,110,98,97,93]\n",
    "cel_tem = []\n",
    "for i in fah_tem:\n",
    "    cel = (i - 32) * 5/9\n",
    "    cel_tem.append(cel)\n",
    "print(cel_tem)"
   ]
  },
  {
   "cell_type": "code",
   "execution_count": null,
   "id": "691abb7c-e357-4006-9123-e5292c30fe3f",
   "metadata": {},
   "outputs": [],
   "source": [
    "#18. Create a program to print the common elements from two lists using a `for` loop."
   ]
  },
  {
   "cell_type": "code",
   "execution_count": 11,
   "id": "a3bbbbc6-1987-40d8-b1ab-7bbb9128ee33",
   "metadata": {},
   "outputs": [
    {
     "name": "stdout",
     "output_type": "stream",
     "text": [
      "[6, 8, 9, 3]\n"
     ]
    }
   ],
   "source": [
    "list1 = [2,4,6,8,9,3]\n",
    "list2 = [3,8,6,9,1,3]\n",
    "common_list = []\n",
    "for i in list1:\n",
    "    if i in list2:\n",
    "        common_list.append(i)\n",
    "print(common_list)"
   ]
  },
  {
   "cell_type": "code",
   "execution_count": null,
   "id": "f52628d7-7b49-4c5a-8346-245ccd564aa6",
   "metadata": {},
   "outputs": [],
   "source": [
    "#19. Develop a program that prints the pattern of right-angled triangles using a `for` loop. Use ‘*’ to draw the pattern"
   ]
  },
  {
   "cell_type": "code",
   "execution_count": 10,
   "id": "c9631976-a68b-4540-b1ae-e76ca01fc75b",
   "metadata": {},
   "outputs": [
    {
     "name": "stdin",
     "output_type": "stream",
     "text": [
      "enter the row number 5\n"
     ]
    },
    {
     "name": "stdout",
     "output_type": "stream",
     "text": [
      "*\n",
      "**\n",
      "***\n",
      "****\n",
      "*****\n"
     ]
    }
   ],
   "source": [
    "star = int(input(\"enter the row number\"))\n",
    "for i in range(star):\n",
    "    for j in range(i+1):\n",
    "        print(\"*\",end=\"\")\n",
    "    print(\"\")"
   ]
  },
  {
   "cell_type": "code",
   "execution_count": null,
   "id": "9fef9c27-a3fa-482b-bcd4-a8a1499e26be",
   "metadata": {},
   "outputs": [],
   "source": [
    "#20. Write a program to find the greatest common divisor (GCD) of two numbers using a `for` loop."
   ]
  },
  {
   "cell_type": "code",
   "execution_count": 12,
   "id": "672e2258-e5ef-4089-b35c-f878a834c88f",
   "metadata": {},
   "outputs": [
    {
     "name": "stdout",
     "output_type": "stream",
     "text": [
      "The GCD of (num1) and 50 is: 10\n"
     ]
    }
   ],
   "source": [
    "def greatest_common_divisor(a,b):\n",
    "    gcd = 1\n",
    "    for i in range(1, min(a, b) + 1):\n",
    "        if a % i == 0 and b % i ==0:\n",
    "            gcd = i\n",
    "    return gcd\n",
    "num1 = 20\n",
    "num2 = 50\n",
    "\n",
    "result = greatest_common_divisor(num1, num2)\n",
    "print(f\"The GCD of {num1} and {num2} is: {result}\")\n"
   ]
  },
  {
   "cell_type": "code",
   "execution_count": null,
   "id": "c5650040-ffb5-4228-9d48-eb44d9d82926",
   "metadata": {},
   "outputs": [],
   "source": [
    "#21. Create a program that calculates the sum of the digits of numbers in a list using a list comprehension."
   ]
  },
  {
   "cell_type": "code",
   "execution_count": 1,
   "id": "0199ae6e-1754-4bb0-9534-e9da5c6fee48",
   "metadata": {},
   "outputs": [
    {
     "name": "stdout",
     "output_type": "stream",
     "text": [
      "[6, 22, 27, 29, 12, 17]\n"
     ]
    }
   ],
   "source": [
    "list1 = [123, 4747, 44847, 46487, 408, 890]\n",
    "list2 = []\n",
    "for i in list1:\n",
    "    sum_digits = sum(int(digit) for digit in str(i))  # Calculate sum of digits for each number\n",
    "    list2.append(sum_digits)\n",
    "print(list2)\n"
   ]
  },
  {
   "cell_type": "code",
   "execution_count": null,
   "id": "9ced91ee-ded1-4810-b889-f0944ccfcb20",
   "metadata": {},
   "outputs": [],
   "source": [
    "#22. Write a program to find the prime factors of a given number using a `for` loop and list comprehension."
   ]
  },
  {
   "cell_type": "code",
   "execution_count": 5,
   "id": "94bc1d0a-bc49-44dc-a829-e1bddaad37ae",
   "metadata": {},
   "outputs": [
    {
     "name": "stdout",
     "output_type": "stream",
     "text": [
      "Prime factors of 100 : [2, 5, 10]\n"
     ]
    }
   ],
   "source": [
    "def prime_factors(n):\n",
    "    if n <= 1:\n",
    "        return[]\n",
    "    factor = [i for i in range (2, int(n**0.5)+1) if n%i == 0]\n",
    "    prime_factors_list = []\n",
    "    for j in factor:\n",
    "        if n % j == 0:\n",
    "            prime_factors_list.append(j)\n",
    "            n //= j\n",
    "    if n > 1:\n",
    "        prime_factors_list.append(n)\n",
    "    return prime_factors_list\n",
    "number = 100\n",
    "prime_factors_list = prime_factors(number)\n",
    "print(\"Prime factors of\", number, \":\", prime_factors_list)"
   ]
  },
  {
   "cell_type": "code",
   "execution_count": null,
   "id": "dff1b633-7058-4a7d-b73d-5a79c2572b10",
   "metadata": {},
   "outputs": [],
   "source": [
    "#23. Develop a program that extracts unique elements from a list and stores them in a new list using a list comprehension."
   ]
  },
  {
   "cell_type": "code",
   "execution_count": 8,
   "id": "64506c67-6ee0-419f-ba5e-3d2c1a024474",
   "metadata": {},
   "outputs": [
    {
     "name": "stdout",
     "output_type": "stream",
     "text": [
      "[1, 2, 3, 4, 5, 6, 7, 8, 9]\n"
     ]
    }
   ],
   "source": [
    "def unique_list(list1):\n",
    "    unique = [i for i in set(list1)]\n",
    "    return unique\n",
    "\n",
    "list1 = [1,2,3,4,5,6,7,8,9,4,5,6,2]\n",
    "unique = unique_list(list1)\n",
    "print(unique)\n",
    "    "
   ]
  },
  {
   "cell_type": "code",
   "execution_count": null,
   "id": "135ca7af-620e-4a68-9f2f-bd22dff75878",
   "metadata": {},
   "outputs": [],
   "source": [
    "#24. Create a program that generates a list of all palindromic numbers up to a specified limit using a list comprehension."
   ]
  },
  {
   "cell_type": "code",
   "execution_count": 18,
   "id": "8e1d4b8e-0bb5-4dd6-8ca8-0a3c54909d72",
   "metadata": {},
   "outputs": [
    {
     "name": "stdout",
     "output_type": "stream",
     "text": [
      "[1, 2, 3, 4, 5, 6, 7, 8, 9, 11, 22, 33, 44, 55, 66, 77, 88, 99, 101, 111, 121, 131, 141, 151, 161, 171, 181, 191, 202, 212, 222, 232, 242, 252, 262, 272, 282, 292, 303, 313, 323, 333, 343, 353, 363, 373, 383, 393, 404, 414, 424, 434, 444, 454, 464, 474, 484, 494, 505, 515, 525, 535, 545, 555, 565, 575, 585, 595, 606, 616, 626, 636, 646, 656, 666, 676, 686, 696, 707, 717, 727, 737, 747, 757, 767, 777, 787, 797, 808, 818, 828, 838, 848, 858, 868, 878, 888, 898, 909, 919, 929, 939, 949, 959, 969, 979, 989, 999]\n"
     ]
    }
   ],
   "source": [
    "def palindromic_number_list(number):\n",
    "    palindromic_number = [i for i in range(1, number +1) if str(i) == str(i)[::-1] ]\n",
    "    return palindromic_number\n",
    "number = 1000\n",
    "print(palindromic_number_list(1000))"
   ]
  },
  {
   "cell_type": "code",
   "execution_count": null,
   "id": "fd3d2fa9-04dd-424d-b83c-cb48707f84c5",
   "metadata": {},
   "outputs": [],
   "source": [
    "#25. Write a program to flatten a nested list using list comprehension."
   ]
  },
  {
   "cell_type": "code",
   "execution_count": 9,
   "id": "770317ca-862b-42fc-9d28-1a272d4e881a",
   "metadata": {},
   "outputs": [
    {
     "name": "stdout",
     "output_type": "stream",
     "text": [
      "[1, 2, 3, 4, 5, 6, 7, 8, 9, 10]\n"
     ]
    }
   ],
   "source": [
    "list1 = [1, 2, [3, 4, 5, 6 ], 7, 8, [9, 10 ] ]\n",
    "flat_list = [i for sublist in list1 for i in (sublist if isinstance(sublist,list) else [sublist])]\n",
    "print(flat_list)"
   ]
  },
  {
   "cell_type": "code",
   "execution_count": null,
   "id": "df7c215b-5b8c-4443-8ab3-e426b7a4767b",
   "metadata": {},
   "outputs": [],
   "source": [
    "#26. Develop a program that computes the sum of even and odd numbers in a list separately using list comprehension."
   ]
  },
  {
   "cell_type": "code",
   "execution_count": 15,
   "id": "49189f06-c385-4820-aa08-26fefd866008",
   "metadata": {},
   "outputs": [
    {
     "name": "stdout",
     "output_type": "stream",
     "text": [
      "20\n",
      "25\n"
     ]
    }
   ],
   "source": [
    "list1 = [1,2,3,4,5,6,7,8,9]\n",
    "even_sum_list = [i for i in list1 if i % 2 == 0]\n",
    "odd_sum_list = [i for i in list1 if i % 2 != 0]\n",
    "even_sum = sum(even_sum_list)\n",
    "odd_sum = sum(odd_sum_list)\n",
    "print(even_sum)\n",
    "print(odd_sum)"
   ]
  },
  {
   "cell_type": "code",
   "execution_count": null,
   "id": "f19195c3-e0d2-49db-9eb6-8aa9ffed877e",
   "metadata": {},
   "outputs": [],
   "source": [
    "#27. Create a program that generates a list of squares of odd numbers between 1 and 10 using list comprehension."
   ]
  },
  {
   "cell_type": "code",
   "execution_count": 3,
   "id": "037f8a9d-c54c-4e24-ad16-52c7253eb942",
   "metadata": {},
   "outputs": [
    {
     "name": "stdout",
     "output_type": "stream",
     "text": [
      "[1, 9, 25, 49, 81]\n"
     ]
    }
   ],
   "source": [
    "list1 = []\n",
    "odd_list = [i**2 for i in range(1,11) if i % 2 != 0 ]\n",
    "print(odd_list)"
   ]
  },
  {
   "cell_type": "code",
   "execution_count": null,
   "id": "d82affc1-fae9-47fd-86b1-b007c65cb62b",
   "metadata": {},
   "outputs": [],
   "source": [
    "#28. Write a program that combines two lists into a dictionary using list comprehension."
   ]
  },
  {
   "cell_type": "code",
   "execution_count": 4,
   "id": "85d5cda3-fe24-40de-8c44-a9c96b62a607",
   "metadata": {},
   "outputs": [
    {
     "name": "stdout",
     "output_type": "stream",
     "text": [
      "{'apple': 'red', 'banana': 'yellow', 'cherry': 'pink'}\n"
     ]
    }
   ],
   "source": [
    "keys = [\"apple\", \"banana\", \"cherry\"]\n",
    "values = [\"red\", \"yellow\", \"pink\"]\n",
    "combined_dict = {key: value for key, value in zip(keys, values)}\n",
    "print(combined_dict)"
   ]
  },
  {
   "cell_type": "code",
   "execution_count": null,
   "id": "91d143eb-c23a-4ed7-b611-0e1ff9bfd6c9",
   "metadata": {},
   "outputs": [],
   "source": [
    "#29. Develop a program that extracts the vowels from a string and stores them in a list using list comprehension."
   ]
  },
  {
   "cell_type": "code",
   "execution_count": 7,
   "id": "a24e82de-f8bd-4172-890f-4488b9a51799",
   "metadata": {},
   "outputs": [
    {
     "name": "stdout",
     "output_type": "stream",
     "text": [
      "['a', 'i', 'e', 'e', 'a', 'i', 'a', 'e', 'a', 'u', 'e', 'o', 'o', 'e', 'i']\n"
     ]
    }
   ],
   "source": [
    "text = \"Machine Learning have a huge job openings.\"\n",
    "vowels = [i for i in text.lower() if i in \"aeiou\"]\n",
    "print(vowels)"
   ]
  },
  {
   "cell_type": "code",
   "execution_count": null,
   "id": "9f35dae6-5a56-4df8-8397-b7c210fdd920",
   "metadata": {},
   "outputs": [],
   "source": [
    "#30. Create a program that removes all non-numeric characters from a list of strings using list comprehension."
   ]
  },
  {
   "cell_type": "code",
   "execution_count": 8,
   "id": "d3a0cd0c-5570-4eb8-b966-05d553ea6a11",
   "metadata": {},
   "outputs": [
    {
     "name": "stdout",
     "output_type": "stream",
     "text": [
      "['123', '456', '789', '0']\n"
     ]
    }
   ],
   "source": [
    "strings = [\"123abc\", \"def456\", \"ghi789\", \"jkl0\"]\n",
    "numeric_strings = [\"\".join(i for i in string if i.isdigit()) for string in strings ]\n",
    "print(numeric_strings)"
   ]
  },
  {
   "cell_type": "code",
   "execution_count": null,
   "id": "36fc873a-c09c-42a8-9945-788738b57b59",
   "metadata": {},
   "outputs": [],
   "source": [
    "#31. Write a program to generate a list of prime numbers using the Sieve of Eratosthenes algorithm and list\n",
    "# comprehension."
   ]
  },
  {
   "cell_type": "code",
   "execution_count": 7,
   "id": "15e6e755-6a3d-4e99-86a1-7450b7c6de22",
   "metadata": {},
   "outputs": [
    {
     "name": "stdout",
     "output_type": "stream",
     "text": [
      "[2, 3, 5, 7, 11, 13, 17, 19, 23, 29, 31, 37, 41, 43, 47, 53, 59, 61, 67, 71, 73, 79, 83, 89, 97, 101, 103, 107, 109, 113, 127, 131, 137, 139, 149, 151, 157, 163, 167, 173, 179, 181, 191, 193, 197, 199, 211, 223, 227, 229, 233, 239, 241, 251, 257, 263, 269, 271, 277, 281, 283, 293]\n"
     ]
    }
   ],
   "source": [
    "def sieve_of_eratosthenes(n):\n",
    "    sieve = [True] * (n + 1)\n",
    "    sieve[0] = sieve[1] = False\n",
    "    for i in range (2, int(n**0.5) +1):\n",
    "        if sieve[i]:\n",
    "            for j in range (i * i, n + 1, i):\n",
    "                sieve[j] = False\n",
    "    prime_number_list =  [i for i in range (2, n + 1) if sieve[i]]\n",
    "    return prime_number_list\n",
    "n = 300\n",
    "prime_numbers = sieve_of_eratosthenes(n)\n",
    "print(prime_numbers)"
   ]
  },
  {
   "cell_type": "code",
   "execution_count": null,
   "id": "caacdb24-b2c0-4c2a-84ec-358f43b767cd",
   "metadata": {},
   "outputs": [],
   "source": [
    "#32. Create a program that generates a list of all Pythagorean triplets up to a specified limit using list\n",
    "#comprehension."
   ]
  },
  {
   "cell_type": "code",
   "execution_count": 16,
   "id": "1019731f-fddb-4f6f-aa4d-117b55f8f8e5",
   "metadata": {},
   "outputs": [
    {
     "name": "stdout",
     "output_type": "stream",
     "text": [
      "[(3, 4, 5), (5, 12, 13), (6, 8, 10), (7, 24, 25), (8, 15, 17), (9, 12, 15), (10, 24, 26), (12, 16, 20), (15, 20, 25), (18, 24, 30), (20, 21, 29)]\n"
     ]
    }
   ],
   "source": [
    "def pythagorean_triplrts(limit):\n",
    "    triplets = [(a,b,c) for a in range(1, limit +1) for b in range(a, limit +1) for c in range(a+1, limit +1) if a**2+b**2==c**2]\n",
    "    return triplets\n",
    "limit = 30\n",
    "pythagorean_triples = pythagorean_triplrts(limit)\n",
    "print(pythagorean_triples )"
   ]
  },
  {
   "cell_type": "code",
   "execution_count": null,
   "id": "b8da9d7b-2954-4b0e-a8a7-d70d464bf89f",
   "metadata": {},
   "outputs": [],
   "source": [
    "#33. Develop a program that generates a list of all possible combinations of two lists using list comprehension."
   ]
  },
  {
   "cell_type": "code",
   "execution_count": 6,
   "id": "0228d32c-89b7-415d-b8ee-6979ea837bd9",
   "metadata": {},
   "outputs": [
    {
     "name": "stdout",
     "output_type": "stream",
     "text": [
      "[(1, 'a'), (1, 'b'), (1, 'c'), (2, 'a'), (2, 'b'), (2, 'c'), (3, 'a'), (3, 'b'), (3, 'c')]\n"
     ]
    }
   ],
   "source": [
    "list1 = [1,2,3]\n",
    "list2 = [\"a\",\"b\",\"c\"]\n",
    "combined_list = [(i,j) for i in list1 for j in list2]\n",
    "print(combined_list)"
   ]
  },
  {
   "cell_type": "code",
   "execution_count": null,
   "id": "eba9808f-4ae3-40b2-a470-2bc36253b105",
   "metadata": {},
   "outputs": [],
   "source": [
    "#34. Write a program that calculates the mean, median, and mode of a list of numbers using list\n",
    "#comprehension."
   ]
  },
  {
   "cell_type": "code",
   "execution_count": 18,
   "id": "78b3cea5-46ca-4e20-948c-a52e209deb47",
   "metadata": {},
   "outputs": [
    {
     "name": "stdout",
     "output_type": "stream",
     "text": [
      "5.75\n",
      "4.5\n",
      "[11]\n"
     ]
    }
   ],
   "source": [
    "from statistics import mean, median\n",
    "from collections import Counter\n",
    "list1 = [1,2,3,4,5, 11, 9, 11]\n",
    "mean_value = mean(list1)\n",
    "median_value = median(list1)\n",
    "mode_counts = Counter(list1)\n",
    "mode = [i for i, j in mode_counts.items() if j == max(mode_counts.values())]\n",
    "print (mean_value)\n",
    "print(median_value)\n",
    "print(mode)"
   ]
  },
  {
   "cell_type": "code",
   "execution_count": null,
   "id": "e5a2c2ed-fd4e-46a1-845f-656626f94482",
   "metadata": {},
   "outputs": [],
   "source": [
    "#35. Create a program that generates Pascal's triangle up to a specified number of rows using list comprehension."
   ]
  },
  {
   "cell_type": "code",
   "execution_count": 27,
   "id": "236b2f97-9138-4dcd-97d3-5a0121be70f1",
   "metadata": {},
   "outputs": [
    {
     "name": "stdout",
     "output_type": "stream",
     "text": [
      "[1]\n",
      "[1, 1]\n",
      "[1, 2, 1]\n",
      "[1, 3, 3, 1]\n",
      "[1, 4, 6, 4, 1]\n",
      "[1, 5, 10, 10, 5, 1]\n",
      "[1, 6, 15, 20, 15, 6, 1]\n",
      "[1, 7, 21, 35, 35, 21, 7, 1]\n",
      "[1, 8, 28, 56, 70, 56, 28, 8, 1]\n",
      "[1, 9, 36, 84, 126, 126, 84, 36, 9, 1]\n"
     ]
    }
   ],
   "source": [
    "def pascals_triangle(num_rows):\n",
    "    triangle = [[1]]\n",
    "    for row_num in range(1, num_rows): \n",
    "        prev_row = triangle[-1]\n",
    "        current_row = [1] + [prev_row[i] + prev_row[i + 1] for i in range(len(prev_row) - 1)] + [1]\n",
    "        triangle.append(current_row)\n",
    "    return triangle\n",
    "num_rows = 10\n",
    "triangle = pascals_triangle(num_rows)\n",
    "for row in triangle:\n",
    "    print(row)"
   ]
  },
  {
   "cell_type": "code",
   "execution_count": null,
   "id": "68d13228-65e3-4814-84f5-daaac52a3f90",
   "metadata": {},
   "outputs": [],
   "source": [
    "#36. Develop a program that calculates the sum of the digits of a factorial of numbers from 1 to 5 using list comprehension."
   ]
  },
  {
   "cell_type": "code",
   "execution_count": 1,
   "id": "1fdd779c-0573-4717-b39c-d38632df4230",
   "metadata": {},
   "outputs": [
    {
     "name": "stdout",
     "output_type": "stream",
     "text": [
      "[1, 2, 6, 6, 3]\n"
     ]
    }
   ],
   "source": [
    "def sum_of_digit_factorial(numbers):\n",
    "    import math\n",
    "    digit_sums = [sum(int(digit) for digit in str(math.factorial(number))) for number in numbers]\n",
    "    return digit_sums\n",
    "numbers = [1,2,3,4,5]\n",
    "digit_sums = sum_of_digit_factorial(numbers)\n",
    "print(digit_sums)"
   ]
  },
  {
   "cell_type": "code",
   "execution_count": null,
   "id": "f3b58dd2-db27-4473-ace8-92654bffcd97",
   "metadata": {},
   "outputs": [],
   "source": [
    "#37. Write a program that finds the longest word in a sentence using list comprehension."
   ]
  },
  {
   "cell_type": "code",
   "execution_count": 5,
   "id": "990dc333-7740-4f7f-aa5f-7ea132ba2219",
   "metadata": {},
   "outputs": [
    {
     "name": "stdout",
     "output_type": "stream",
     "text": [
      "improvement\n"
     ]
    }
   ],
   "source": [
    "list1 = [\"pwskills is known for its affordable skill improvement educataion\"]\n",
    "words = list1[0].split()\n",
    "longest_word =[word for word in words if len(word) >= len(max(words, key=len))]\n",
    "print(longest_word[0])"
   ]
  },
  {
   "cell_type": "code",
   "execution_count": null,
   "id": "7b249348-2859-4027-9701-33cb72ba2ef3",
   "metadata": {},
   "outputs": [],
   "source": [
    "#38. Create a program that filters a list of strings to include only those with more than three vowels using list\n",
    "#comprehension."
   ]
  },
  {
   "cell_type": "code",
   "execution_count": 10,
   "id": "ab1c4221-0eb6-4b2a-be9d-c4c9671f7f92",
   "metadata": {},
   "outputs": [
    {
     "name": "stdout",
     "output_type": "stream",
     "text": [
      "['pineapple']\n"
     ]
    }
   ],
   "source": [
    "string1 = [\"apple\", \"banana\", \"cherry\", \"orenge\", \"pineapple\", ]\n",
    "vowels = \"aeiou\"\n",
    "filter_string1 = [i for i in string1 if sum(char in vowels for char in i.lower()) > 3]\n",
    "print(filter_string1)"
   ]
  },
  {
   "cell_type": "code",
   "execution_count": null,
   "id": "14edc31c-9e83-4def-8171-3b54203b9bd6",
   "metadata": {},
   "outputs": [],
   "source": [
    "#39. Develop a program that calculates the sum of the digits of numbers from 1 to 1000 using list\n",
    "#comprehension."
   ]
  },
  {
   "cell_type": "code",
   "execution_count": 5,
   "id": "2a733cd5-e9a2-4593-87e7-e3f3e05557ed",
   "metadata": {},
   "outputs": [
    {
     "name": "stdout",
     "output_type": "stream",
     "text": [
      "13500\n"
     ]
    }
   ],
   "source": [
    "list1 = range(1,1001)\n",
    "sum_list1 = sum( int(digit) for i in range(1,1000) for digit in str(i))\n",
    "print(sum_list1)"
   ]
  },
  {
   "cell_type": "code",
   "execution_count": null,
   "id": "c75e77fa-7f06-4f92-88aa-a0aa718c6cab",
   "metadata": {},
   "outputs": [],
   "source": [
    "#40. Write a program that generates a list of prime palindromic numbers using list comprehension."
   ]
  },
  {
   "cell_type": "code",
   "execution_count": 9,
   "id": "6a8bd9cd-ae88-40ad-bdfd-822ddd69458a",
   "metadata": {},
   "outputs": [
    {
     "name": "stdout",
     "output_type": "stream",
     "text": [
      "[1, 2, 3, 5, 7, 11, 101, 131, 151, 181, 191, 313, 353, 373, 383, 727, 757, 787, 797, 919, 929]\n"
     ]
    }
   ],
   "source": [
    "prime_palindromes = [ i for i in range (1,1000) if all (i % j != 0 for j in range( 2, int(i**0.5) + 1)) and str(i)[::-1] == str(i)]\n",
    "print(prime_palindromes)"
   ]
  },
  {
   "cell_type": "code",
   "execution_count": null,
   "id": "77771526-52fc-4cf4-9f8e-face14f7cf2f",
   "metadata": {},
   "outputs": [],
   "source": []
  }
 ],
 "metadata": {
  "kernelspec": {
   "display_name": "Python 3 (ipykernel)",
   "language": "python",
   "name": "python3"
  },
  "language_info": {
   "codemirror_mode": {
    "name": "ipython",
    "version": 3
   },
   "file_extension": ".py",
   "mimetype": "text/x-python",
   "name": "python",
   "nbconvert_exporter": "python",
   "pygments_lexer": "ipython3",
   "version": "3.10.8"
  }
 },
 "nbformat": 4,
 "nbformat_minor": 5
}
