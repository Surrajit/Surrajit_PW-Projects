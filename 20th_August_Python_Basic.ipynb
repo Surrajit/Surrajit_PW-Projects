{
 "cells": [
  {
   "cell_type": "markdown",
   "id": "d04657ec-fb89-4ad4-96cb-8da11879d19e",
   "metadata": {},
   "source": [
    "## 1. Write a program to reverse a string."
   ]
  },
  {
   "cell_type": "code",
   "execution_count": null,
   "id": "800eef84-6d2f-402a-8ad2-ad4a40bc5ef7",
   "metadata": {},
   "outputs": [],
   "source": []
  },
  {
   "cell_type": "code",
   "execution_count": 1,
   "id": "8e5badc5-e17f-413a-a8b9-29947c256c03",
   "metadata": {},
   "outputs": [
    {
     "name": "stdout",
     "output_type": "stream",
     "text": [
      "sllikswp\n"
     ]
    }
   ],
   "source": [
    "s = \"pwskills\"\n",
    "print(s[::-1])"
   ]
  },
  {
   "cell_type": "code",
   "execution_count": 2,
   "id": "c7ec3eb7-a530-4546-965e-c3a8fa8cf9ab",
   "metadata": {},
   "outputs": [
    {
     "name": "stdout",
     "output_type": "stream",
     "text": [
      "sllikswp\n"
     ]
    }
   ],
   "source": [
    "name = \"pwskills\"\n",
    "reverse_name = \"\"\n",
    "for char in name:\n",
    "    reverse_name = char + reverse_name\n",
    "print(reverse_name)\n",
    "    "
   ]
  },
  {
   "cell_type": "code",
   "execution_count": null,
   "id": "8cd46b98-4adb-4028-9508-50012c444e0f",
   "metadata": {},
   "outputs": [],
   "source": [
    "#2. Check if a string is a palindrome."
   ]
  },
  {
   "cell_type": "code",
   "execution_count": 13,
   "id": "888c8ecf-2ada-4a42-acda-b6ac813b1c25",
   "metadata": {},
   "outputs": [
    {
     "name": "stdin",
     "output_type": "stream",
     "text": [
      "enter the name mom\n"
     ]
    },
    {
     "name": "stdout",
     "output_type": "stream",
     "text": [
      "name is palindrome\n"
     ]
    }
   ],
   "source": [
    "name = str(input(\"enter the name\"))\n",
    "reverse_name = \"\"\n",
    "for char in name:\n",
    "    reverse_name = char + reverse_name\n",
    "\n",
    "if name == reverse_name:\n",
    "    print(\"name is palindrome\")\n",
    "else:\n",
    "    print(\"name is not palindrome\")\n"
   ]
  },
  {
   "cell_type": "code",
   "execution_count": null,
   "id": "4ab000ce-011c-4767-a1f3-a611dc8e0eaf",
   "metadata": {},
   "outputs": [],
   "source": [
    "#3. Convert a string to uppercase."
   ]
  },
  {
   "cell_type": "code",
   "execution_count": 16,
   "id": "433023e7-e471-42d3-bf0f-e7d2fab8e5f1",
   "metadata": {},
   "outputs": [
    {
     "name": "stdin",
     "output_type": "stream",
     "text": [
      "enter the name pwskills\n"
     ]
    },
    {
     "name": "stdout",
     "output_type": "stream",
     "text": [
      "PWSKILLS\n"
     ]
    }
   ],
   "source": [
    "name = str(input(\"enter the name\"))\n",
    "print(name.upper())"
   ]
  },
  {
   "cell_type": "code",
   "execution_count": null,
   "id": "aeaeaa65-847a-40b0-8d34-67a90917edeb",
   "metadata": {},
   "outputs": [],
   "source": [
    "#4. Convert a string to lowercase."
   ]
  },
  {
   "cell_type": "code",
   "execution_count": 20,
   "id": "e8a7d80f-baf6-4ccb-ac3e-2cc5a0510313",
   "metadata": {},
   "outputs": [
    {
     "name": "stdin",
     "output_type": "stream",
     "text": [
      "enter the name PWSKILLS\n"
     ]
    },
    {
     "name": "stdout",
     "output_type": "stream",
     "text": [
      "pwskills\n"
     ]
    }
   ],
   "source": [
    "name = str(input(\"enter the name\"))\n",
    "print(name.lower())"
   ]
  },
  {
   "cell_type": "code",
   "execution_count": null,
   "id": "b615aa89-f549-4795-93b7-7c8cbd4bd65b",
   "metadata": {},
   "outputs": [],
   "source": [
    "#5. Count the number of vowels in a string."
   ]
  },
  {
   "cell_type": "code",
   "execution_count": 9,
   "id": "f24c14e8-0e9a-46de-87a3-8c4eaaf7b20b",
   "metadata": {},
   "outputs": [
    {
     "name": "stdin",
     "output_type": "stream",
     "text": [
      "enter the stentence my name your name any boys name\n"
     ]
    },
    {
     "name": "stdout",
     "output_type": "stream",
     "text": [
      "10\n"
     ]
    }
   ],
   "source": [
    "sentence = str(input('enter the stentence'))\n",
    "vowels = \"aeiouAEIOU\"\n",
    "count_vowel = 0\n",
    "for char in sentence:\n",
    "    if char in vowels:\n",
    "        count_vowel += 1\n",
    "print(count_vowel)\n",
    "        "
   ]
  },
  {
   "cell_type": "code",
   "execution_count": null,
   "id": "5e5e9aa3-7c77-40b2-87b8-fac0c73266a0",
   "metadata": {},
   "outputs": [],
   "source": [
    "#6. Count the number of consonants in a string."
   ]
  },
  {
   "cell_type": "code",
   "execution_count": 16,
   "id": "9b86bdb4-2703-4bcf-9706-4fae985c3b04",
   "metadata": {},
   "outputs": [
    {
     "name": "stdin",
     "output_type": "stream",
     "text": [
      "enter the stentence my name your name any boys name\n"
     ]
    },
    {
     "name": "stdout",
     "output_type": "stream",
     "text": [
      "21\n"
     ]
    }
   ],
   "source": [
    "sentence = str(input('enter the stentence'))\n",
    "vowels = \"aeiouAEIOU\"\n",
    "consonent = set(c for c in sentence if c not in vowels)\n",
    "count_consonent = 0\n",
    "for char in sentence:\n",
    "    if char in consonent:\n",
    "        count_consonent += 1\n",
    "print(count_consonent)\n",
    "\n",
    "        "
   ]
  },
  {
   "cell_type": "code",
   "execution_count": null,
   "id": "a2865bdf-927d-4a0d-a6a6-bf4f9099fdcd",
   "metadata": {},
   "outputs": [],
   "source": [
    "#7. Remove all whitespaces from a string."
   ]
  },
  {
   "cell_type": "code",
   "execution_count": 3,
   "id": "fc4b427f-e188-41d6-b677-6375b998fe9e",
   "metadata": {},
   "outputs": [
    {
     "name": "stdin",
     "output_type": "stream",
     "text": [
      "enter the stentence my name your name any boys name\n"
     ]
    },
    {
     "name": "stdout",
     "output_type": "stream",
     "text": [
      " mynameyournameanyboysname\n"
     ]
    }
   ],
   "source": [
    "sentence = str(input('enter the stentence'))\n",
    "no_space_sentence = \" \"\n",
    "for char in sentence :\n",
    "    if char !=\" \":\n",
    "        no_space_sentence += char\n",
    "print(no_space_sentence)"
   ]
  },
  {
   "cell_type": "code",
   "execution_count": null,
   "id": "bfc2008b-caf1-490c-9ccb-5caa1d8fc4d2",
   "metadata": {},
   "outputs": [],
   "source": [
    "#8. Find the length of a string without using the `len()` function."
   ]
  },
  {
   "cell_type": "code",
   "execution_count": 5,
   "id": "cb08a47f-8a2c-473d-875a-1a147eeccea0",
   "metadata": {},
   "outputs": [
    {
     "name": "stdin",
     "output_type": "stream",
     "text": [
      "entre the name dressing\n"
     ]
    },
    {
     "name": "stdout",
     "output_type": "stream",
     "text": [
      "8\n"
     ]
    }
   ],
   "source": [
    "name = str(input('entre the name'))\n",
    "count = 0\n",
    "for char in name:\n",
    "    count += 1\n",
    "print(count)"
   ]
  },
  {
   "cell_type": "code",
   "execution_count": null,
   "id": "6154997a-0757-4084-ade1-f3bccf34fe55",
   "metadata": {},
   "outputs": [],
   "source": [
    "#9. Check if a string contains a specific word."
   ]
  },
  {
   "cell_type": "code",
   "execution_count": 6,
   "id": "165c1b7b-ede7-481d-b9a1-3a8b1aa6ac68",
   "metadata": {},
   "outputs": [
    {
     "name": "stdout",
     "output_type": "stream",
     "text": [
      "string contains the specific word\n"
     ]
    }
   ],
   "source": [
    "string = \"pwskills for skill improvment\"\n",
    "specific_string = \"skill\"\n",
    "if specific_string in string:\n",
    "    print(\"string contains the specific word\")\n",
    "else:\n",
    "    print(\"string not contains the specific word\")"
   ]
  },
  {
   "cell_type": "code",
   "execution_count": null,
   "id": "b7539978-0cdd-493e-8b1b-3b7f4f4f4293",
   "metadata": {},
   "outputs": [],
   "source": [
    "#10. Replace a word in a string with another word."
   ]
  },
  {
   "cell_type": "code",
   "execution_count": 3,
   "id": "b03ba4e5-7017-4eb1-827a-fe712a37a68c",
   "metadata": {},
   "outputs": [
    {
     "name": "stdout",
     "output_type": "stream",
     "text": [
      "yeollow cat jumps the wall, yeollow dog sitting in the wall\n"
     ]
    }
   ],
   "source": [
    "string = \"red cat jumps the wall, yeollow dog sitting in the wall\"\n",
    "specific_string = \"red\"\n",
    "replace_string = \"yeollow\"\n",
    "new_string = string.replace(specific_string, replace_string)\n",
    "print(new_string)\n",
    "    \n"
   ]
  },
  {
   "cell_type": "code",
   "execution_count": null,
   "id": "61e04c64-28d4-49fd-9952-33daa0ae87bc",
   "metadata": {},
   "outputs": [],
   "source": [
    "#11. Count the occurrences of a word in a string."
   ]
  },
  {
   "cell_type": "code",
   "execution_count": 8,
   "id": "e481bafa-4eaa-4a3e-a153-aed7c5a350d0",
   "metadata": {},
   "outputs": [
    {
     "name": "stdout",
     "output_type": "stream",
     "text": [
      "3\n"
     ]
    }
   ],
   "source": [
    "string = \"pwskills for skill improvemnt skill & skill\"\n",
    "count_word = \"skill\"\n",
    "words = string.split()\n",
    "count = 0\n",
    "for word in words:\n",
    "    if word == count_word:\n",
    "        count += 1\n",
    "print(count)"
   ]
  },
  {
   "cell_type": "code",
   "execution_count": null,
   "id": "1c5ce937-6bbc-4b5e-850a-5d0c7ed4dc9d",
   "metadata": {},
   "outputs": [],
   "source": [
    "#12. Find the first occurrence of a word in a string."
   ]
  },
  {
   "cell_type": "code",
   "execution_count": 11,
   "id": "d50b1ef4-3176-497d-9005-51d21624faf8",
   "metadata": {},
   "outputs": [
    {
     "name": "stdout",
     "output_type": "stream",
     "text": [
      "the first occurrence of a find_word starts at index\n"
     ]
    }
   ],
   "source": [
    "string = \"I am doing assignment and some question I am understand some not\"\n",
    "find_word = \"question\"\n",
    "word_possition = string.find(find_word)\n",
    "if word_possition != -1:\n",
    "    print (\"the first occurrence of a find_word starts at index\")\n",
    "    \n",
    "else:\n",
    "    print(\"find_word is not found\")"
   ]
  },
  {
   "cell_type": "code",
   "execution_count": 12,
   "id": "b35328b9-c3f0-46e6-90c0-78369f079ca6",
   "metadata": {},
   "outputs": [
    {
     "name": "stdout",
     "output_type": "stream",
     "text": [
      "The first occurrence of 'question' starts at index 31\n"
     ]
    }
   ],
   "source": [
    "string = \"I am doing assignment and some question I am understand some not\"\n",
    "find_word = \"question\"\n",
    "\n",
    "# Use string.find() to find the first occurrence\n",
    "word_position = string.find(find_word)\n",
    "\n",
    "if word_position != -1:\n",
    "    print(f\"The first occurrence of '{find_word}' starts at index {word_position}\")\n",
    "else:\n",
    "    print(f\"'{find_word}' is not found\")"
   ]
  },
  {
   "cell_type": "code",
   "execution_count": null,
   "id": "8a83433a-9d83-4580-a13e-e71fb1d31917",
   "metadata": {},
   "outputs": [],
   "source": [
    "#13. Find the last occurrence of a word in a string."
   ]
  },
  {
   "cell_type": "code",
   "execution_count": 14,
   "id": "427c504e-32a8-4580-92af-4c6a4bea5c5d",
   "metadata": {},
   "outputs": [
    {
     "name": "stdout",
     "output_type": "stream",
     "text": [
      "The first occurrence of 'question' starts at index 31\n"
     ]
    }
   ],
   "source": [
    "string = \"I am doing assignment and some question I am understand some not\"\n",
    "find_word = \"question\"\n",
    "\n",
    "# Use string.find() to find the first occurrence\n",
    "word_position = string.rfind(find_word)\n",
    "if word_position != -1:\n",
    "    print(f\"The first occurrence of '{find_word}' starts at index {word_position}\")\n",
    "else:\n",
    "    print(f\"'{find_word}' is not found\")"
   ]
  },
  {
   "cell_type": "code",
   "execution_count": null,
   "id": "8903e7e9-d3ff-46e8-b784-b26417b0c76a",
   "metadata": {},
   "outputs": [],
   "source": [
    "#14. Split a string into a list of words."
   ]
  },
  {
   "cell_type": "code",
   "execution_count": 15,
   "id": "28f73000-3ca9-4dec-ad5b-b1add5a4a168",
   "metadata": {},
   "outputs": [
    {
     "name": "stdout",
     "output_type": "stream",
     "text": [
      "['I', 'am', 'doing', 'assignment', 'and', 'some', 'question', 'I', 'am', 'understand', 'some', 'not']\n"
     ]
    }
   ],
   "source": [
    "string = \"I am doing assignment and some question I am understand some not\"\n",
    "split_string = string.split()\n",
    "print(split_string)"
   ]
  },
  {
   "cell_type": "code",
   "execution_count": null,
   "id": "30b22846-450f-4df0-998c-bd35cdcac6cf",
   "metadata": {},
   "outputs": [],
   "source": [
    "#15. Join a list of words into a string."
   ]
  },
  {
   "cell_type": "code",
   "execution_count": 21,
   "id": "92361729-892a-4375-aa1c-cf82a025c3b7",
   "metadata": {},
   "outputs": [
    {
     "name": "stdout",
     "output_type": "stream",
     "text": [
      "I am doing assignment and some question I am understand some not\n"
     ]
    }
   ],
   "source": [
    "string = ['I', 'am', 'doing', 'assignment', 'and', 'some', 'question', 'I', 'am', 'understand', 'some', 'not']\n",
    "seperator = ' '\n",
    "join_string = seperator.join(string)\n",
    "print(join_string)"
   ]
  },
  {
   "cell_type": "code",
   "execution_count": null,
   "id": "3b74988b-166a-4176-90c8-c68be0942a88",
   "metadata": {},
   "outputs": [],
   "source": [
    "#16. Convert a string where words are separated by spaces to one where words are separated by underscores."
   ]
  },
  {
   "cell_type": "code",
   "execution_count": 24,
   "id": "48a7fec9-295d-4c67-909b-d36b6c1b4910",
   "metadata": {},
   "outputs": [
    {
     "name": "stdout",
     "output_type": "stream",
     "text": [
      "I_am_doing_assignment_and_some_question_I_am_understand_some_not\n"
     ]
    }
   ],
   "source": [
    "string = \"I am doing assignment and some question I am understand some not\"\n",
    "string_spaces_underscore = string.replace(\" \", \"_\")\n",
    "print(string_spaces_underscore)"
   ]
  },
  {
   "cell_type": "code",
   "execution_count": null,
   "id": "07f53b9b-ac23-4e6b-8cfb-1da56718ef63",
   "metadata": {},
   "outputs": [],
   "source": [
    "#17. Check if a string starts with a specific word or phrase."
   ]
  },
  {
   "cell_type": "code",
   "execution_count": 29,
   "id": "40bec78c-1090-43aa-b3ef-53ee1f2d98fb",
   "metadata": {},
   "outputs": [
    {
     "name": "stdout",
     "output_type": "stream",
     "text": [
      "string starting with specific_word_string\n"
     ]
    }
   ],
   "source": [
    "string = \"I am doing assignment and some question I am understand some not\"\n",
    "specific_word_string = \"I\"\n",
    "if string.startswith(specific_word_string):\n",
    "    print(\"string starting with specific_word_string\")\n",
    "else:\n",
    "    print(\"string does not starting is with specific_word_string\")"
   ]
  },
  {
   "cell_type": "code",
   "execution_count": null,
   "id": "17d217d6-eba5-4bad-985e-674df92a0928",
   "metadata": {},
   "outputs": [],
   "source": [
    "#18. Check if a string ends with a specific word or phrase."
   ]
  },
  {
   "cell_type": "code",
   "execution_count": 31,
   "id": "dce70021-131d-4d4b-97fc-6f9d00123ae3",
   "metadata": {},
   "outputs": [
    {
     "name": "stdout",
     "output_type": "stream",
     "text": [
      "string ending with specific_word_string\n"
     ]
    }
   ],
   "source": [
    "string = \"I am doing assignment and some question I am understand some not\"\n",
    "specific_word_string = \"not\"\n",
    "if string.endswith(specific_word_string):\n",
    "    print(\"string ending with specific_word_string\")\n",
    "else:\n",
    "    print(\"string does not ending is with specific_word_string\")"
   ]
  },
  {
   "cell_type": "code",
   "execution_count": null,
   "id": "e059239d-5d73-4ce7-9b07-dd7b0c348f51",
   "metadata": {},
   "outputs": [],
   "source": [
    "#19. Convert a string to title case (e.g., \"hello world\" to \"Hello World\")."
   ]
  },
  {
   "cell_type": "code",
   "execution_count": 32,
   "id": "fcd27397-4afb-451d-8c00-ed5d2ca536b8",
   "metadata": {},
   "outputs": [
    {
     "data": {
      "text/plain": [
       "'Hello World'"
      ]
     },
     "execution_count": 32,
     "metadata": {},
     "output_type": "execute_result"
    }
   ],
   "source": [
    "string = \"hello world\"\n",
    "string.title()"
   ]
  },
  {
   "cell_type": "code",
   "execution_count": null,
   "id": "11e8b13f-f312-47aa-ad7b-655c64b36acb",
   "metadata": {},
   "outputs": [],
   "source": [
    "#20. Find the longest word in a string."
   ]
  },
  {
   "cell_type": "code",
   "execution_count": 37,
   "id": "3980b6ba-ae45-4042-89b1-1cf675b6e59d",
   "metadata": {},
   "outputs": [
    {
     "name": "stdout",
     "output_type": "stream",
     "text": [
      "the longest word is : assignment\n"
     ]
    }
   ],
   "source": [
    "string = \"I am doing assignment and some question I am understand some not\"\n",
    "string_longest = \"\"\n",
    "for word in string.split():\n",
    "    if len(word)  > len(string_longest):\n",
    "        string_longest = word\n",
    "print(\"the longest word is :\", string_longest)\n",
    "    \n"
   ]
  },
  {
   "cell_type": "code",
   "execution_count": null,
   "id": "58df7385-a93e-4761-b9c6-cc1cc0432330",
   "metadata": {},
   "outputs": [],
   "source": [
    "#21. Find the shortest word in a string."
   ]
  },
  {
   "cell_type": "code",
   "execution_count": 44,
   "id": "676f1f13-59f3-4c33-a115-2d990a02c75c",
   "metadata": {},
   "outputs": [
    {
     "name": "stdout",
     "output_type": "stream",
     "text": [
      "the shortest word is : I\n"
     ]
    }
   ],
   "source": [
    "string = \"I am doing assignment and some question I am understand some not\"\n",
    "string_shortest = \"\"\n",
    "for word in string.split():\n",
    "    if not string_shortest or len(word)  < len(string_shortest):\n",
    "        string_shortest = word\n",
    "print(\"the shortest word is :\", string_shortest)"
   ]
  },
  {
   "cell_type": "code",
   "execution_count": null,
   "id": "5b864e7f-a8db-4242-8c7e-3aa9cc40a0f9",
   "metadata": {},
   "outputs": [],
   "source": [
    "#22. Reverse the order of words in a string."
   ]
  },
  {
   "cell_type": "code",
   "execution_count": 45,
   "id": "dcdcc2ec-e6d1-4930-bc45-82917835020f",
   "metadata": {},
   "outputs": [
    {
     "name": "stdout",
     "output_type": "stream",
     "text": [
      "sllikswp\n"
     ]
    }
   ],
   "source": [
    "string = \"pwskills\"\n",
    "print(string[::-1])"
   ]
  },
  {
   "cell_type": "code",
   "execution_count": null,
   "id": "2ffd2ad0-13c0-4c31-81f5-1e63a2fe34c8",
   "metadata": {},
   "outputs": [],
   "source": [
    "#23. Check if a string is alphanumeric."
   ]
  },
  {
   "cell_type": "code",
   "execution_count": 4,
   "id": "3e147cce-db08-494c-98c4-1478d5da5a41",
   "metadata": {},
   "outputs": [
    {
     "name": "stdout",
     "output_type": "stream",
     "text": [
      "string is alphanumeric\n"
     ]
    }
   ],
   "source": [
    "string = \"name1234\"\n",
    "string_alphanumeric = True\n",
    "for char in string:\n",
    "    if (char.isalpha() and char.isdigit()):\n",
    "        string_alphanumeric = True\n",
    "        break\n",
    "if string_alphanumeric:\n",
    "    print(\"string is alphanumeric\")\n",
    "else:\n",
    "    print(\"string is not alphanumeric\")"
   ]
  },
  {
   "cell_type": "code",
   "execution_count": null,
   "id": "44bd56df-d7ef-43a7-854c-70fb444b6514",
   "metadata": {},
   "outputs": [],
   "source": [
    "#24. Extract all digits from a string."
   ]
  },
  {
   "cell_type": "code",
   "execution_count": 10,
   "id": "6f31ffb4-5665-4bf4-9dd2-c71148b4bfa1",
   "metadata": {},
   "outputs": [
    {
     "name": "stdout",
     "output_type": "stream",
     "text": [
      "['1', '2', '3', '4']\n"
     ]
    }
   ],
   "source": [
    "string = \"name1234\"\n",
    "number = []\n",
    "for char in string:\n",
    "    if char.isdigit():\n",
    "        number.append(char)\n",
    "print(number)       "
   ]
  },
  {
   "cell_type": "code",
   "execution_count": null,
   "id": "0e7701e8-ac6d-4782-818e-589936eb2748",
   "metadata": {},
   "outputs": [],
   "source": [
    "#25. Extract all alphabets from a string."
   ]
  },
  {
   "cell_type": "code",
   "execution_count": 14,
   "id": "f4194129-4cde-4bf2-a22a-d24f62e4c0e8",
   "metadata": {},
   "outputs": [
    {
     "name": "stdout",
     "output_type": "stream",
     "text": [
      "name\n"
     ]
    }
   ],
   "source": [
    "string = \"name1234\"\n",
    "alphabets = \"\"\n",
    "for char in string:\n",
    "    if char.isalpha():\n",
    "        alphabets += char\n",
    "print(alphabets)"
   ]
  },
  {
   "cell_type": "code",
   "execution_count": null,
   "id": "72dc7af8-0a9b-4eef-9aed-81307b67c153",
   "metadata": {},
   "outputs": [],
   "source": [
    "#26. Count the number of uppercase letters in a string."
   ]
  },
  {
   "cell_type": "code",
   "execution_count": 18,
   "id": "dd041ff0-b68c-421d-95ed-9ef446c79387",
   "metadata": {},
   "outputs": [
    {
     "name": "stdout",
     "output_type": "stream",
     "text": [
      "3\n"
     ]
    }
   ],
   "source": [
    "string = \"UpPerCase\"\n",
    "string_uppercase = 0\n",
    "for char in string:\n",
    "    if char.isupper():\n",
    "        string_uppercase += 1\n",
    "print(string_uppercase)\n",
    "        "
   ]
  },
  {
   "cell_type": "code",
   "execution_count": null,
   "id": "f159c830-37dd-495e-af4c-ddb156259977",
   "metadata": {},
   "outputs": [],
   "source": [
    "#27. Count the number of lowercase letters in a string."
   ]
  },
  {
   "cell_type": "code",
   "execution_count": 20,
   "id": "61cb7ba0-d539-4eb3-96cf-128d52c54470",
   "metadata": {},
   "outputs": [
    {
     "name": "stdout",
     "output_type": "stream",
     "text": [
      "9\n"
     ]
    }
   ],
   "source": [
    "string = \"lowercase\"\n",
    "string_lowercase = 0\n",
    "for char in string:\n",
    "    if char.islower():\n",
    "        string_lowercase += 1\n",
    "print(string_lowercase)"
   ]
  },
  {
   "cell_type": "code",
   "execution_count": null,
   "id": "3ed7072d-ed5f-457f-b444-f23ac5c6699f",
   "metadata": {},
   "outputs": [],
   "source": [
    "#28. Swap the case of each character in a string."
   ]
  },
  {
   "cell_type": "code",
   "execution_count": 2,
   "id": "c6a41459-08bd-4550-9f9e-1ccbfaca7cec",
   "metadata": {},
   "outputs": [
    {
     "data": {
      "text/plain": [
       "'LOwERCASE'"
      ]
     },
     "execution_count": 2,
     "metadata": {},
     "output_type": "execute_result"
    }
   ],
   "source": [
    "string = \"loWercase\"\n",
    "string.swapcase()"
   ]
  },
  {
   "cell_type": "code",
   "execution_count": null,
   "id": "071331b8-358b-41bb-984d-dc60d0f404c6",
   "metadata": {},
   "outputs": [],
   "source": [
    "#29. Remove a specific word from a string. "
   ]
  },
  {
   "cell_type": "code",
   "execution_count": 7,
   "id": "9d97b8ab-30c6-4a0e-a55c-d164a3a71ed4",
   "metadata": {},
   "outputs": [
    {
     "name": "stdout",
     "output_type": "stream",
     "text": [
      "free \n"
     ]
    }
   ],
   "source": [
    "string = \"lowercase is free to remove\"\n",
    "remove_word = \"free\"\n",
    "words  = string.split() \n",
    "new_string = \" \"\n",
    "for word in words:\n",
    "    if word == remove_word:\n",
    "        new_string = word + \" \"\n",
    "print(new_string)"
   ]
  },
  {
   "cell_type": "code",
   "execution_count": null,
   "id": "1a3b07be-4062-484f-85c0-5d21740d12e5",
   "metadata": {},
   "outputs": [],
   "source": [
    "#30. Check if a string is a valid email address."
   ]
  },
  {
   "cell_type": "code",
   "execution_count": 11,
   "id": "6048fba9-3308-4bcd-bc71-475689d3dc97",
   "metadata": {},
   "outputs": [
    {
     "name": "stdin",
     "output_type": "stream",
     "text": [
      "enter your email id xyz@gmail.com\n"
     ]
    },
    {
     "name": "stdout",
     "output_type": "stream",
     "text": [
      "xyz@gmail.com is valid: \n"
     ]
    }
   ],
   "source": [
    "#userid@domain_name. ext\n",
    "import re\n",
    "pattern = r\"^[a-z ]+[\\._]?[a-z ]+[@]\\w+[.]\\w{2,3}$\"\n",
    "email_id = input(\"enter your email id\")\n",
    "if re.search(pattern, email_id):\n",
    "    print(f\"{email_id} is valid: \")\n",
    "else:\n",
    "    print(f\"{email_id} is notvalid: \")"
   ]
  },
  {
   "cell_type": "code",
   "execution_count": null,
   "id": "17a22417-83c0-495e-8ccb-5c072aae7209",
   "metadata": {},
   "outputs": [],
   "source": [
    "#31. Extract the username from an email address string."
   ]
  },
  {
   "cell_type": "code",
   "execution_count": 12,
   "id": "b1512257-c06b-4f6a-a1b0-bf74cc35cbe0",
   "metadata": {},
   "outputs": [
    {
     "name": "stdout",
     "output_type": "stream",
     "text": [
      "xyz\n"
     ]
    }
   ],
   "source": [
    "email = \"xyz@gmail.com\"\n",
    "username = email.split(\"@\")[0] \n",
    "print(username)"
   ]
  },
  {
   "cell_type": "code",
   "execution_count": null,
   "id": "37915f35-0e48-4562-95bb-d8d835fc218c",
   "metadata": {},
   "outputs": [],
   "source": [
    "#32. Extract the domain name from an email address string."
   ]
  },
  {
   "cell_type": "code",
   "execution_count": 2,
   "id": "0313c99e-c508-4212-a583-91f23ecdd57f",
   "metadata": {},
   "outputs": [
    {
     "name": "stdout",
     "output_type": "stream",
     "text": [
      "gmail\n"
     ]
    }
   ],
   "source": [
    "email = \"xyz@gmail.com\"\n",
    "domain_name = email.split(\"@\")[1].split(\".\")[0] \n",
    "print(domain_name)"
   ]
  },
  {
   "cell_type": "code",
   "execution_count": null,
   "id": "dcd13c4c-044a-49be-9081-836464fe1f28",
   "metadata": {},
   "outputs": [],
   "source": [
    "#33. Replace multiple spaces in a string with a single space."
   ]
  },
  {
   "cell_type": "code",
   "execution_count": 14,
   "id": "e735b2f1-0b8d-417a-89a5-91c181f0d63e",
   "metadata": {},
   "outputs": [
    {
     "data": {
      "text/plain": [
       "'david is eating food with friends'"
      ]
     },
     "execution_count": 14,
     "metadata": {},
     "output_type": "execute_result"
    }
   ],
   "source": [
    "text = \"david     is    eating      food         with            friends\"\n",
    "' '.join(text.split())"
   ]
  },
  {
   "cell_type": "code",
   "execution_count": null,
   "id": "be0682fb-ea0b-4973-9112-25b2284f0a44",
   "metadata": {},
   "outputs": [],
   "source": [
    "#34. Check if a string is a valid URL."
   ]
  },
  {
   "cell_type": "code",
   "execution_count": 1,
   "id": "b6f4fdbf-9692-4006-b277-3920edcaebfd",
   "metadata": {},
   "outputs": [
    {
     "name": "stdout",
     "output_type": "stream",
     "text": [
      "Urls:  ['https://www.theguardian.com/football']\n"
     ]
    }
   ],
   "source": [
    "def Find(string):\n",
    "    x=string.split()\n",
    "    text=[]\n",
    "    for i in x:\n",
    "        if i.startswith(\"https:\") or i.startswith(\"http:\"):\n",
    "            text.append(i)\n",
    "    return text\n",
    "             \n",
    "\n",
    "string = \"https://www.theguardian.com/football\"\n",
    "print(\"Urls: \", Find(string))"
   ]
  },
  {
   "cell_type": "code",
   "execution_count": null,
   "id": "082a24bb-29b3-4db2-9eae-af3d0300f2ff",
   "metadata": {},
   "outputs": [],
   "source": [
    "#35. Extract the protocol (http or https) from a URL string."
   ]
  },
  {
   "cell_type": "code",
   "execution_count": 2,
   "id": "bdc5b548-cb84-4d2c-9b92-33668cf72858",
   "metadata": {},
   "outputs": [
    {
     "name": "stdout",
     "output_type": "stream",
     "text": [
      "https\n"
     ]
    }
   ],
   "source": [
    "string = \"https://www.theguardian.com/football\"\n",
    "protocol = string.split(\"://\")[0]\n",
    "print(protocol)"
   ]
  },
  {
   "cell_type": "code",
   "execution_count": null,
   "id": "6b2610b9-2412-4fa8-b803-cbd4f953d339",
   "metadata": {},
   "outputs": [],
   "source": [
    "#36. Find the frequency of each character in a string."
   ]
  },
  {
   "cell_type": "code",
   "execution_count": 7,
   "id": "c6b6400d-897a-4bc8-83cd-cb6d15e5121c",
   "metadata": {},
   "outputs": [
    {
     "name": "stdout",
     "output_type": "stream",
     "text": [
      "{'god': 2, 'is': 2, 'great': 1, 'immortal': 1}\n"
     ]
    }
   ],
   "source": [
    "text = \"god is great god is immortal\"\n",
    "word_count = {}\n",
    "for word in text.split():\n",
    "    if word in word_count:\n",
    "        word_count[word] += 1\n",
    "    else:\n",
    "        word_count[word] = 1\n",
    "print(word_count)"
   ]
  },
  {
   "cell_type": "code",
   "execution_count": null,
   "id": "129dc1d8-5946-4718-9347-b48d676ed6ff",
   "metadata": {},
   "outputs": [],
   "source": [
    "#37. Remove all punctuation from a string."
   ]
  },
  {
   "cell_type": "code",
   "execution_count": 9,
   "id": "ee8281ea-3fdd-4efa-8c59-79fe1eebb5fb",
   "metadata": {},
   "outputs": [
    {
     "name": "stdout",
     "output_type": "stream",
     "text": [
      "I am learning Python so that I am doing exercise\n"
     ]
    }
   ],
   "source": [
    "import string\n",
    "text = \"I am, learning Python! so? that: I am; doing exercise\"\n",
    "transletor = str.maketrans(\" \",\" \",string.punctuation)\n",
    "new_text = text.translate(transletor)\n",
    "print(new_text)"
   ]
  },
  {
   "cell_type": "code",
   "execution_count": null,
   "id": "273777b4-19ca-4616-a20d-03727811ec9d",
   "metadata": {},
   "outputs": [],
   "source": [
    "#38.Check if a string contains only digits."
   ]
  },
  {
   "cell_type": "code",
   "execution_count": 12,
   "id": "e1126f16-4796-43df-945f-213cf4e7df64",
   "metadata": {},
   "outputs": [
    {
     "name": "stdin",
     "output_type": "stream",
     "text": [
      "enter the string 6757896\n"
     ]
    },
    {
     "name": "stdout",
     "output_type": "stream",
     "text": [
      "the string contains only digit\n"
     ]
    }
   ],
   "source": [
    "string = input(\"enter the string\")\n",
    "is_all_digit = True\n",
    "for char in string:\n",
    "    if not char.isdigit():\n",
    "        is_all_digit = False\n",
    "        break\n",
    "if is_all_digit:\n",
    "    print(\"the string contains only digit\")\n",
    "else:\n",
    "    print(\"the string contains non-digit characters\")\n",
    "        "
   ]
  },
  {
   "cell_type": "code",
   "execution_count": null,
   "id": "50f51a72-e042-418c-a4ae-1f81b718c7dc",
   "metadata": {},
   "outputs": [],
   "source": [
    "#39. Check if a string contains only alphabets."
   ]
  },
  {
   "cell_type": "code",
   "execution_count": 21,
   "id": "0d6fc752-7b53-4b1e-b66d-d1e6bd55abd5",
   "metadata": {},
   "outputs": [
    {
     "name": "stdin",
     "output_type": "stream",
     "text": [
      "enter the string 8889\n"
     ]
    },
    {
     "name": "stdout",
     "output_type": "stream",
     "text": [
      "the string contains non-alphabetic characters\n"
     ]
    }
   ],
   "source": [
    "string = input(\"enter the string\")\n",
    "is_all_alphabets = True\n",
    "for char in string:\n",
    "    if not char.isalpha():\n",
    "        is_all_alphabets = False\n",
    "        break\n",
    "if is_all_alphabets:\n",
    "    print(\"the string contains only alphabetic characters\")\n",
    "else:\n",
    "    print(\"the string contains non-alphabetic characters\")"
   ]
  },
  {
   "cell_type": "code",
   "execution_count": null,
   "id": "a5741078-0444-47b0-96f5-c585cef2f60b",
   "metadata": {},
   "outputs": [],
   "source": [
    "#40. Convert a string to a list of characters."
   ]
  },
  {
   "cell_type": "code",
   "execution_count": 27,
   "id": "7a3436bb-cb49-4bd8-adb5-8d4196a18609",
   "metadata": {},
   "outputs": [
    {
     "name": "stdout",
     "output_type": "stream",
     "text": [
      "['m', 'y', ' ', 'n', 'a', 'm', 'e']\n"
     ]
    }
   ],
   "source": [
    "string = \"my name\"\n",
    "new_string = list(string)\n",
    "print(new_string)"
   ]
  },
  {
   "cell_type": "code",
   "execution_count": null,
   "id": "d7e5a633-e47e-451a-95ac-3f5614a2803b",
   "metadata": {},
   "outputs": [],
   "source": [
    "#41. Check if two strings are anagrams."
   ]
  },
  {
   "cell_type": "code",
   "execution_count": 4,
   "id": "5f74ba34-5309-4557-9155-9b0b85a1a9d8",
   "metadata": {},
   "outputs": [
    {
     "name": "stdout",
     "output_type": "stream",
     "text": [
      "Two strings are not anagrams\n"
     ]
    }
   ],
   "source": [
    "str1 = \"bad\"\n",
    "str2 = \"dad\"\n",
    "\n",
    "if sorted(str1) == sorted(str2):\n",
    "    print(\"Two strings are anagrams\")\n",
    "else:\n",
    "    print(\"Two strings are not anagrams\")"
   ]
  },
  {
   "cell_type": "code",
   "execution_count": null,
   "id": "30317bab-0797-4465-a8f1-a928d0639a44",
   "metadata": {},
   "outputs": [],
   "source": [
    "#42. Encode a string using a Caesar cipher."
   ]
  },
  {
   "cell_type": "code",
   "execution_count": 17,
   "id": "170b1152-45f6-4678-a1d3-f139a4d1741b",
   "metadata": {},
   "outputs": [
    {
     "name": "stdin",
     "output_type": "stream",
     "text": [
      "enter the text abcd\n"
     ]
    },
    {
     "name": "stdout",
     "output_type": "stream",
     "text": [
      " efgh\n"
     ]
    }
   ],
   "source": [
    "text = str(input(\"enter the text\"))\n",
    "text1 = \" \"\n",
    "shift = 4\n",
    "for i in text:\n",
    "    shifted_char = chr(ord(i) + shift)\n",
    "    text1 +=shifted_char\n",
    "print(text1) "
   ]
  },
  {
   "cell_type": "code",
   "execution_count": null,
   "id": "dd830f97-ad14-4134-9a7f-31b558ed21b8",
   "metadata": {},
   "outputs": [],
   "source": [
    "#43. Decode a Caesar cipher encoded string."
   ]
  },
  {
   "cell_type": "code",
   "execution_count": 18,
   "id": "4045958b-4490-46ad-b684-227993cc7522",
   "metadata": {},
   "outputs": [
    {
     "name": "stdin",
     "output_type": "stream",
     "text": [
      "enter the text efgh\n"
     ]
    },
    {
     "name": "stdout",
     "output_type": "stream",
     "text": [
      " abcd\n"
     ]
    }
   ],
   "source": [
    "text = str(input(\"enter the text\"))\n",
    "text1 = \" \"\n",
    "shift = 4\n",
    "for i in text:\n",
    "    shifted_char = chr(ord(i) - shift)\n",
    "    text1 +=shifted_char\n",
    "print(text1) "
   ]
  },
  {
   "cell_type": "code",
   "execution_count": null,
   "id": "e4190d49-8b87-420a-999a-df80509fe2f0",
   "metadata": {},
   "outputs": [],
   "source": [
    "#44. Find the most frequent word in a string."
   ]
  },
  {
   "cell_type": "code",
   "execution_count": 12,
   "id": "fdec11ab-be78-453a-ba56-04d63a6aab73",
   "metadata": {},
   "outputs": [
    {
     "name": "stdout",
     "output_type": "stream",
     "text": [
      " The most frequent word is 'I' with a frequency of 2.\n"
     ]
    }
   ],
   "source": [
    "from collections import Counter\n",
    "\n",
    "str1 = \"I am learning python and I am learnig it with exercise\"\n",
    "words = str1.split()\n",
    "word_count = Counter(words)\n",
    "most_common_word, frequency = word_count.most_common(1)[0]\n",
    "print(f\" The most frequent word is '{most_common_word}' with a frequency of {frequency}.\")\n"
   ]
  },
  {
   "cell_type": "code",
   "execution_count": null,
   "id": "4dd8db1b-f76f-4ec4-819f-dadf22bf6603",
   "metadata": {},
   "outputs": [],
   "source": [
    "#45. Find all unique words in a string."
   ]
  },
  {
   "cell_type": "code",
   "execution_count": 17,
   "id": "3d439b28-5dc5-40c1-87d3-153af1c1255a",
   "metadata": {},
   "outputs": [
    {
     "name": "stdout",
     "output_type": "stream",
     "text": [
      "Unique words in the string:\n",
      "it\n",
      "am\n",
      "exercise\n",
      "learning\n",
      "with\n",
      "I\n",
      "and\n",
      "python\n"
     ]
    }
   ],
   "source": [
    "str1 = \"I am learning python and I am learning it with exercise\"\n",
    "words = str1.split() \n",
    "unique_words = set(words) \n",
    "\n",
    "print(\"Unique words in the string:\")\n",
    "for word in unique_words:\n",
    "    print(word)\n"
   ]
  },
  {
   "cell_type": "code",
   "execution_count": null,
   "id": "c94338fc-5133-4f59-84ab-8755c1a4ab42",
   "metadata": {},
   "outputs": [],
   "source": [
    "#46. Count the number of syllables in a string."
   ]
  },
  {
   "cell_type": "code",
   "execution_count": 27,
   "id": "605c34e4-88be-4adc-a82e-78b9ba0c92fa",
   "metadata": {},
   "outputs": [
    {
     "name": "stdout",
     "output_type": "stream",
     "text": [
      "Total syllables in the text: 16\n",
      "Total vowels in the text: 18\n"
     ]
    }
   ],
   "source": [
    "def count_syllables(word):\n",
    "    vowels = \"aeiouyAEIOUY\"\n",
    "    count = 0\n",
    "    prev_char_vowel = False  \n",
    "\n",
    "    for char in word:\n",
    "        if char in vowels:\n",
    "            if not prev_char_vowel:\n",
    "                count += 1  \n",
    "            prev_char_vowel = True\n",
    "        else:\n",
    "            prev_char_vowel = False\n",
    "\n",
    "    \n",
    "    if word.endswith(('e', 'es')) and count > 1:\n",
    "        count -= 1\n",
    "\n",
    "    return count\n",
    "\n",
    "str1 =  \"I am learning python and I am learning it with exercise\"\n",
    "words = str1.split()\n",
    "\n",
    "total_syllables = 0\n",
    "for word in words:\n",
    "    total_syllables += count_syllables(word)\n",
    "\n",
    "vowels = \"aeiouAEIOU\"\n",
    "vowel_count = sum(1 for char in str1 if char in vowels)\n",
    "\n",
    "print(f\"Total syllables in the text: {total_syllables}\")\n",
    "print(f\"Total vowels in the text: {vowel_count}\")\n"
   ]
  },
  {
   "cell_type": "code",
   "execution_count": null,
   "id": "1668ed6f-6657-428d-9da3-700478c0a16b",
   "metadata": {},
   "outputs": [],
   "source": [
    "#47. Check if a string contains any special characters."
   ]
  },
  {
   "cell_type": "code",
   "execution_count": 39,
   "id": "1fc678bb-ab77-4704-af28-872bab1473e5",
   "metadata": {},
   "outputs": [
    {
     "name": "stdin",
     "output_type": "stream",
     "text": [
      "enter the string I am learning #data #science form @pwskills\n"
     ]
    },
    {
     "name": "stdout",
     "output_type": "stream",
     "text": [
      "The string is contain special characters\n"
     ]
    }
   ],
   "source": [
    "str1 = str(input(\"enter the string\"))\n",
    "special_char = \"[@_!#$%^&*()<>?/\\|}{~:]\"\n",
    "sp_special_char = False\n",
    "for i in str1:\n",
    "    if i in special_char:\n",
    "        sp_special_char = True\n",
    "        break\n",
    "if sp_special_char:\n",
    "    print(\"The string is contain special characters\") \n",
    "else:\n",
    "    print(\"The string is not contain special characters\")"
   ]
  },
  {
   "cell_type": "code",
   "execution_count": null,
   "id": "59e505ca-7897-4981-bc18-9bac197b195c",
   "metadata": {},
   "outputs": [],
   "source": [
    "#48. Remove the nth word from a string."
   ]
  },
  {
   "cell_type": "code",
   "execution_count": 52,
   "id": "c50c3462-59ff-47c5-bcd1-7386c3640565",
   "metadata": {},
   "outputs": [
    {
     "name": "stdout",
     "output_type": "stream",
     "text": [
      "this assignment work for pwskills\n"
     ]
    }
   ],
   "source": [
    "str1 = \"this the assignment work for pwskills\"\n",
    "str2 = \" \"\n",
    "word = str1.split()\n",
    "n = 1\n",
    "if  0<= n < len(word):\n",
    "    del word[n]\n",
    "    str2 = \" \".join(word)\n",
    "print(str2)"
   ]
  },
  {
   "cell_type": "code",
   "execution_count": null,
   "id": "51639e9d-8e09-4bf4-9ff9-b4355563a9fa",
   "metadata": {},
   "outputs": [],
   "source": [
    "#49. Insert a word at the nth position in a string."
   ]
  },
  {
   "cell_type": "code",
   "execution_count": 54,
   "id": "0bc1aa82-a8ba-448f-8ceb-de02409b1623",
   "metadata": {},
   "outputs": [
    {
     "name": "stdout",
     "output_type": "stream",
     "text": [
      "this the assignment work for for pwskills\n"
     ]
    }
   ],
   "source": [
    "str1 = \"this the assignment work for pwskills\"\n",
    "str2 = \" \"\n",
    "add_word = \"for\"\n",
    "word = str1.split()\n",
    "n = 4\n",
    "if  0<= n < len(word):\n",
    "    word.insert(n, add_word)\n",
    "    str2 = \" \".join(word)\n",
    "print(str2)"
   ]
  },
  {
   "cell_type": "code",
   "execution_count": null,
   "id": "8c0d7053-8d6a-487e-b3a4-8380ef926a8e",
   "metadata": {},
   "outputs": [],
   "source": [
    "#50. Convert a CSV string to a list of lists."
   ]
  },
  {
   "cell_type": "code",
   "execution_count": 56,
   "id": "c386695d-6a8d-44c4-bb63-7d66322bf5d2",
   "metadata": {},
   "outputs": [
    {
     "name": "stdout",
     "output_type": "stream",
     "text": [
      "[['1', 'data', 'science', 'pwskills'], ['2', 'data', 'analytics', 'pwskills'], ['3', ' system', ' design ', ' pwskills']]\n"
     ]
    }
   ],
   "source": [
    "csv_string = '''1,data,science,pwskills\n",
    "2,data,analytics,pwskills\n",
    "3, system, design , pwskills'''\n",
    "csv_list = [row.split(',') for row in csv_string.split('\\n')]\n",
    "print(csv_list)"
   ]
  },
  {
   "cell_type": "code",
   "execution_count": null,
   "id": "e76ed394-bed6-43fc-91c1-14adddfcc6ac",
   "metadata": {},
   "outputs": [],
   "source": [
    "#List Based Practice Problem :\n",
    "#1.Create a list with integers from 1 to 10."
   ]
  },
  {
   "cell_type": "code",
   "execution_count": 7,
   "id": "c05e09b0-5f79-45db-940c-6479a4822d9f",
   "metadata": {},
   "outputs": [
    {
     "name": "stdout",
     "output_type": "stream",
     "text": [
      "[1, 2, 3, 4, 5, 6, 7, 8, 9, 10]\n"
     ]
    }
   ],
   "source": [
    "list = []\n",
    "for i in range(1,11):\n",
    "    list.append(i)\n",
    "print(list)"
   ]
  },
  {
   "cell_type": "code",
   "execution_count": null,
   "id": "03866893-4d47-4222-ab6e-cbb6ef7ff384",
   "metadata": {},
   "outputs": [],
   "source": [
    "#2. Find the length of a list without using the `len()` function."
   ]
  },
  {
   "cell_type": "code",
   "execution_count": 7,
   "id": "0e3e4455-9c8c-457b-8b66-d5c4003ba945",
   "metadata": {},
   "outputs": [
    {
     "name": "stdout",
     "output_type": "stream",
     "text": [
      "10\n"
     ]
    }
   ],
   "source": [
    "list1 = [1,2,3,4,5,6,7,8,55,98]\n",
    "count = 0\n",
    "for i in list1:\n",
    "    count += 1\n",
    "print(count)\n",
    "    "
   ]
  },
  {
   "cell_type": "code",
   "execution_count": null,
   "id": "1fd4056b-b883-4447-958f-644163ec3066",
   "metadata": {},
   "outputs": [],
   "source": [
    "#3. Append an element to the end of a list."
   ]
  },
  {
   "cell_type": "code",
   "execution_count": 13,
   "id": "4077643e-f826-47eb-8ee6-9135080bbe0b",
   "metadata": {},
   "outputs": [
    {
     "name": "stdout",
     "output_type": "stream",
     "text": [
      "[1, 2, 3, 4, 5, 6, 55]\n"
     ]
    }
   ],
   "source": [
    "list1 = [1,2,3,4,5,6]\n",
    "list1.append(55)\n",
    "print(list1)"
   ]
  },
  {
   "cell_type": "code",
   "execution_count": null,
   "id": "207f8085-84eb-406d-9c6c-6e2b2c42f249",
   "metadata": {},
   "outputs": [],
   "source": [
    "#4. Insert an element at a specific index in a list."
   ]
  },
  {
   "cell_type": "code",
   "execution_count": 15,
   "id": "e88930d9-20cf-46f1-b850-2e34364b29d5",
   "metadata": {},
   "outputs": [
    {
     "name": "stdout",
     "output_type": "stream",
     "text": [
      "[1, 2, 3, 55, 4, 5, 6]\n"
     ]
    }
   ],
   "source": [
    "list1 = [1,2,3,4,5,6]\n",
    "new_element = 55\n",
    "index_list1 = 3\n",
    "for i in list1:\n",
    "    if i == index_list1:\n",
    "        list1.insert(i, new_element)\n",
    "        break\n",
    "print(list1)\n",
    "    "
   ]
  },
  {
   "cell_type": "code",
   "execution_count": null,
   "id": "d4397312-3c4a-41e7-9687-b3183535b94b",
   "metadata": {},
   "outputs": [],
   "source": [
    "#5. Remove an element from a list by its value."
   ]
  },
  {
   "cell_type": "code",
   "execution_count": 37,
   "id": "f07acb25-cc25-49c1-bef5-34d3c3555e13",
   "metadata": {},
   "outputs": [
    {
     "name": "stdout",
     "output_type": "stream",
     "text": [
      "[1, 2, 3, 4, 5, 6]\n"
     ]
    }
   ],
   "source": [
    "list1 = [1, 2, 3, 55, 4, 5, 6]\n",
    "index_list1 = 3\n",
    "for i in list1:\n",
    "    if i == index_list1:\n",
    "        list1.remove(list1[i])\n",
    "        break\n",
    "print(list1)"
   ]
  },
  {
   "cell_type": "code",
   "execution_count": null,
   "id": "d8963a28-b8e9-453c-a3ab-49fa3155673b",
   "metadata": {},
   "outputs": [],
   "source": [
    "#6. Remove an element from a list by its index."
   ]
  },
  {
   "cell_type": "code",
   "execution_count": 38,
   "id": "87f74fde-c22f-4dd7-b695-432101847f62",
   "metadata": {},
   "outputs": [
    {
     "name": "stdout",
     "output_type": "stream",
     "text": [
      "[1, 2, 3, 4, 5, 6]\n"
     ]
    }
   ],
   "source": [
    "list1 = [1, 2, 3, 55, 4, 5, 6]\n",
    "index_list1 = 3\n",
    "list1.pop(index_list1)\n",
    "print(list1)"
   ]
  },
  {
   "cell_type": "code",
   "execution_count": null,
   "id": "a263d35a-e473-45ee-87eb-07c65feb06ec",
   "metadata": {},
   "outputs": [],
   "source": [
    "#7. Check if an element exists in a list."
   ]
  },
  {
   "cell_type": "code",
   "execution_count": 11,
   "id": "0cf3316d-c951-4f00-919d-910ea9fa66d2",
   "metadata": {},
   "outputs": [
    {
     "name": "stdout",
     "output_type": "stream",
     "text": [
      "False\n"
     ]
    }
   ],
   "source": [
    "list1 = [1, 2, 3, 55, 4, 5, 6]\n",
    "element_list1 = 77\n",
    "found = False\n",
    "for i in list1:\n",
    "    if i == element_list1:\n",
    "        found = True\n",
    "        print(True)\n",
    "        break\n",
    "else:\n",
    "    print(False)"
   ]
  },
  {
   "cell_type": "code",
   "execution_count": null,
   "id": "ab4f3ecd-473c-4f54-961c-a4abb49a8583",
   "metadata": {},
   "outputs": [],
   "source": [
    "#8.Find the index of the first occurrence of an element in a list."
   ]
  },
  {
   "cell_type": "code",
   "execution_count": 3,
   "id": "1a60d1d4-4716-4329-b838-7516b809cf74",
   "metadata": {},
   "outputs": [
    {
     "data": {
      "text/plain": [
       "4"
      ]
     },
     "execution_count": 3,
     "metadata": {},
     "output_type": "execute_result"
    }
   ],
   "source": [
    "list1 = [10, 20, 30, 55, 40, 50, 60]\n",
    "element_list1 = 40\n",
    "list1.index(element_list1)"
   ]
  },
  {
   "cell_type": "code",
   "execution_count": null,
   "id": "433f6d21-da5b-4aad-afae-326d3cd024f0",
   "metadata": {},
   "outputs": [],
   "source": [
    "#9. Count the occurrences of an element in a list."
   ]
  },
  {
   "cell_type": "code",
   "execution_count": 9,
   "id": "4441db52-31c0-4b80-9c46-f3a55ef27303",
   "metadata": {},
   "outputs": [
    {
     "name": "stdout",
     "output_type": "stream",
     "text": [
      "2\n"
     ]
    }
   ],
   "source": [
    "list1 = [10, 20, 30, 55, 40, 50, 60,10]\n",
    "element_count = 10\n",
    "count = 0\n",
    "for i in list1:\n",
    "    if i == element_count:\n",
    "        count += 1\n",
    "print(count)"
   ]
  },
  {
   "cell_type": "code",
   "execution_count": null,
   "id": "28f5954e-35a9-42e4-ab1f-3ff4ab2fd5a2",
   "metadata": {},
   "outputs": [],
   "source": [
    "#10. Reverse the order of elements in a list."
   ]
  },
  {
   "cell_type": "code",
   "execution_count": 12,
   "id": "11a7bed2-2b1d-4096-9218-3dd80f70ccb6",
   "metadata": {},
   "outputs": [
    {
     "name": "stdout",
     "output_type": "stream",
     "text": [
      "[10, 60, 50, 40, 55, 30, 20, 10]\n"
     ]
    }
   ],
   "source": [
    "list1 = [10, 20, 30, 55, 40, 50, 60,10]\n",
    "list1.reverse()\n",
    "print(list1)"
   ]
  },
  {
   "cell_type": "code",
   "execution_count": null,
   "id": "5d0782b5-75e1-49f8-9d11-eac8d0ab16ae",
   "metadata": {},
   "outputs": [],
   "source": [
    "#11. Sort a list in ascending order."
   ]
  },
  {
   "cell_type": "code",
   "execution_count": 13,
   "id": "306a2370-606a-46e8-90e5-401a5c76ce53",
   "metadata": {},
   "outputs": [
    {
     "name": "stdout",
     "output_type": "stream",
     "text": [
      "[10, 10, 20, 30, 40, 50, 55, 60]\n"
     ]
    }
   ],
   "source": [
    "list1 = [10, 20, 30, 55, 40, 50, 60,10]\n",
    "list1.sort()\n",
    "print(list1)"
   ]
  },
  {
   "cell_type": "code",
   "execution_count": null,
   "id": "359309ab-69b9-41c2-8e32-5218733d9a95",
   "metadata": {},
   "outputs": [],
   "source": [
    "#12. Sort a list in descending order."
   ]
  },
  {
   "cell_type": "code",
   "execution_count": 15,
   "id": "6a5a0e70-a8aa-419c-a920-68c84ecc5f12",
   "metadata": {},
   "outputs": [
    {
     "name": "stdout",
     "output_type": "stream",
     "text": [
      "[60, 55, 50, 40, 30, 20, 10, 10]\n"
     ]
    }
   ],
   "source": [
    "list1 = [10, 20, 30, 55, 40, 50, 60,10]\n",
    "list1.sort(reverse=True)\n",
    "print(list1)"
   ]
  },
  {
   "cell_type": "code",
   "execution_count": null,
   "id": "11b802f3-3cca-4e55-856d-54e99fe531e9",
   "metadata": {},
   "outputs": [],
   "source": [
    "#13. Create a list of even numbers from 1 to 20."
   ]
  },
  {
   "cell_type": "code",
   "execution_count": 20,
   "id": "3f428433-2d5b-4d1b-847a-c20ae29c5b53",
   "metadata": {},
   "outputs": [
    {
     "name": "stdout",
     "output_type": "stream",
     "text": [
      "[2, 4, 6, 8, 10, 12, 14, 16, 18, 20]\n"
     ]
    }
   ],
   "source": [
    "list = []\n",
    "even_number = 0\n",
    "for i in range(1,21):\n",
    "    if i%2==0:\n",
    "        list.append(i)\n",
    "print(list)\n"
   ]
  },
  {
   "cell_type": "code",
   "execution_count": null,
   "id": "0aee8008-7f28-4831-8814-174fb895bc6f",
   "metadata": {},
   "outputs": [],
   "source": [
    "#14. Create a list of odd numbers from 1 to 20."
   ]
  },
  {
   "cell_type": "code",
   "execution_count": 21,
   "id": "7504af40-3020-47c8-919e-db7569fa2d45",
   "metadata": {},
   "outputs": [
    {
     "name": "stdout",
     "output_type": "stream",
     "text": [
      "[1, 3, 5, 7, 9, 11, 13, 15, 17, 19]\n"
     ]
    }
   ],
   "source": [
    "list = []\n",
    "even_number = 0\n",
    "for i in range(1,21):\n",
    "    if i%2!=0:\n",
    "        list.append(i)\n",
    "print(list)"
   ]
  },
  {
   "cell_type": "code",
   "execution_count": null,
   "id": "7bec6402-6eef-4519-8d70-a6643fd10428",
   "metadata": {},
   "outputs": [],
   "source": [
    "#15. Find the sum of all elements in a list."
   ]
  },
  {
   "cell_type": "code",
   "execution_count": 25,
   "id": "4a108eb7-8957-4b1d-a426-3882aba1a8ff",
   "metadata": {},
   "outputs": [
    {
     "name": "stdout",
     "output_type": "stream",
     "text": [
      "100\n"
     ]
    }
   ],
   "source": [
    "list1 = [1, 3, 5, 7, 9, 11, 13, 15, 17, 19]\n",
    "sum = 0\n",
    "for i in list1:\n",
    "    sum += i\n",
    "print(sum)"
   ]
  },
  {
   "cell_type": "code",
   "execution_count": null,
   "id": "20ecfe73-c958-4d99-9b56-cb430ff0b6c7",
   "metadata": {},
   "outputs": [],
   "source": [
    "#16.Find the maximum value in a list."
   ]
  },
  {
   "cell_type": "code",
   "execution_count": 30,
   "id": "f9e855cd-c58a-4ce1-a71f-1561065d7218",
   "metadata": {},
   "outputs": [
    {
     "name": "stdout",
     "output_type": "stream",
     "text": [
      "999\n"
     ]
    }
   ],
   "source": [
    "list1 = [1, 3, 5, 7, 999, 11, 13, 15, 17, 19,209]\n",
    "max_value = 0\n",
    "for i in list1:\n",
    "    if i > max_value:\n",
    "        max_value = i\n",
    "print(max_value)"
   ]
  },
  {
   "cell_type": "code",
   "execution_count": null,
   "id": "1800db90-d6d1-438b-91d2-d614cd3f3986",
   "metadata": {},
   "outputs": [],
   "source": [
    "#17. Find the minimum value in a list."
   ]
  },
  {
   "cell_type": "code",
   "execution_count": 34,
   "id": "472cdfe3-554b-4198-9fac-b658d2273add",
   "metadata": {},
   "outputs": [
    {
     "name": "stdout",
     "output_type": "stream",
     "text": [
      "1\n"
     ]
    }
   ],
   "source": [
    "list1 = [1, 3, 5, 7, 999, 11, 13, 15, 17, 19,209]\n",
    "min_value = list1[0]\n",
    "for i in list1:\n",
    "    if i < min_value:\n",
    "        min_value = i\n",
    "print(min_value)"
   ]
  },
  {
   "cell_type": "code",
   "execution_count": null,
   "id": "a614e0d4-d514-45a3-948e-e103ec36e249",
   "metadata": {},
   "outputs": [],
   "source": [
    "#18. Create a list of squares of numbers from 1 to 10."
   ]
  },
  {
   "cell_type": "code",
   "execution_count": 10,
   "id": "94fbafe0-27b3-4080-8447-14591e0e60b3",
   "metadata": {},
   "outputs": [
    {
     "name": "stdout",
     "output_type": "stream",
     "text": [
      "[1, 4, 9]\n"
     ]
    }
   ],
   "source": [
    "squares = []\n",
    "for i in range(1,11):\n",
    "    for number in range(1,11):\n",
    "        if i == number ** 2:\n",
    "            squares.append(i)\n",
    "            break\n",
    "print(squares)"
   ]
  },
  {
   "cell_type": "code",
   "execution_count": null,
   "id": "eadb3476-3804-44df-a785-7cd6dc173018",
   "metadata": {},
   "outputs": [],
   "source": [
    "#19. Create a list of random numbers."
   ]
  },
  {
   "cell_type": "code",
   "execution_count": 14,
   "id": "a9e25893-c855-4c6d-88fc-1e5d1927b7a1",
   "metadata": {},
   "outputs": [
    {
     "name": "stdout",
     "output_type": "stream",
     "text": [
      "[34, 43, 17, 20, 27, 10, 39, 23, 14, 27, 44, 4, 30, 5, 28, 14, 46, 41, 24, 21]\n"
     ]
    }
   ],
   "source": [
    "random_list = []\n",
    "for i in range(20):\n",
    "    random_number = random.randint(1, 50)\n",
    "    random_list.append(random_number)\n",
    "print(random_list)"
   ]
  },
  {
   "cell_type": "code",
   "execution_count": null,
   "id": "a62a759c-aa85-494a-aaa4-ae3d984be19a",
   "metadata": {},
   "outputs": [],
   "source": [
    "#20. Remove duplicates from a list."
   ]
  },
  {
   "cell_type": "code",
   "execution_count": 16,
   "id": "e64300e9-76c0-464d-a483-5d6cb9295f7e",
   "metadata": {},
   "outputs": [
    {
     "name": "stdout",
     "output_type": "stream",
     "text": [
      "[10, 20, 30, 40, 50]\n"
     ]
    }
   ],
   "source": [
    "list1 = [10,20,20,20,30,40,40,50]\n",
    "list2 = []\n",
    "for i in list1:\n",
    "    if i not in list2:\n",
    "        list2.append(i)\n",
    "print(list2)\n",
    "    "
   ]
  },
  {
   "cell_type": "code",
   "execution_count": null,
   "id": "12e84f42-0a22-43b1-833e-6a16f8339ecf",
   "metadata": {},
   "outputs": [],
   "source": [
    "#21. Find the common elements between two lists."
   ]
  },
  {
   "cell_type": "code",
   "execution_count": 17,
   "id": "7fee74e0-e94b-4438-b1fd-7ebd11015faf",
   "metadata": {},
   "outputs": [
    {
     "name": "stdout",
     "output_type": "stream",
     "text": [
      "[20, 30, 40, 60]\n"
     ]
    }
   ],
   "source": [
    "list1 = [10,20,30,40,50,60,70,80]\n",
    "list2 = [12,20,34,45,58,60,30,40]\n",
    "common_list = []\n",
    "for i in list1:\n",
    "    for j in list2:\n",
    "        if i == j:\n",
    "            common_list.append(i)\n",
    "print(common_list)"
   ]
  },
  {
   "cell_type": "code",
   "execution_count": null,
   "id": "53056807-a4d7-4d83-a608-8b09d211266e",
   "metadata": {},
   "outputs": [],
   "source": [
    "#22. Find the difference between two lists."
   ]
  },
  {
   "cell_type": "code",
   "execution_count": 3,
   "id": "d99acf43-b09b-40fd-af7e-e36ff6be11af",
   "metadata": {},
   "outputs": [
    {
     "name": "stdout",
     "output_type": "stream",
     "text": [
      "[10, 50, 70, 80]\n"
     ]
    }
   ],
   "source": [
    "list1 = [10,20,30,40,50,60,70,80]\n",
    "list2 = [12,20,34,45,58,60,30,40]\n",
    "diferent_list = []\n",
    "for i in list1:\n",
    "    found = False\n",
    "    for j in list2:\n",
    "        if i == j:\n",
    "            found = True\n",
    "            break\n",
    "    if not found:\n",
    "        diferent_list.append(i)\n",
    "print(diferent_list)"
   ]
  },
  {
   "cell_type": "code",
   "execution_count": null,
   "id": "05433a82-22b6-47b8-b01a-9d8199e922c9",
   "metadata": {},
   "outputs": [],
   "source": [
    "#23. Merge two lists."
   ]
  },
  {
   "cell_type": "code",
   "execution_count": 5,
   "id": "9a3e8f6b-e73f-4aa0-84f6-1419d4ed9a23",
   "metadata": {},
   "outputs": [
    {
     "name": "stdout",
     "output_type": "stream",
     "text": [
      "[10, 20, 30, 40, 50, 60, 70, 80, 12, 20, 34, 45, 58, 60, 30, 40]\n"
     ]
    }
   ],
   "source": [
    "list1 = [10,20,30,40,50,60,70,80]\n",
    "list2 = [12,20,34,45,58,60,30,40]\n",
    "merge_list = []\n",
    "for i in list1:\n",
    "    for j in list2:\n",
    "        if i == j:\n",
    "            merge_list = list1 + list2\n",
    "print(merge_list)"
   ]
  },
  {
   "cell_type": "code",
   "execution_count": null,
   "id": "9fbbc534-1b81-46b1-842d-f047944d5a9b",
   "metadata": {},
   "outputs": [],
   "source": [
    "#24. Multiply all elements in a list by 2."
   ]
  },
  {
   "cell_type": "code",
   "execution_count": 8,
   "id": "bab7b07d-c31a-4685-bfa8-8c054b45e5d5",
   "metadata": {},
   "outputs": [
    {
     "name": "stdout",
     "output_type": "stream",
     "text": [
      "[22, 4, 6, 8]\n"
     ]
    }
   ],
   "source": [
    "list1 = [11,2,3,4]\n",
    "list2 = []\n",
    "multiply_number = 2\n",
    "for i in list1:\n",
    "    list2.append(i*2)\n",
    "print(list2)"
   ]
  },
  {
   "cell_type": "code",
   "execution_count": null,
   "id": "b47e0e78-a5ea-449a-82f1-8da281969297",
   "metadata": {},
   "outputs": [],
   "source": [
    "#25 Filter out all even numbers from a list."
   ]
  },
  {
   "cell_type": "code",
   "execution_count": 1,
   "id": "f29c6c98-f046-4c2e-9e54-e15f46f7f1b6",
   "metadata": {},
   "outputs": [
    {
     "name": "stdout",
     "output_type": "stream",
     "text": [
      "[12, 14, 16]\n"
     ]
    }
   ],
   "source": [
    "list1 = [11,12,13,14,15,16,17]\n",
    "list2 = []\n",
    "for i in list1:\n",
    "    if i%2==0:\n",
    "        list2.append(i)\n",
    "print(list2)"
   ]
  },
  {
   "cell_type": "code",
   "execution_count": null,
   "id": "92040584-b731-4d48-a1d2-db12b7358a34",
   "metadata": {},
   "outputs": [],
   "source": [
    "#26. Convert a list of strings to a list of integers."
   ]
  },
  {
   "cell_type": "code",
   "execution_count": 2,
   "id": "33633d06-f58a-407d-9917-247b4ccd6be4",
   "metadata": {},
   "outputs": [
    {
     "name": "stdout",
     "output_type": "stream",
     "text": [
      "[11, 22, 33, 44, 55]\n"
     ]
    }
   ],
   "source": [
    "list1 = ['11', '22', '33', '44', '55']\n",
    "list1 = list(map(int, list1))\n",
    "print(list1)"
   ]
  },
  {
   "cell_type": "code",
   "execution_count": null,
   "id": "182bc306-e13e-4443-b410-8b153085e19b",
   "metadata": {},
   "outputs": [],
   "source": [
    "#27. Convert a list of integers to a list of strings."
   ]
  },
  {
   "cell_type": "code",
   "execution_count": 3,
   "id": "60ba1cfd-a209-4e02-8c65-afb8c2795d9e",
   "metadata": {},
   "outputs": [
    {
     "name": "stdout",
     "output_type": "stream",
     "text": [
      "['11', '22', '33', '44', '55']\n"
     ]
    }
   ],
   "source": [
    "list1 = [11, 22, 33, 44, 55]\n",
    "list1 = list(map(str, list1))\n",
    "print(list1)"
   ]
  },
  {
   "cell_type": "code",
   "execution_count": null,
   "id": "c892f506-2bc9-46fb-aa7a-4d0d4db2558c",
   "metadata": {},
   "outputs": [],
   "source": [
    "#28. Flatten a nested list."
   ]
  },
  {
   "cell_type": "code",
   "execution_count": 5,
   "id": "ebe96cc9-3112-45e5-a1ab-aaa2b39de6eb",
   "metadata": {},
   "outputs": [
    {
     "name": "stdout",
     "output_type": "stream",
     "text": [
      "[11, 22, 33, 44, 55, 66, 77, 88, 99]\n"
     ]
    }
   ],
   "source": [
    "list1 = [[11, 22, 33, 44], [55, 66, 77], [88, 99]]\n",
    "flat_list1 = sum(list1, [])\n",
    "print(flat_list1)"
   ]
  },
  {
   "cell_type": "code",
   "execution_count": null,
   "id": "08ee0b2d-ed41-4f26-b33f-9d206d415e44",
   "metadata": {},
   "outputs": [],
   "source": [
    "#29. Create a list of the first 10 Fibonacci numbers."
   ]
  },
  {
   "cell_type": "code",
   "execution_count": 13,
   "id": "8267aeb8-b712-4b0d-a907-2fc8fa21e094",
   "metadata": {},
   "outputs": [
    {
     "name": "stdout",
     "output_type": "stream",
     "text": [
      "[1, 1, 2, 3, 5, 8, 13, 21, 34, 55]\n"
     ]
    }
   ],
   "source": [
    "fibonacci_list = []\n",
    "n = 10\n",
    "a , b = 0, 1\n",
    "for i in range(10):\n",
    "        a, b = b, a+b\n",
    "        fibonacci_list.append(a)\n",
    "print(fibonacci_list)"
   ]
  },
  {
   "cell_type": "code",
   "execution_count": null,
   "id": "f72f3178-852b-40c6-a9b4-ba709b7c27d6",
   "metadata": {},
   "outputs": [],
   "source": [
    "#30. Check if a list is sorted."
   ]
  },
  {
   "cell_type": "code",
   "execution_count": 23,
   "id": "7b6abf30-714f-4f21-bffc-283818134218",
   "metadata": {},
   "outputs": [
    {
     "name": "stdout",
     "output_type": "stream",
     "text": [
      "True\n"
     ]
    }
   ],
   "source": [
    "list1 = [1,2,3,4,5,6]\n",
    "is_sorted = True\n",
    "for i in range(len(list1) -1):\n",
    "    if list1[i] > list1[i+1]:\n",
    "        is_sorted = False\n",
    "        break\n",
    "print(is_sorted)"
   ]
  },
  {
   "cell_type": "code",
   "execution_count": null,
   "id": "54b295e8-66f1-4cfe-95e9-f770bf7b50e2",
   "metadata": {},
   "outputs": [],
   "source": [
    "#31. Rotate a list to the left by `n` positions."
   ]
  },
  {
   "cell_type": "code",
   "execution_count": 9,
   "id": "eede9719-48b1-465b-87dd-8a53f7734dcf",
   "metadata": {},
   "outputs": [
    {
     "name": "stdout",
     "output_type": "stream",
     "text": [
      "[4, 5, 6, 1, 2, 3]\n"
     ]
    }
   ],
   "source": [
    "list1 = [1, 2, 3, 4, 5, 6]\n",
    "n = 3\n",
    "list1 = list1[n:] + list1[:n]\n",
    "print (list1)"
   ]
  },
  {
   "cell_type": "code",
   "execution_count": null,
   "id": "181b4ea0-83da-40fa-963e-190836e3a5ea",
   "metadata": {},
   "outputs": [],
   "source": [
    "#32. Rotate a list to the right by `n` positions."
   ]
  },
  {
   "cell_type": "code",
   "execution_count": 10,
   "id": "f335d16b-097f-405b-907b-5db2553b60f1",
   "metadata": {},
   "outputs": [
    {
     "name": "stdout",
     "output_type": "stream",
     "text": [
      "[4, 5, 6, 1, 2, 3]\n"
     ]
    }
   ],
   "source": [
    "list1 = [1, 2, 3, 4, 5, 6]\n",
    "n = 3\n",
    "list1 = list1[-n:] + list1[:-n]\n",
    "print (list1)"
   ]
  },
  {
   "cell_type": "code",
   "execution_count": null,
   "id": "3ab77ee1-6945-4e74-b053-d1a3ef265e52",
   "metadata": {},
   "outputs": [],
   "source": [
    "#33. Create a list of prime numbers up to 50."
   ]
  },
  {
   "cell_type": "code",
   "execution_count": 1,
   "id": "f08de9a8-92a7-4b10-96c7-4abb5edbbc2d",
   "metadata": {},
   "outputs": [
    {
     "name": "stdout",
     "output_type": "stream",
     "text": [
      "[2, 3, 5, 7, 11, 13, 17, 19, 23, 29, 31, 37, 41, 43, 47]\n"
     ]
    }
   ],
   "source": [
    "prime_number = []\n",
    "n = 50\n",
    "for i in range(2, n):\n",
    "    is_prime = True\n",
    "    for j in range(2, int(i ** .5) + 1):\n",
    "        if i % j == 0:\n",
    "            is_prime = False\n",
    "            break\n",
    "    if is_prime and i > 1:\n",
    "        prime_number.append(i)\n",
    "print(prime_number)"
   ]
  },
  {
   "cell_type": "code",
   "execution_count": null,
   "id": "9da19ff1-6948-4ce2-bf5a-35439e150777",
   "metadata": {},
   "outputs": [],
   "source": [
    "#34. Split a list into chunks of size `n`."
   ]
  },
  {
   "cell_type": "code",
   "execution_count": 7,
   "id": "55b9065e-f638-4aec-ae06-95f830124c14",
   "metadata": {},
   "outputs": [
    {
     "name": "stdout",
     "output_type": "stream",
     "text": [
      "[1, 2, 3]\n",
      "[4, 5, 6]\n",
      "[7, 8, 9]\n"
     ]
    }
   ],
   "source": [
    "list1 = [1,2,3,4,5,6,7,8,9]\n",
    "step = 3\n",
    "start = 0\n",
    "for i in range(start, len(list1), step):\n",
    "    print(list1[i:i+step])\n"
   ]
  },
  {
   "cell_type": "code",
   "execution_count": null,
   "id": "f3e57a39-d73c-4f64-a200-c478db190673",
   "metadata": {},
   "outputs": [],
   "source": [
    "#35. Find the second largest number in a list."
   ]
  },
  {
   "cell_type": "code",
   "execution_count": 11,
   "id": "c1523573-4eb2-4f90-a98a-870d4941d8e9",
   "metadata": {},
   "outputs": [
    {
     "name": "stdout",
     "output_type": "stream",
     "text": [
      "8\n"
     ]
    }
   ],
   "source": [
    "list1 = [1,2,3,4,5,6,7,8,9]\n",
    "largest = second_largest = float('-inf')\n",
    "for i in list1:\n",
    "    if i > largest:\n",
    "        second_largest = largest\n",
    "        largest = i\n",
    "    elif i > second_largest and i != largest:\n",
    "        second_largest = i\n",
    "number = second_largest\n",
    "print(number)"
   ]
  },
  {
   "cell_type": "code",
   "execution_count": null,
   "id": "45f24e99-e808-4fdb-8001-a7b921021a80",
   "metadata": {},
   "outputs": [],
   "source": [
    "#36. Replace every element in a list with its square."
   ]
  },
  {
   "cell_type": "code",
   "execution_count": 1,
   "id": "35422c1f-d789-49f4-bda9-012571f212e0",
   "metadata": {},
   "outputs": [
    {
     "name": "stdout",
     "output_type": "stream",
     "text": [
      "[1, 4, 9, 16]\n"
     ]
    }
   ],
   "source": [
    "list1 = [1,2,3,4]\n",
    "list2 = []\n",
    "for i in list1:\n",
    "    list2.append(i**2)\n",
    "print(list2)"
   ]
  },
  {
   "cell_type": "code",
   "execution_count": null,
   "id": "9133a18a-dba1-45c5-9940-7026b6354b2e",
   "metadata": {},
   "outputs": [],
   "source": [
    "#37. Convert a list to a dictionary where list elements become keys and their indices become values."
   ]
  },
  {
   "cell_type": "code",
   "execution_count": 1,
   "id": "7b18a2fa-ebb8-4c78-a46a-57f776e4cd00",
   "metadata": {},
   "outputs": [
    {
     "name": "stdout",
     "output_type": "stream",
     "text": [
      "{'pwskills': 0, 'data': 1, 'education': 2, 'science': 3}\n"
     ]
    }
   ],
   "source": [
    "list1 = [\"pwskills\", \"data\", \"education\", \"science\"]\n",
    "dict_list1 = {value: index for index, value in enumerate(list1)}\n",
    "print(dict_list1)"
   ]
  },
  {
   "cell_type": "code",
   "execution_count": null,
   "id": "d5564515-1157-4688-abbc-d916ac39b4b3",
   "metadata": {},
   "outputs": [],
   "source": [
    "#38. Shuffle the elements of a list randomly."
   ]
  },
  {
   "cell_type": "code",
   "execution_count": 6,
   "id": "5e83d2c3-b989-4877-bd9d-aecc7a715853",
   "metadata": {},
   "outputs": [
    {
     "name": "stdout",
     "output_type": "stream",
     "text": [
      "[1, 6, 8, 3, 2, 4, 7, 9, 5]\n"
     ]
    }
   ],
   "source": [
    "import random\n",
    "list1 = [1,2,3,4,5,6,7,8,9]\n",
    "random.shuffle(list1)\n",
    "print(list1)"
   ]
  },
  {
   "cell_type": "code",
   "execution_count": null,
   "id": "917af2ef-e7db-4a92-b0e2-9990d5dcc11d",
   "metadata": {},
   "outputs": [],
   "source": [
    "#39. Create a list of the first 10 factorial numbers."
   ]
  },
  {
   "cell_type": "code",
   "execution_count": 7,
   "id": "92f51b1e-b4e3-4931-b794-f682f31c7c59",
   "metadata": {},
   "outputs": [
    {
     "name": "stdout",
     "output_type": "stream",
     "text": [
      "[1, 2, 12, 288, 34560, 24883200, 125411328000, 5056584744960000, 1834933472251084800000, 6658606584104736522240000000]\n"
     ]
    }
   ],
   "source": [
    "factorial_list = []\n",
    "factorial = 1\n",
    "for i in range(1,11):\n",
    "    for j in range(1, i+1):\n",
    "        factorial *=j\n",
    "    factorial_list.append(factorial)\n",
    "print(factorial_list)"
   ]
  },
  {
   "cell_type": "code",
   "execution_count": null,
   "id": "5c7ca065-6513-4199-bb40-1250ca928f57",
   "metadata": {},
   "outputs": [],
   "source": [
    "#40. Check if two lists have at least one element in common."
   ]
  },
  {
   "cell_type": "code",
   "execution_count": 15,
   "id": "88e37e5d-3a44-46bd-bf9b-e382f233683e",
   "metadata": {},
   "outputs": [
    {
     "name": "stdout",
     "output_type": "stream",
     "text": [
      "True\n"
     ]
    }
   ],
   "source": [
    "list1 = [1,2,3,4,5]\n",
    "list2 = [6,7,8,9,10,1]\n",
    "common_element = False\n",
    "for i in list1:\n",
    "    for j in list2:\n",
    "        if i == j:\n",
    "            common_element = True\n",
    "            \n",
    "    if common_element:\n",
    "        break\n",
    "print(common_element) "
   ]
  },
  {
   "cell_type": "code",
   "execution_count": null,
   "id": "59aebfb9-81a7-4242-9320-2c97e1516e73",
   "metadata": {},
   "outputs": [],
   "source": [
    "#41. Remove all elements from a list."
   ]
  },
  {
   "cell_type": "code",
   "execution_count": 1,
   "id": "f0dd4523-b16f-41d4-9887-ed1e7c5b0d89",
   "metadata": {},
   "outputs": [
    {
     "name": "stdout",
     "output_type": "stream",
     "text": [
      "[]\n"
     ]
    }
   ],
   "source": [
    "list1 = [1,2,3,4,5,6,7]\n",
    "list1.clear()\n",
    "print(list1)"
   ]
  },
  {
   "cell_type": "code",
   "execution_count": null,
   "id": "764d9f38-2260-40da-a477-37239431036c",
   "metadata": {},
   "outputs": [],
   "source": [
    "#42. Replace negative numbers in a list with 0."
   ]
  },
  {
   "cell_type": "code",
   "execution_count": 11,
   "id": "8cd702ff-da4c-46d2-a5bf-63c187dbd09b",
   "metadata": {},
   "outputs": [
    {
     "name": "stdout",
     "output_type": "stream",
     "text": [
      "[1, 2, 0, 4, 5, 0, 0, 0]\n"
     ]
    }
   ],
   "source": [
    "list1 = [1,2,-3,4,5,-6,-8,-7]\n",
    "for i in range(len(list1)):\n",
    "    if list1[i] < 0:\n",
    "        list1[i] = 0\n",
    "print(list1)"
   ]
  },
  {
   "cell_type": "code",
   "execution_count": null,
   "id": "af1dd5f9-74a9-42a6-9d73-20e7fad9aa39",
   "metadata": {},
   "outputs": [],
   "source": [
    "#43. Convert a string into a list of words."
   ]
  },
  {
   "cell_type": "code",
   "execution_count": 18,
   "id": "442e2416-9fac-401b-be8d-00227850a0f7",
   "metadata": {},
   "outputs": [
    {
     "name": "stdout",
     "output_type": "stream",
     "text": [
      "['pwskills', 'is', 'best', 'for', 'data', 'science']\n"
     ]
    }
   ],
   "source": [
    "string = \"pwskills is best for data science\"\n",
    "list1 =string.split()\n",
    "print(list1)\n"
   ]
  },
  {
   "cell_type": "code",
   "execution_count": null,
   "id": "ef12ecd0-dbc8-4e14-a14c-83f153843e6f",
   "metadata": {},
   "outputs": [],
   "source": [
    "#44. Convert a list of words into a string."
   ]
  },
  {
   "cell_type": "code",
   "execution_count": 20,
   "id": "4111ab6f-f613-4179-bd5c-5517b59431f9",
   "metadata": {},
   "outputs": [
    {
     "name": "stdout",
     "output_type": "stream",
     "text": [
      "pwskills is best for data science\n"
     ]
    }
   ],
   "source": [
    "list1 = ['pwskills', 'is', 'best', 'for', 'data', 'science']\n",
    "string = \" \".join(list1)\n",
    "print(string)\n"
   ]
  },
  {
   "cell_type": "code",
   "execution_count": null,
   "id": "76ec9c22-0197-470d-a7d3-efad087de36c",
   "metadata": {},
   "outputs": [],
   "source": [
    "#45. Create a list of the first `n` powers of 2."
   ]
  },
  {
   "cell_type": "code",
   "execution_count": 21,
   "id": "a15efdfc-a986-42cb-875b-9ad6e0db690a",
   "metadata": {},
   "outputs": [
    {
     "name": "stdout",
     "output_type": "stream",
     "text": [
      "[1, 2, 4, 8, 16]\n"
     ]
    }
   ],
   "source": [
    "n = 5\n",
    "powers_of_2 = [2 ** i for i in range(n)]\n",
    "print(powers_of_2)\n"
   ]
  },
  {
   "cell_type": "code",
   "execution_count": null,
   "id": "35c57ecf-5dcf-4904-ab9a-92a659f7c9e6",
   "metadata": {},
   "outputs": [],
   "source": [
    "#46. Find the longest string in a list of strings."
   ]
  },
  {
   "cell_type": "code",
   "execution_count": 23,
   "id": "9194bd7c-ba7a-4916-a99d-e423f2f1a610",
   "metadata": {},
   "outputs": [
    {
     "name": "stdout",
     "output_type": "stream",
     "text": [
      "strawberry\n"
     ]
    }
   ],
   "source": [
    "string = [\"apple\", \"banana\",\"strawberry\", \"orange\"]\n",
    "longest_string = max(string, key=len)\n",
    "print(longest_string)"
   ]
  },
  {
   "cell_type": "code",
   "execution_count": null,
   "id": "436191d6-362e-45f8-ad43-d7f65078900a",
   "metadata": {},
   "outputs": [],
   "source": [
    "#47. Find the shortest string in a list of strings."
   ]
  },
  {
   "cell_type": "code",
   "execution_count": 1,
   "id": "b8d1669a-2ff3-4c95-af1a-85a76af8ce73",
   "metadata": {},
   "outputs": [
    {
     "name": "stdout",
     "output_type": "stream",
     "text": [
      "apple\n"
     ]
    }
   ],
   "source": [
    "string = [\"apple\", \"banana\",\"strawberry\", \"orange\"]\n",
    "shortest_string = min(string, key=len)\n",
    "print(shortest_string)"
   ]
  },
  {
   "cell_type": "code",
   "execution_count": null,
   "id": "fcc0b4bb-c914-4460-94e6-e8d45e692ccb",
   "metadata": {},
   "outputs": [],
   "source": [
    "#48. Create a list of the first `n` triangular numbers."
   ]
  },
  {
   "cell_type": "code",
   "execution_count": 15,
   "id": "ceb9316b-b3ff-45f2-a379-b3df9efa66e8",
   "metadata": {},
   "outputs": [
    {
     "name": "stdout",
     "output_type": "stream",
     "text": [
      "[1, 3, 6, 10, 15, 21, 28, 36, 45, 55]\n"
     ]
    }
   ],
   "source": [
    "triangular_number_list1 = []\n",
    "n = 10\n",
    "for i in range(1, n + 1):\n",
    "    triangular_number = (i * (i + 1)) // 2  \n",
    "    triangular_number_list1.append(triangular_number)  \n",
    "print(triangular_number_list1)  "
   ]
  },
  {
   "cell_type": "code",
   "execution_count": null,
   "id": "9760c2c7-afdb-40e4-9c5d-e69202b00e21",
   "metadata": {},
   "outputs": [],
   "source": [
    "#49. Check if a list contains another list as a subsequence."
   ]
  },
  {
   "cell_type": "code",
   "execution_count": 10,
   "id": "bea23b57-bf1d-46a8-9256-d90e1ec462d5",
   "metadata": {},
   "outputs": [
    {
     "name": "stdout",
     "output_type": "stream",
     "text": [
      "The sublist is not a subsequence of list1.\n"
     ]
    }
   ],
   "source": [
    "list1 = [1,2,3,4,5,6,7,8,9]\n",
    "sublist = [44,55,66]\n",
    "def is_subsequence(list1, sublist):\n",
    "    j = 0  # Index for sublist\n",
    "    for i in range(len(list1)):\n",
    "        if list1[i] == sublist[j]:\n",
    "            j += 1\n",
    "            if j == len(sublist):\n",
    "                return True\n",
    "        else:\n",
    "            j = 0\n",
    "    return False\n",
    "result = is_subsequence(list1, sublist)\n",
    "if result:\n",
    "    print(\"The sublist is a subsequence of list1.\")\n",
    "else:\n",
    "    print(\"The sublist is not a subsequence of list1.\")"
   ]
  },
  {
   "cell_type": "code",
   "execution_count": null,
   "id": "70e71bc2-2e4c-475c-8fff-5bb616e0d6a9",
   "metadata": {},
   "outputs": [],
   "source": [
    "#50. Swap two elements in a list by their indices."
   ]
  },
  {
   "cell_type": "code",
   "execution_count": 19,
   "id": "829494af-3766-4662-841a-d09415179bdb",
   "metadata": {},
   "outputs": [
    {
     "name": "stdout",
     "output_type": "stream",
     "text": [
      "[1, 22, 5, 4, 3, 6, 7]\n"
     ]
    }
   ],
   "source": [
    "list1 =  [1,22,3,4,5,6,7]\n",
    "swap_indices1 = 2\n",
    "swap_indices2 = 4\n",
    "swap_elements(list1, swap_indices1, swap_indices2 )\n",
    "print(list1)\n"
   ]
  },
  {
   "cell_type": "code",
   "execution_count": null,
   "id": "0e798cec-1396-4a98-915a-57a2027fad5c",
   "metadata": {},
   "outputs": [],
   "source": [
    "#Tuple Based Practice Problem :"
   ]
  },
  {
   "cell_type": "code",
   "execution_count": null,
   "id": "9b3bdec2-6fa8-48e8-97b0-fb8695f88998",
   "metadata": {},
   "outputs": [],
   "source": [
    "#1. Create a tuple with integers from 1 to 5."
   ]
  },
  {
   "cell_type": "code",
   "execution_count": 20,
   "id": "bfaddf0f-7747-454a-a6cf-3d2a7aa0b0dd",
   "metadata": {},
   "outputs": [
    {
     "name": "stdout",
     "output_type": "stream",
     "text": [
      "(1, 2, 3, 4, 5)\n"
     ]
    }
   ],
   "source": [
    "tuple1 = tuple(range(1,6))\n",
    "print(tuple1)"
   ]
  },
  {
   "cell_type": "code",
   "execution_count": null,
   "id": "d462fb7e-745d-49d3-aa27-f58a96da2e91",
   "metadata": {},
   "outputs": [],
   "source": [
    "#2. Access the third element of a tuple."
   ]
  },
  {
   "cell_type": "code",
   "execution_count": 22,
   "id": "1cda6bab-3613-4280-b806-3ab826400d44",
   "metadata": {},
   "outputs": [
    {
     "data": {
      "text/plain": [
       "3"
      ]
     },
     "execution_count": 22,
     "metadata": {},
     "output_type": "execute_result"
    }
   ],
   "source": [
    "tuple1 = (1, 2, 3, 4, 5)\n",
    "tuple1[2]"
   ]
  },
  {
   "cell_type": "code",
   "execution_count": null,
   "id": "51e94653-f33e-4b26-b8e8-a28760b4c490",
   "metadata": {},
   "outputs": [],
   "source": [
    "#3. Find the length of a tuple without using the `len()` function."
   ]
  },
  {
   "cell_type": "code",
   "execution_count": 29,
   "id": "fd3ad7e3-244a-41a6-998a-5bedff0a7d78",
   "metadata": {},
   "outputs": [
    {
     "name": "stdout",
     "output_type": "stream",
     "text": [
      "the length of a tuple: 5\n"
     ]
    }
   ],
   "source": [
    "tuple1 = (1, 2, 3, 4, 5)\n",
    "count = 0\n",
    "for t in tuple1:\n",
    "    count += 1\n",
    "print(\"the length of a tuple:\", count)"
   ]
  },
  {
   "cell_type": "code",
   "execution_count": null,
   "id": "ec12b5f7-51dd-4ed9-9066-357cb131ae12",
   "metadata": {},
   "outputs": [],
   "source": [
    "#4. Count the occurrences of an element in a tuple."
   ]
  },
  {
   "cell_type": "code",
   "execution_count": 3,
   "id": "f8bdfea0-b751-4a37-b9f5-7749dd4fb8ac",
   "metadata": {},
   "outputs": [
    {
     "name": "stdout",
     "output_type": "stream",
     "text": [
      "4\n"
     ]
    }
   ],
   "source": [
    "tuple1 = (1, 2, 2, 3, 4, 2, 5,2)\n",
    "element_to_count = 2\n",
    "count = tuple1.count(element_to_count)\n",
    "print(count)"
   ]
  },
  {
   "cell_type": "code",
   "execution_count": null,
   "id": "a0c98295-f08b-4502-bcf5-5f551cfba67f",
   "metadata": {},
   "outputs": [],
   "source": [
    "#5. Find the index of the first occurrence of an element in a tuple."
   ]
  },
  {
   "cell_type": "code",
   "execution_count": 7,
   "id": "fc5168c3-586c-4b04-bdf9-04413d109a3e",
   "metadata": {},
   "outputs": [
    {
     "name": "stdout",
     "output_type": "stream",
     "text": [
      "1\n"
     ]
    }
   ],
   "source": [
    "tuple1 = (1,2,3,4,5,6,7)\n",
    "element_to_find = 2\n",
    "index = tuple1.index(element_to_find)\n",
    "print(index)"
   ]
  },
  {
   "cell_type": "code",
   "execution_count": null,
   "id": "187af7bd-650e-4a44-a0e0-3da9b0ffc235",
   "metadata": {},
   "outputs": [],
   "source": [
    "#6. Check if an element exists in a tuple."
   ]
  },
  {
   "cell_type": "code",
   "execution_count": 12,
   "id": "58562714-9055-4b92-b5a3-991a69e0cec6",
   "metadata": {},
   "outputs": [
    {
     "name": "stdout",
     "output_type": "stream",
     "text": [
      "element is found\n"
     ]
    }
   ],
   "source": [
    "tuple1 = (1,2,3,4,5,6,7)\n",
    "element_to_check = 2\n",
    "if element_to_check in tuple1:\n",
    "    print(\"element is found\")\n",
    "else:\n",
    "    print(\"element not found\")"
   ]
  },
  {
   "cell_type": "code",
   "execution_count": null,
   "id": "c6e38021-2487-47e1-8f23-a7c6325926e6",
   "metadata": {},
   "outputs": [],
   "source": [
    "#7. Convert a tuple to a list."
   ]
  },
  {
   "cell_type": "code",
   "execution_count": 13,
   "id": "ea388132-c642-43d0-8b93-5e0df104ce9a",
   "metadata": {},
   "outputs": [
    {
     "name": "stdout",
     "output_type": "stream",
     "text": [
      "[1, 2, 3, 4, 5, 6, 7]\n"
     ]
    }
   ],
   "source": [
    "tuple1 = (1,2,3,4,5,6,7)\n",
    "print(list(tuple1))"
   ]
  },
  {
   "cell_type": "code",
   "execution_count": null,
   "id": "a77f1997-a5d5-4f18-add9-bed9ac042d32",
   "metadata": {},
   "outputs": [],
   "source": [
    "#8. Convert a list to a tuple."
   ]
  },
  {
   "cell_type": "code",
   "execution_count": 14,
   "id": "3e431c43-a28c-4271-90b7-091a55e4ec28",
   "metadata": {},
   "outputs": [
    {
     "name": "stdout",
     "output_type": "stream",
     "text": [
      "(1, 2, 3, 4, 5, 6, 7)\n"
     ]
    }
   ],
   "source": [
    "list1 = [1, 2, 3, 4, 5, 6, 7]\n",
    "print(tuple(list1))"
   ]
  },
  {
   "cell_type": "code",
   "execution_count": null,
   "id": "ce46466f-af64-4d00-9772-d0fe336fbd48",
   "metadata": {},
   "outputs": [],
   "source": [
    "#9. Unpack the elements of a tuple into variables."
   ]
  },
  {
   "cell_type": "code",
   "execution_count": 16,
   "id": "e4c8c362-342c-47af-a088-05011744b401",
   "metadata": {},
   "outputs": [
    {
     "name": "stdout",
     "output_type": "stream",
     "text": [
      "1\n",
      "2\n",
      "3\n",
      "4\n"
     ]
    }
   ],
   "source": [
    "tuple1 = (1,2,3,4,)\n",
    "a,b,c,d = tuple1\n",
    "print(a)\n",
    "print(b)\n",
    "print(c)\n",
    "print(d)"
   ]
  },
  {
   "cell_type": "code",
   "execution_count": null,
   "id": "eca3e28c-3a60-4a89-a0a3-44d6d4c3b334",
   "metadata": {},
   "outputs": [],
   "source": [
    "#10. Create a tuple of even numbers from 1 to 10."
   ]
  },
  {
   "cell_type": "code",
   "execution_count": 17,
   "id": "7c22101d-1e67-4bb1-b015-527c3dce43c5",
   "metadata": {},
   "outputs": [
    {
     "name": "stdout",
     "output_type": "stream",
     "text": [
      "(2, 4, 6, 8, 10)\n"
     ]
    }
   ],
   "source": [
    "even_number = tuple(i for i in range(1,11) if i%2== 0)\n",
    "print(even_number)"
   ]
  },
  {
   "cell_type": "code",
   "execution_count": null,
   "id": "96987a65-34a6-4e97-924f-87a6f8ddc7a4",
   "metadata": {},
   "outputs": [],
   "source": [
    "#11.Create a tuple of odd numbers from 1 to 10."
   ]
  },
  {
   "cell_type": "code",
   "execution_count": 18,
   "id": "8695daef-b386-49d0-ae63-f7ebfc683d4b",
   "metadata": {},
   "outputs": [
    {
     "name": "stdout",
     "output_type": "stream",
     "text": [
      "(1, 3, 5, 7, 9)\n"
     ]
    }
   ],
   "source": [
    "odd_number = tuple(i for i in range(1,11) if i%2 != 0)\n",
    "print(odd_number)"
   ]
  },
  {
   "cell_type": "code",
   "execution_count": null,
   "id": "d44231b0-8cc9-433b-b3a5-3134e614e0ea",
   "metadata": {},
   "outputs": [],
   "source": [
    "#12. Concatenate two tuples."
   ]
  },
  {
   "cell_type": "code",
   "execution_count": 19,
   "id": "da905365-e3a4-45a9-85b9-18c19d3e3b92",
   "metadata": {},
   "outputs": [
    {
     "name": "stdout",
     "output_type": "stream",
     "text": [
      "(1, 2, 3, 4, 5, 6, 8, 9)\n"
     ]
    }
   ],
   "source": [
    "tuple1 = (1,2,3,4,5)\n",
    "tuple2 = (6,8,9)\n",
    "concatenate_tuple = tuple1 + tuple2\n",
    "print(concatenate_tuple)"
   ]
  },
  {
   "cell_type": "code",
   "execution_count": null,
   "id": "09e0852d-ab0f-4d67-b5b3-d60f99a72745",
   "metadata": {},
   "outputs": [],
   "source": [
    "#13. Repeat a tuple three times."
   ]
  },
  {
   "cell_type": "code",
   "execution_count": 22,
   "id": "b294def0-5e38-461b-b4b5-6bb9162ba5e9",
   "metadata": {},
   "outputs": [
    {
     "name": "stdout",
     "output_type": "stream",
     "text": [
      "(1, 2, 3, 1, 2, 3, 1, 2, 3)\n"
     ]
    }
   ],
   "source": [
    "tuple1 = (1,2,3)\n",
    "repeat_tuple1 = tuple1 * 3\n",
    "print(repeat_tuple1)"
   ]
  },
  {
   "cell_type": "code",
   "execution_count": null,
   "id": "c146f59b-1cb0-4479-a814-aeaa9ff0c262",
   "metadata": {},
   "outputs": [],
   "source": [
    "#14. Check if a tuple is empty."
   ]
  },
  {
   "cell_type": "code",
   "execution_count": 23,
   "id": "0f9f53d6-97d1-4263-863d-f529bbb6bac5",
   "metadata": {},
   "outputs": [
    {
     "name": "stdout",
     "output_type": "stream",
     "text": [
      "The tuple is not empty\n"
     ]
    }
   ],
   "source": [
    "tuple1 = (1, 2, 3)  \n",
    "if len(tuple1) == 0:\n",
    "    print(\"The tuple is empty\")\n",
    "else:\n",
    "    print(\"The tuple is not empty\")"
   ]
  },
  {
   "cell_type": "code",
   "execution_count": null,
   "id": "7ae17609-0169-4f85-85ab-6c2f776bc15b",
   "metadata": {},
   "outputs": [],
   "source": [
    "#15.Create a nested tuple."
   ]
  },
  {
   "cell_type": "code",
   "execution_count": 24,
   "id": "0dfb413f-2c2f-4b1f-81e1-2e0250986010",
   "metadata": {},
   "outputs": [
    {
     "name": "stdout",
     "output_type": "stream",
     "text": [
      "((1, 2, 3), ('apple', 'banana'), (True, False))\n"
     ]
    }
   ],
   "source": [
    "nested_tuple = ((1, 2, 3), (\"apple\", \"banana\"), (True, False))\n",
    "print(nested_tuple)"
   ]
  },
  {
   "cell_type": "code",
   "execution_count": null,
   "id": "c46de2af-1e5b-4434-ac49-f74e3f0e08b6",
   "metadata": {},
   "outputs": [],
   "source": [
    "#16. Access the first element of a nested tuple."
   ]
  },
  {
   "cell_type": "code",
   "execution_count": 25,
   "id": "88a2e66d-d1b5-4210-8e23-c633c85f3972",
   "metadata": {},
   "outputs": [
    {
     "name": "stdout",
     "output_type": "stream",
     "text": [
      "(1, 2, 3)\n"
     ]
    }
   ],
   "source": [
    "nested_tuple = ((1, 2, 3), ('apple', 'banana'), (True, False))\n",
    "first_inner_tuple = nested_tuple[0]  \n",
    "print(first_inner_tuple)"
   ]
  },
  {
   "cell_type": "code",
   "execution_count": null,
   "id": "f3373048-653d-4c75-b2f5-f095c9c1ce1d",
   "metadata": {},
   "outputs": [],
   "source": [
    "#17.Create a tuple with a single element."
   ]
  },
  {
   "cell_type": "code",
   "execution_count": 28,
   "id": "46ee9c78-c08d-46d4-b3ae-8816cf4fa736",
   "metadata": {},
   "outputs": [
    {
     "name": "stdout",
     "output_type": "stream",
     "text": [
      "<class 'tuple'>\n"
     ]
    }
   ],
   "source": [
    "single_element_tuple = (5,)  \n",
    "print(type(single_element_tuple))"
   ]
  },
  {
   "cell_type": "code",
   "execution_count": null,
   "id": "93fd0ca0-e127-46a1-8e25-c510f46c1f48",
   "metadata": {},
   "outputs": [],
   "source": [
    "#18. Compare two tuples."
   ]
  },
  {
   "cell_type": "code",
   "execution_count": 2,
   "id": "f01977cf-bbc1-4fa3-babf-dede97bbad9f",
   "metadata": {},
   "outputs": [
    {
     "name": "stdout",
     "output_type": "stream",
     "text": [
      "tuple1 == tuple2: True\n",
      "tuple1 != tuple2: False\n",
      "tuple1 < tuple2: False\n",
      "tuple1 <= tuple2: True\n",
      "tuple1 > tuple2: False\n",
      "tuple1 >= tuple2: True\n"
     ]
    }
   ],
   "source": [
    "tuple1 = (1, 2, 3)\n",
    "tuple2 = (1, 2, 3)\n",
    "print(\"tuple1 == tuple2:\", tuple1 == tuple2)  # Equality check\n",
    "print(\"tuple1 != tuple2:\", tuple1 != tuple2)  # Inequality check\n",
    "print(\"tuple1 < tuple2:\", tuple1 < tuple2)    # Less than check\n",
    "print(\"tuple1 <= tuple2:\", tuple1 <= tuple2)  # Less than or equal to check\n",
    "print(\"tuple1 > tuple2:\", tuple1 > tuple2)    # Greater than check\n",
    "print(\"tuple1 >= tuple2:\", tuple1 >= tuple2)  # Greater than or equal check"
   ]
  },
  {
   "cell_type": "code",
   "execution_count": null,
   "id": "46a6d294-d693-4c44-976e-35e760fa0aaa",
   "metadata": {},
   "outputs": [],
   "source": [
    "#19. Delete a tuple."
   ]
  },
  {
   "cell_type": "code",
   "execution_count": 4,
   "id": "ffcf9d43-a865-473f-9c84-f9333e784c09",
   "metadata": {},
   "outputs": [
    {
     "ename": "NameError",
     "evalue": "name 'tuple1' is not defined",
     "output_type": "error",
     "traceback": [
      "\u001b[0;31m---------------------------------------------------------------------------\u001b[0m",
      "\u001b[0;31mNameError\u001b[0m                                 Traceback (most recent call last)",
      "Cell \u001b[0;32mIn[4], line 3\u001b[0m\n\u001b[1;32m      1\u001b[0m tuple1 \u001b[38;5;241m=\u001b[39m (\u001b[38;5;241m1\u001b[39m, \u001b[38;5;241m2\u001b[39m, \u001b[38;5;241m3\u001b[39m)\n\u001b[1;32m      2\u001b[0m \u001b[38;5;28;01mdel\u001b[39;00m tuple1\n\u001b[0;32m----> 3\u001b[0m \u001b[38;5;28mprint\u001b[39m(\u001b[43mtuple1\u001b[49m)\n",
      "\u001b[0;31mNameError\u001b[0m: name 'tuple1' is not defined"
     ]
    }
   ],
   "source": [
    "tuple1 = (1, 2, 3)\n",
    "del tuple1\n",
    "print(tuple1)"
   ]
  },
  {
   "cell_type": "code",
   "execution_count": null,
   "id": "34a980d6-3042-4113-8f24-6e109790bb8f",
   "metadata": {},
   "outputs": [],
   "source": [
    "#20. Slice a tuple."
   ]
  },
  {
   "cell_type": "code",
   "execution_count": 5,
   "id": "1fa2efb5-7c8c-4cc4-a97e-502b155d9d45",
   "metadata": {},
   "outputs": [
    {
     "name": "stdout",
     "output_type": "stream",
     "text": [
      "(2, 3, 4, 5)\n"
     ]
    }
   ],
   "source": [
    "tuple1 = (1, 2, 3,4,5,6,7,8,9)\n",
    "print(tuple1[1:5])"
   ]
  },
  {
   "cell_type": "code",
   "execution_count": null,
   "id": "235e847f-cfe2-4b9c-81e2-26f8cd02da45",
   "metadata": {},
   "outputs": [],
   "source": [
    "#21. Find the maximum value in a tuple."
   ]
  },
  {
   "cell_type": "code",
   "execution_count": 6,
   "id": "471f69ab-f766-4819-bd4e-6970582dc7b8",
   "metadata": {},
   "outputs": [
    {
     "name": "stdout",
     "output_type": "stream",
     "text": [
      "9\n"
     ]
    }
   ],
   "source": [
    "tuple1 = (1, 2, 3,4,5,6,7,8,9)\n",
    "print(max(tuple1))"
   ]
  },
  {
   "cell_type": "code",
   "execution_count": null,
   "id": "e6d99b83-8d0d-4083-9ea7-a35f6b3edb91",
   "metadata": {},
   "outputs": [],
   "source": [
    "#22. Find the minimum value in a tuple."
   ]
  },
  {
   "cell_type": "code",
   "execution_count": 7,
   "id": "9993ca7a-b6d7-4087-a8de-872864ac7301",
   "metadata": {},
   "outputs": [
    {
     "name": "stdout",
     "output_type": "stream",
     "text": [
      "1\n"
     ]
    }
   ],
   "source": [
    "tuple1 = (1, 2, 3,4,5,6,7,8,9)\n",
    "print(min(tuple1))"
   ]
  },
  {
   "cell_type": "code",
   "execution_count": null,
   "id": "2f721a3c-a833-405c-b2f6-93cef908b2e4",
   "metadata": {},
   "outputs": [],
   "source": [
    "#23. Convert a string to a tuple of characters."
   ]
  },
  {
   "cell_type": "code",
   "execution_count": 10,
   "id": "09bbf218-5fd9-4f9e-b7da-175dac85eeb7",
   "metadata": {},
   "outputs": [
    {
     "name": "stdout",
     "output_type": "stream",
     "text": [
      "('H', 'e', 'l', 'l', 'o', ' ', 'W', 'o', 'r', 'l', 'd', '!')\n"
     ]
    }
   ],
   "source": [
    "string1 = \"Hello World!\"\n",
    "character_tuple = tuple(string1)\n",
    "print(character_tuple)"
   ]
  },
  {
   "cell_type": "code",
   "execution_count": null,
   "id": "b08cfb92-7eae-47e7-8d87-ca7a348b9ce8",
   "metadata": {},
   "outputs": [],
   "source": [
    "#24. Convert a tuple of characters to a string."
   ]
  },
  {
   "cell_type": "code",
   "execution_count": 12,
   "id": "2d684609-3b4a-4c04-9ce0-6828fb010073",
   "metadata": {},
   "outputs": [
    {
     "name": "stdout",
     "output_type": "stream",
     "text": [
      "Hello World!\n"
     ]
    }
   ],
   "source": [
    "tuple1 = ('H', 'e', 'l', 'l', 'o', ' ', 'W', 'o', 'r', 'l', 'd', '!')\n",
    "string1 = \"\".join(tuple1)\n",
    "print(string1)"
   ]
  },
  {
   "cell_type": "code",
   "execution_count": null,
   "id": "bdd5e54e-ba64-4245-af2d-f733db0387c4",
   "metadata": {},
   "outputs": [],
   "source": [
    "#25. Create a tuple from multiple data types."
   ]
  },
  {
   "cell_type": "code",
   "execution_count": 13,
   "id": "51be7e87-062b-4cc5-bcab-94d07f1ad012",
   "metadata": {},
   "outputs": [
    {
     "name": "stdout",
     "output_type": "stream",
     "text": [
      "(10, 'hello', True, 3.14)\n"
     ]
    }
   ],
   "source": [
    "tuple1 = (10, \"hello\", True, 3.14)\n",
    "print(tuple1)"
   ]
  },
  {
   "cell_type": "code",
   "execution_count": null,
   "id": "b1621c26-09cd-44b0-9fec-4aceb067235e",
   "metadata": {},
   "outputs": [],
   "source": [
    "#26. Check if two tuples are identical."
   ]
  },
  {
   "cell_type": "code",
   "execution_count": 14,
   "id": "66d467c9-a7b4-4f90-a1ac-1079df4e46a5",
   "metadata": {},
   "outputs": [
    {
     "name": "stdout",
     "output_type": "stream",
     "text": [
      "Tuples 1 and 2 are identical\n",
      "Tuples 1 and 3 are not identical\n"
     ]
    }
   ],
   "source": [
    "tuple1 = (1, 2, 3)\n",
    "tuple2 = (1, 2, 3)\n",
    "tuple3 = (1, 4, 3)\n",
    "if tuple1 == tuple2:\n",
    "    print(\"Tuples 1 and 2 are identical\")\n",
    "else:\n",
    "    print(\"Tuples 1 and 2 are not identical\")\n",
    "if tuple1 == tuple3:\n",
    "    print(\"Tuples 1 and 3 are identical\")\n",
    "else:\n",
    "    print(\"Tuples 1 and 3 are not identical\")\n"
   ]
  },
  {
   "cell_type": "code",
   "execution_count": 15,
   "id": "4b604755-6716-4262-928b-e86384097c2a",
   "metadata": {},
   "outputs": [],
   "source": [
    "#27. Sort the elements of a tuple."
   ]
  },
  {
   "cell_type": "code",
   "execution_count": 16,
   "id": "4db8096d-2b57-46f0-9eb9-6fb81c5e8c8e",
   "metadata": {},
   "outputs": [
    {
     "name": "stdout",
     "output_type": "stream",
     "text": [
      "(1, 2, 3, 4, 5)\n"
     ]
    }
   ],
   "source": [
    "tuple1 = (3, 1, 5, 2, 4)\n",
    "sorted_tuple = tuple(sorted(tuple1)) \n",
    "print(sorted_tuple)"
   ]
  },
  {
   "cell_type": "code",
   "execution_count": null,
   "id": "f3c774b4-3553-4672-ac5d-e7e6d316a08c",
   "metadata": {},
   "outputs": [],
   "source": [
    "#28. Convert a tuple of integers to a tuple of strings."
   ]
  },
  {
   "cell_type": "code",
   "execution_count": 17,
   "id": "57770ef8-edc6-47d1-8917-b4b1a32549e9",
   "metadata": {},
   "outputs": [
    {
     "name": "stdout",
     "output_type": "stream",
     "text": [
      "('10', '20', '30', '40', '50')\n"
     ]
    }
   ],
   "source": [
    "integer_tuple = (10, 20, 30, 40, 50)\n",
    "string_tuple = tuple(str(num) for num in integer_tuple)\n",
    "print(string_tuple)"
   ]
  },
  {
   "cell_type": "code",
   "execution_count": null,
   "id": "afddbbb7-9b92-464a-b8de-6384e3493a05",
   "metadata": {},
   "outputs": [],
   "source": [
    "#29. Convert a tuple of strings to a tuple of integers."
   ]
  },
  {
   "cell_type": "code",
   "execution_count": 18,
   "id": "2dde127c-0e12-44ad-a6ef-385d2e521717",
   "metadata": {},
   "outputs": [
    {
     "name": "stdout",
     "output_type": "stream",
     "text": [
      "(10, 20, 30, 40, 50)\n"
     ]
    }
   ],
   "source": [
    "string_tuple = ('10', '20', '30', '40', '50')\n",
    "integer_tuple = tuple(int(num) for num in string_tuple)\n",
    "print(integer_tuple)"
   ]
  },
  {
   "cell_type": "code",
   "execution_count": 19,
   "id": "12543665-4f3c-43a6-8a2e-771e9efbb33e",
   "metadata": {},
   "outputs": [],
   "source": [
    "#30. Merge two tuples."
   ]
  },
  {
   "cell_type": "code",
   "execution_count": 20,
   "id": "6d074684-6745-4a77-9bd1-921b8abea1a7",
   "metadata": {},
   "outputs": [
    {
     "name": "stdout",
     "output_type": "stream",
     "text": [
      "(1, 2, 3, 4, 5, 6)\n"
     ]
    }
   ],
   "source": [
    "tuple1 = (1, 2, 3)\n",
    "tuple2 = (4, 5, 6)\n",
    "merged_tuple = tuple1 + tuple2\n",
    "print(merged_tuple)"
   ]
  },
  {
   "cell_type": "code",
   "execution_count": 21,
   "id": "df492176-7946-4c53-bf7f-c44c19a7c6d0",
   "metadata": {},
   "outputs": [],
   "source": [
    "#31. Flatten a nested tuple."
   ]
  },
  {
   "cell_type": "code",
   "execution_count": 27,
   "id": "4581ace0-515f-4aba-b7d6-77ca74abeea4",
   "metadata": {},
   "outputs": [
    {
     "name": "stdout",
     "output_type": "stream",
     "text": [
      "(1, 2, 3, 4, 5, 6)\n"
     ]
    }
   ],
   "source": [
    "def flaten_tuple(nested_tuple):\n",
    "    result = []\n",
    "    for i in nested_tuple:\n",
    "        if isinstance(i,tuple):\n",
    "            result.extend(flaten_tuple(i))\n",
    "        else:\n",
    "            result.append(i)\n",
    "    return tuple(result) \n",
    "my_nested_tuple = ((1, 2), (3, (4, 5)), 6)\n",
    "flattened_tuple = flaten_tuple(my_nested_tuple)\n",
    "\n",
    "print(flattened_tuple)"
   ]
  },
  {
   "cell_type": "code",
   "execution_count": null,
   "id": "68b024dd-94ea-491b-8c95-14fdf60b0cad",
   "metadata": {},
   "outputs": [],
   "source": [
    "#32. Create a tuple of the first 5 prime numbers."
   ]
  },
  {
   "cell_type": "code",
   "execution_count": 28,
   "id": "74b1fcf7-0e42-49bf-8139-0a2ef4525a8a",
   "metadata": {},
   "outputs": [
    {
     "name": "stdout",
     "output_type": "stream",
     "text": [
      " the first 5 prime numbers are : (2, 3, 5, 7)\n"
     ]
    }
   ],
   "source": [
    "prime_number = [i for i in range (2,10) if all (i% j !=0 for j in range (2, int(i**0.5) + 1))]\n",
    "prime_tuple = tuple(prime_number[:5])\n",
    "print(f\" the first 5 prime numbers are : {prime_tuple}\")"
   ]
  },
  {
   "cell_type": "code",
   "execution_count": null,
   "id": "cb4ea275-4261-4da2-a695-f8d5eb636980",
   "metadata": {},
   "outputs": [],
   "source": [
    "#33. Check if a tuple is a palindrome."
   ]
  },
  {
   "cell_type": "code",
   "execution_count": 5,
   "id": "b21c9550-0060-438a-941b-62065b895ef9",
   "metadata": {},
   "outputs": [
    {
     "name": "stdout",
     "output_type": "stream",
     "text": [
      "tuple1 is a palindrome.\n",
      "tuple is not a palindrome\n"
     ]
    }
   ],
   "source": [
    "def is_palindrome_tuple(input_tuple):\n",
    "    return input_tuple == input_tuple[::-1]\n",
    "tuple1 = (1, 2, 3, 4, 3, 2, 1)\n",
    "tuple2 = (9,11,13,14,15)\n",
    "result1 = is_palindrome_tuple(tuple1)\n",
    "if result1:\n",
    "    print(\"tuple1 is a palindrome.\")\n",
    "else:\n",
    "    print(\"tuple is not a palindrome\")\n",
    "result2 = is_palindrome_tuple(tuple2)\n",
    "if result2:\n",
    "    print(\"tuple2 is a palindrome\")\n",
    "else:\n",
    "    print(\"tuple is not a palindrome\")\n",
    "    "
   ]
  },
  {
   "cell_type": "code",
   "execution_count": null,
   "id": "fe2b6170-9c57-4ac1-8a26-3dda5253682b",
   "metadata": {},
   "outputs": [],
   "source": [
    "#34. Create a tuple of squares of numbers from 1 to 5."
   ]
  },
  {
   "cell_type": "code",
   "execution_count": 7,
   "id": "8d544ef7-d769-4fd6-9ceb-38bdfd72346b",
   "metadata": {},
   "outputs": [
    {
     "name": "stdout",
     "output_type": "stream",
     "text": [
      "(1, 4, 9, 16, 25)\n"
     ]
    }
   ],
   "source": [
    "square_tuple = tuple(i**2 for i in range(1,6))\n",
    "print(square_tuple)"
   ]
  },
  {
   "cell_type": "code",
   "execution_count": null,
   "id": "9961d187-d61d-4113-be7a-e848174ad71d",
   "metadata": {},
   "outputs": [],
   "source": [
    "#35. Filter out all even numbers from a tuple."
   ]
  },
  {
   "cell_type": "code",
   "execution_count": 9,
   "id": "6293483b-6724-4cdb-afa4-d8b951d2f4ce",
   "metadata": {},
   "outputs": [
    {
     "name": "stdout",
     "output_type": "stream",
     "text": [
      "(2, 4, 6, 8)\n"
     ]
    }
   ],
   "source": [
    "tuple1 = (1,2,3,4,5,6,7,8,9)\n",
    "even_tuple1 = tuple(i for i in tuple1 if i % 2 == 0)\n",
    "print(even_tuple1)"
   ]
  },
  {
   "cell_type": "code",
   "execution_count": null,
   "id": "319a9106-5923-44d7-b037-1ed7b8252e2e",
   "metadata": {},
   "outputs": [],
   "source": [
    "#36. Multiply all elements in a tuple by 2."
   ]
  },
  {
   "cell_type": "code",
   "execution_count": 12,
   "id": "20b63d2f-ccb2-4c1d-8952-a1830f907588",
   "metadata": {},
   "outputs": [
    {
     "name": "stdout",
     "output_type": "stream",
     "text": [
      "(2, 4, 6, 8, 10, 12, 14, 16, 18)\n"
     ]
    }
   ],
   "source": [
    "tuple1 = (1,2,3,4,5,6,7,8,9)\n",
    "multply_tuple1 = tuple(2 * i for i in tuple1)\n",
    "print(multply_tuple1)"
   ]
  },
  {
   "cell_type": "code",
   "execution_count": null,
   "id": "0431b56b-8875-4df7-982c-084431e59fd7",
   "metadata": {},
   "outputs": [],
   "source": [
    "#37. Create a tuple of random numbers."
   ]
  },
  {
   "cell_type": "code",
   "execution_count": 14,
   "id": "4bc23fc6-066c-459b-b682-d56bda9cd86a",
   "metadata": {},
   "outputs": [
    {
     "name": "stdout",
     "output_type": "stream",
     "text": [
      "(63, 11, 86, 83, 38)\n"
     ]
    }
   ],
   "source": [
    "import random \n",
    "random_numbers = tuple(random.randint(1,100) for _ in range(5))\n",
    "print(random_numbers)"
   ]
  },
  {
   "cell_type": "code",
   "execution_count": null,
   "id": "36ab6d69-231b-4014-b88f-838f1e186538",
   "metadata": {},
   "outputs": [],
   "source": [
    "#38. Check if a tuple is sorted."
   ]
  },
  {
   "cell_type": "code",
   "execution_count": 20,
   "id": "1b17f9ce-7e10-4ef4-923d-91519cd0d5ab",
   "metadata": {},
   "outputs": [
    {
     "name": "stdout",
     "output_type": "stream",
     "text": [
      "True\n"
     ]
    }
   ],
   "source": [
    "def is_sorted(tuple1):\n",
    "    for i in range(len(tuple1)- 1):\n",
    "        if tuple1[i] > tuple1[i+1]:\n",
    "            return False\n",
    "    return True\n",
    "tuple1 = (1,2,3,4,5,7,8,)\n",
    "print(is_sorted(tuple1))"
   ]
  },
  {
   "cell_type": "code",
   "execution_count": null,
   "id": "c04a35ca-cfb9-4927-8cf0-dce3eccd81b3",
   "metadata": {},
   "outputs": [],
   "source": [
    "#39. Rotate a tuple to the left by `n` positions."
   ]
  },
  {
   "cell_type": "code",
   "execution_count": 24,
   "id": "6021c311-1379-47aa-b0f5-1c8e8bc2eb1a",
   "metadata": {},
   "outputs": [
    {
     "name": "stdout",
     "output_type": "stream",
     "text": [
      "Original tuple: (1, 2, 3, 4, 5, 6, 7)\n",
      "Rotated tuple: (3, 4, 5, 6, 7, 1, 2)\n"
     ]
    }
   ],
   "source": [
    "def rotate_left_comp(tuple1, n):\n",
    "    n = n % len(tuple1)\n",
    "    return tuple([tuple1[(i+n) % len(tuple1)]for i in range(len(tuple1))])\n",
    "tuple1 = (1,2,3,4,5,6,7)\n",
    "rotated_tuple = rotate_left_comp(tuple1, 2)\n",
    "print(f\"Original tuple: {tuple1}\")\n",
    "print(f\"Rotated tuple: {rotated_tuple}\")"
   ]
  },
  {
   "cell_type": "code",
   "execution_count": null,
   "id": "411fff1c-a9a3-4318-9119-ad47a2ac02e1",
   "metadata": {},
   "outputs": [],
   "source": [
    "#40. Rotate a tuple to the right by `n` positions."
   ]
  },
  {
   "cell_type": "code",
   "execution_count": 28,
   "id": "578c1b22-61bc-4da8-8890-d7cd5fcf9304",
   "metadata": {},
   "outputs": [
    {
     "name": "stdout",
     "output_type": "stream",
     "text": [
      "Original tuple: (1, 2, 3, 4, 5, 6, 7)\n",
      "Rotated tuple: (6, 7, 1, 2, 3, 4, 5)\n"
     ]
    }
   ],
   "source": [
    "def rotate_right_comp(tuple1, n):\n",
    "    n = n % len(tuple1)\n",
    "    return tuple1[-n:] + tuple1[:-n]\n",
    "tuple1 = (1,2,3,4,5,6,7)\n",
    "rotated_tuple = rotate_right_comp(tuple1, 2)\n",
    "print(f\"Original tuple: {tuple1}\")\n",
    "print(f\"Rotated tuple: {rotated_tuple}\")"
   ]
  },
  {
   "cell_type": "code",
   "execution_count": null,
   "id": "b51d8b4d-e552-47c9-9323-f454f788b951",
   "metadata": {},
   "outputs": [],
   "source": [
    "#41. Create a tuple of the first 5 Fibonacci numbers."
   ]
  },
  {
   "cell_type": "code",
   "execution_count": 13,
   "id": "b7e8e804-50c6-456f-beff-94033c25c74a",
   "metadata": {},
   "outputs": [
    {
     "name": "stdout",
     "output_type": "stream",
     "text": [
      "The first 5 Fibonacci numbers: (0, 1, 1, 2, 3)\n"
     ]
    }
   ],
   "source": [
    "def fibonacci(n):\n",
    "    a, b = 0,1\n",
    "    fibonacci_list = []\n",
    "    for i in range(n):\n",
    "        fibonacci_list.append(a)\n",
    "        a, b = b, a+b\n",
    "    return fibonacci_list\n",
    "fibonacci_tuple = tuple(fibonacci(5))\n",
    "print(f\"The first 5 Fibonacci numbers: {fibonacci_tuple}\")    "
   ]
  },
  {
   "cell_type": "code",
   "execution_count": null,
   "id": "fe59b259-c64a-4024-bb81-951826c3faf1",
   "metadata": {},
   "outputs": [],
   "source": [
    "#42. Create a tuple from user input."
   ]
  },
  {
   "cell_type": "code",
   "execution_count": 14,
   "id": "46ae5700-9f81-4612-8b4d-3003d08315e5",
   "metadata": {},
   "outputs": [
    {
     "name": "stdin",
     "output_type": "stream",
     "text": [
      "Enter elements separated by commas:  I am learning data science from pwskills\n"
     ]
    },
    {
     "name": "stdout",
     "output_type": "stream",
     "text": [
      "Tuple created from user input: ('I am learning data science from pwskills',)\n"
     ]
    }
   ],
   "source": [
    "user_input = input(\"Enter elements separated by commas: \")\n",
    "user_tuple = tuple(user_input.split(','))\n",
    "print(f\"Tuple created from user input: {user_tuple}\")"
   ]
  },
  {
   "cell_type": "code",
   "execution_count": null,
   "id": "f9c15203-7467-4c0f-a411-a16e297ee5f4",
   "metadata": {},
   "outputs": [],
   "source": [
    "#43. Swap two elements in a tuple."
   ]
  },
  {
   "cell_type": "code",
   "execution_count": 18,
   "id": "62debbf0-3d2b-490d-a280-2ad8326761d5",
   "metadata": {},
   "outputs": [
    {
     "name": "stdout",
     "output_type": "stream",
     "text": [
      "(1, 5, 3, 4, 2, 6, 7, 8, 9)\n"
     ]
    }
   ],
   "source": [
    "tuple1 = (1,2,3,4,5,6,7,8,9)\n",
    "index1, index2 = 1, 4\n",
    "temp_list = list(tuple1) \n",
    "temp_list[index1], temp_list[index2] = temp_list[index2], temp_list[index1]\n",
    "swapped_tuple = tuple(temp_list)\n",
    "print(swapped_tuple)"
   ]
  },
  {
   "cell_type": "code",
   "execution_count": null,
   "id": "3e0dab43-4275-42de-ba85-f7d0872c8e39",
   "metadata": {},
   "outputs": [],
   "source": [
    "#44. Reverse the elements of a tuple."
   ]
  },
  {
   "cell_type": "code",
   "execution_count": 19,
   "id": "c7dd598e-700c-4dbd-bbf1-907bf6929525",
   "metadata": {},
   "outputs": [
    {
     "name": "stdout",
     "output_type": "stream",
     "text": [
      "(5, 4, 3, 2, 1)\n"
     ]
    }
   ],
   "source": [
    "tuple1 = (1, 2, 3, 4, 5)\n",
    "reversed_tuple = tuple1[::-1]\n",
    "print(reversed_tuple)"
   ]
  },
  {
   "cell_type": "code",
   "execution_count": null,
   "id": "44c6183a-a1f9-4b5e-95d5-ade3ab5ea16e",
   "metadata": {},
   "outputs": [],
   "source": [
    "#45. Create a tuple of the first `n` powers of 2."
   ]
  },
  {
   "cell_type": "code",
   "execution_count": 22,
   "id": "3294e88a-0ebb-4692-826c-01a84e162615",
   "metadata": {},
   "outputs": [
    {
     "name": "stdout",
     "output_type": "stream",
     "text": [
      "(1, 2, 4, 8, 16, 32, 64, 128, 256, 512)\n"
     ]
    }
   ],
   "source": [
    "def power_of_2(n):\n",
    "    return tuple(2**i for i in range(n))\n",
    "n = 10\n",
    "print(power_of_2(n))"
   ]
  },
  {
   "cell_type": "code",
   "execution_count": null,
   "id": "768a5981-7481-455d-9df3-19fb5905878a",
   "metadata": {},
   "outputs": [],
   "source": [
    "#46. Find the longest string in a tuple of strings."
   ]
  },
  {
   "cell_type": "code",
   "execution_count": 23,
   "id": "842439a3-45b6-4c09-aa4b-35d8ba0302e2",
   "metadata": {},
   "outputs": [
    {
     "name": "stdout",
     "output_type": "stream",
     "text": [
      "watermelon\n"
     ]
    }
   ],
   "source": [
    "def longest_string(tuple1):\n",
    "    longest_string1 = \"\"\n",
    "    for i in tuple1:\n",
    "        if len(i) > len (longest_string1):\n",
    "            longest_string1 = i\n",
    "    return longest_string1\n",
    "tuple1 = (\"apple\", \"banana\", \"watermelon\", \"mango\", \"pineapple\")\n",
    "longest_string1 = longest_string(tuple1)\n",
    "print(longest_string1)"
   ]
  },
  {
   "cell_type": "code",
   "execution_count": null,
   "id": "e7f66186-b074-4167-b871-859b787bd4ad",
   "metadata": {},
   "outputs": [],
   "source": [
    "#47. Find the shortest string in a tuple of strings."
   ]
  },
  {
   "cell_type": "code",
   "execution_count": 27,
   "id": "a5c2d661-76f9-4ae4-92fd-6d67b94056d3",
   "metadata": {},
   "outputs": [
    {
     "name": "stdout",
     "output_type": "stream",
     "text": [
      "apple\n"
     ]
    }
   ],
   "source": [
    "def shortest_string(tuple1):\n",
    "    shortest_string1 = tuple1[0]\n",
    "    for i in tuple1:\n",
    "        if len(i) < len (shortest_string1):\n",
    "            shortest_string1 = i\n",
    "    return shortest_string1\n",
    "tuple1 = (\"apple\", \"banana\", \"watermelon\", \"mango\", \"pineapple\")\n",
    "shortest_string1 = shortest_string(tuple1)\n",
    "print(shortest_string1)"
   ]
  },
  {
   "cell_type": "code",
   "execution_count": null,
   "id": "dc33e0fa-ef32-41ea-bd0e-6c3322ced0ac",
   "metadata": {},
   "outputs": [],
   "source": [
    "#48. Create a tuple of the first `n` triangular numbers."
   ]
  },
  {
   "cell_type": "code",
   "execution_count": 31,
   "id": "55f1ee31-7c25-4f9d-956b-b47ddbacd489",
   "metadata": {},
   "outputs": [
    {
     "name": "stdout",
     "output_type": "stream",
     "text": [
      "(1, 3, 6, 10, 15, 21, 28, 36, 45, 55)\n"
     ]
    }
   ],
   "source": [
    "def trinagular_number_tuple(n):\n",
    "    triangular_number = tuple()\n",
    "    for i in range(1, n+1):\n",
    "        triangular_number +=((i*(i+1))//2,)\n",
    "    return triangular_number\n",
    "n = 10\n",
    "triangular_number = trinagular_number_tuple(n)\n",
    "print(triangular_number)"
   ]
  },
  {
   "cell_type": "code",
   "execution_count": null,
   "id": "6cb9fe85-7328-47be-9f1a-23938383da76",
   "metadata": {},
   "outputs": [],
   "source": [
    "#49. Check if a tuple contains another tuple as a subsequence."
   ]
  },
  {
   "cell_type": "code",
   "execution_count": 37,
   "id": "9a026864-dc65-4352-9c21-6bbd66df4d0c",
   "metadata": {},
   "outputs": [
    {
     "name": "stdout",
     "output_type": "stream",
     "text": [
      "True\n"
     ]
    }
   ],
   "source": [
    "def is_subsequence_indices(main_tuple, sub_tuple):\n",
    "    i = 0  \n",
    "    for j in range(len(main_tuple)):\n",
    "        if main_tuple[j] == sub_tuple[i]:\n",
    "            i += 1\n",
    "            if i == len(sub_tuple):\n",
    "                return True\n",
    "    return False\n",
    "main_tuple = (4, 1, 2, 3, 5)\n",
    "sub_tuple1 = (1, 2, 3)\n",
    "result = is_subsequence_indices(main_tuple, sub_tuple1)\n",
    "print(result)"
   ]
  },
  {
   "cell_type": "code",
   "execution_count": null,
   "id": "e776e272-388b-472f-9f1b-04ef1f3c12a1",
   "metadata": {},
   "outputs": [],
   "source": [
    "#50. Create a tuple of alternating 1s and 0s of length `n`."
   ]
  },
  {
   "cell_type": "code",
   "execution_count": 38,
   "id": "61ffa9dd-e8c2-435d-8133-9c0bc5e9ee3d",
   "metadata": {},
   "outputs": [
    {
     "name": "stdout",
     "output_type": "stream",
     "text": [
      "Tuple of alternating 1s and 0s of length 5: (0, 1, 0, 1, 0)\n"
     ]
    }
   ],
   "source": [
    "def alternating_tuple(n):\n",
    "    return tuple(1 if i % 2 else 0 for i in range(n))\n",
    "n = 5\n",
    "alternating_tuple1 = alternating_tuple(n)\n",
    "print(f\"Tuple of alternating 1s and 0s of length {n}: {alternating_tuple1}\")  "
   ]
  },
  {
   "cell_type": "code",
   "execution_count": null,
   "id": "f315ccc0-a9ca-4c28-acb5-03b5d8b376a1",
   "metadata": {},
   "outputs": [],
   "source": [
    "#Set Based Practice Problem :\n",
    "#1. Create a set with integers from 1 to 5."
   ]
  },
  {
   "cell_type": "code",
   "execution_count": 39,
   "id": "99c65a20-02e6-4752-86d1-6af2724c3a86",
   "metadata": {},
   "outputs": [
    {
     "name": "stdout",
     "output_type": "stream",
     "text": [
      "{1, 2, 3, 4, 5}\n"
     ]
    }
   ],
   "source": [
    "my_set = set(range(1, 6))\n",
    "print(my_set)"
   ]
  },
  {
   "cell_type": "code",
   "execution_count": null,
   "id": "00bc053f-45a7-400e-ba2f-cbf211674ef8",
   "metadata": {},
   "outputs": [],
   "source": [
    "#2. Add an element to a set."
   ]
  },
  {
   "cell_type": "code",
   "execution_count": 42,
   "id": "f1b281f9-a918-4756-bfe0-48b804a5d426",
   "metadata": {},
   "outputs": [
    {
     "name": "stdout",
     "output_type": "stream",
     "text": [
      "{1, 2, 3, 4}\n"
     ]
    }
   ],
   "source": [
    "set1 = {1, 2, 3}\n",
    "set1.add(4)  \n",
    "print(set1)"
   ]
  },
  {
   "cell_type": "code",
   "execution_count": null,
   "id": "dc15b70f-d2b3-4eae-87ff-ac094a4390ed",
   "metadata": {},
   "outputs": [],
   "source": [
    "#3. Remove an element from a set."
   ]
  },
  {
   "cell_type": "code",
   "execution_count": 44,
   "id": "825d9ea0-c766-4f28-b7b2-ffacdcbd2bde",
   "metadata": {},
   "outputs": [
    {
     "name": "stdout",
     "output_type": "stream",
     "text": [
      "{1, 2, 3}\n"
     ]
    }
   ],
   "source": [
    "set1 = {1, 2, 3, 4 }\n",
    "set1.remove(4)  \n",
    "print(set1)"
   ]
  },
  {
   "cell_type": "code",
   "execution_count": null,
   "id": "c366a10e-7d5b-49ec-add6-f189feefba0f",
   "metadata": {},
   "outputs": [],
   "source": [
    "#4. Check if an element exists in a set."
   ]
  },
  {
   "cell_type": "code",
   "execution_count": 45,
   "id": "e0865a8f-a90f-4e92-a0b9-95841a4cbbad",
   "metadata": {},
   "outputs": [
    {
     "name": "stdout",
     "output_type": "stream",
     "text": [
      "Element exists in the set\n"
     ]
    }
   ],
   "source": [
    "set1 = {1, 2, 3}\n",
    "element_to_check = 2\n",
    "\n",
    "if element_to_check in set1:\n",
    "    print(\"Element exists in the set\")\n",
    "else:\n",
    "    print(\"Element does not exist in the set\")"
   ]
  },
  {
   "cell_type": "code",
   "execution_count": null,
   "id": "19c4bd01-a33c-4e95-b382-40883d33f881",
   "metadata": {},
   "outputs": [],
   "source": [
    "#5. Find the length of a set without using the `len()` function."
   ]
  },
  {
   "cell_type": "code",
   "execution_count": 1,
   "id": "2ba82db5-91c9-4c7c-8239-c79561c57503",
   "metadata": {},
   "outputs": [
    {
     "name": "stdout",
     "output_type": "stream",
     "text": [
      "Set length: 3\n"
     ]
    }
   ],
   "source": [
    "my_set = {1, 2, 3}\n",
    "count = 0\n",
    "for i in my_set:\n",
    "    count += 1\n",
    "print(\"Set length:\", count)"
   ]
  },
  {
   "cell_type": "code",
   "execution_count": null,
   "id": "06800f20-6246-4486-9f3c-5d2d99f0d786",
   "metadata": {},
   "outputs": [],
   "source": [
    "#6. Clear all elements from a set."
   ]
  },
  {
   "cell_type": "code",
   "execution_count": 2,
   "id": "074ab7d0-bbf7-43c8-b7f5-686cc1780e78",
   "metadata": {},
   "outputs": [
    {
     "name": "stdout",
     "output_type": "stream",
     "text": [
      "set()\n"
     ]
    }
   ],
   "source": [
    "set1 = {1,2,3}\n",
    "set1.clear()\n",
    "print(set1)"
   ]
  },
  {
   "cell_type": "code",
   "execution_count": null,
   "id": "4f99ef24-fec4-44a5-9dd4-4d7af4dfdc58",
   "metadata": {},
   "outputs": [],
   "source": [
    "#7. Create a set of even numbers from 1 to 10."
   ]
  },
  {
   "cell_type": "code",
   "execution_count": 3,
   "id": "c83bbc9d-a2d0-4291-9932-f108d1e2a9a7",
   "metadata": {},
   "outputs": [
    {
     "name": "stdout",
     "output_type": "stream",
     "text": [
      "{2, 4, 6, 8, 10}\n"
     ]
    }
   ],
   "source": [
    "even_numbers = {i for i in range(1, 11) if i % 2 == 0}\n",
    "print(even_numbers)"
   ]
  },
  {
   "cell_type": "code",
   "execution_count": null,
   "id": "1eeaa7b5-674a-479f-ac72-f1e8f380fedd",
   "metadata": {},
   "outputs": [],
   "source": [
    "#8. Create a set of odd numbers from 1 to 10."
   ]
  },
  {
   "cell_type": "code",
   "execution_count": 4,
   "id": "2638e7e3-1aaf-406c-bb6a-04ca6fe26b40",
   "metadata": {},
   "outputs": [
    {
     "name": "stdout",
     "output_type": "stream",
     "text": [
      "{1, 3, 5, 7, 9}\n"
     ]
    }
   ],
   "source": [
    "odd_numbers = {i for i in range(1, 11) if i % 2 != 0}\n",
    "print(odd_numbers)"
   ]
  },
  {
   "cell_type": "code",
   "execution_count": null,
   "id": "92217ed6-ed46-46c3-8835-ca4b3e26e8a6",
   "metadata": {},
   "outputs": [],
   "source": [
    "#9. Find the union of two sets."
   ]
  },
  {
   "cell_type": "code",
   "execution_count": 5,
   "id": "994c7a15-bef2-4d2f-89d5-3210df67c3de",
   "metadata": {},
   "outputs": [
    {
     "name": "stdout",
     "output_type": "stream",
     "text": [
      "{1, 2, 3, 4}\n"
     ]
    }
   ],
   "source": [
    "set1 = {1, 2, 3}\n",
    "set2 = {2, 3, 4}\n",
    "union_set = set1.union(set2)  \n",
    "print(union_set)"
   ]
  },
  {
   "cell_type": "code",
   "execution_count": 6,
   "id": "fac9c831-a9a3-414f-ab5a-d8b4bc5ab14f",
   "metadata": {},
   "outputs": [],
   "source": [
    "#10. Find the intersection of two sets."
   ]
  },
  {
   "cell_type": "code",
   "execution_count": 9,
   "id": "a27d6932-3f25-48b7-9fbc-97403a73238d",
   "metadata": {},
   "outputs": [
    {
     "name": "stdout",
     "output_type": "stream",
     "text": [
      "{2, 3}\n"
     ]
    }
   ],
   "source": [
    "set1 = {1, 2, 3}\n",
    "set2 = {2, 3, 4}\n",
    "intersection_set = set1.intersection(set2)\n",
    "print(intersection_set)  \n"
   ]
  },
  {
   "cell_type": "code",
   "execution_count": null,
   "id": "84e6b792-ce7c-4fb0-97ea-a64981bace55",
   "metadata": {},
   "outputs": [],
   "source": [
    "#11. Find the difference between two sets."
   ]
  },
  {
   "cell_type": "code",
   "execution_count": 10,
   "id": "123e7f02-f2cb-4437-9c90-f7a6c71ace4f",
   "metadata": {},
   "outputs": [
    {
     "name": "stdout",
     "output_type": "stream",
     "text": [
      "{1}\n",
      "{4}\n"
     ]
    }
   ],
   "source": [
    "set1 = {1, 2, 3}\n",
    "set2 = {2, 3, 4}\n",
    "difference_set1 = set1.difference(set2)\n",
    "print(difference_set1)\n",
    "difference_set2 = set2.difference(set1)\n",
    "print(difference_set2)  \n"
   ]
  },
  {
   "cell_type": "code",
   "execution_count": null,
   "id": "02f79a21-7023-408a-9c84-4e6a71554753",
   "metadata": {},
   "outputs": [],
   "source": [
    "#12. Check if a set is a subset of another set."
   ]
  },
  {
   "cell_type": "code",
   "execution_count": 11,
   "id": "8c19a8e8-9509-48b8-99a1-8dced22f237b",
   "metadata": {},
   "outputs": [
    {
     "name": "stdout",
     "output_type": "stream",
     "text": [
      "True\n"
     ]
    }
   ],
   "source": [
    "set1 = {1, 2, 3}\n",
    "set2 = {2, 3}\n",
    "is_subset = set2.issubset(set1) \n",
    "print(is_subset) "
   ]
  },
  {
   "cell_type": "code",
   "execution_count": null,
   "id": "cdc55442-a828-4cf0-8ca5-5ecf55787857",
   "metadata": {},
   "outputs": [],
   "source": [
    "#13. Check if a set is a superset of another set."
   ]
  },
  {
   "cell_type": "code",
   "execution_count": 12,
   "id": "a09b37f7-617d-4d07-8d63-738a750bd554",
   "metadata": {},
   "outputs": [
    {
     "name": "stdout",
     "output_type": "stream",
     "text": [
      "True\n"
     ]
    }
   ],
   "source": [
    "set1 = {1,2,3,4,5}\n",
    "set2 = {2,3,4}\n",
    "is_superset = set1.issuperset(set2)  \n",
    "print(is_superset)"
   ]
  },
  {
   "cell_type": "code",
   "execution_count": null,
   "id": "4e11bee3-0d88-4540-a6bf-b175ce8e03f1",
   "metadata": {},
   "outputs": [],
   "source": [
    "#14. Create a set from a list."
   ]
  },
  {
   "cell_type": "code",
   "execution_count": 14,
   "id": "d59ad1b9-8bd0-4ab0-a1b7-737ddf7223d2",
   "metadata": {},
   "outputs": [
    {
     "name": "stdout",
     "output_type": "stream",
     "text": [
      "{1, 2, 3, 4}\n"
     ]
    }
   ],
   "source": [
    "list1 = [1, 2, 2, 3, 4]\n",
    "set1 = set(list1)  \n",
    "print(set1)"
   ]
  },
  {
   "cell_type": "code",
   "execution_count": null,
   "id": "bed72b67-6b31-46d7-80cc-2068217c3f90",
   "metadata": {},
   "outputs": [],
   "source": [
    "#15. Convert a set to a list."
   ]
  },
  {
   "cell_type": "code",
   "execution_count": 15,
   "id": "d0fffa4c-374b-48fd-affe-99fa7c2f3e2a",
   "metadata": {},
   "outputs": [
    {
     "name": "stdout",
     "output_type": "stream",
     "text": [
      "[1, 2, 3, 4]\n"
     ]
    }
   ],
   "source": [
    "set1 = {1, 2, 3, 4}\n",
    "list1 = list(set1)\n",
    "print(list1)"
   ]
  },
  {
   "cell_type": "code",
   "execution_count": null,
   "id": "be636d38-63fe-47a2-9bf3-0868533da50e",
   "metadata": {},
   "outputs": [],
   "source": [
    "#16. Remove a random element from a set."
   ]
  },
  {
   "cell_type": "code",
   "execution_count": 17,
   "id": "5aae1af2-f061-46f2-ab44-21172a853f5f",
   "metadata": {},
   "outputs": [
    {
     "name": "stdout",
     "output_type": "stream",
     "text": [
      "Removed element: 1\n",
      "Set after removal: {2, 3, 4, 5}\n"
     ]
    }
   ],
   "source": [
    "import random\n",
    "set1 = {1, 2, 3, 4, 5}\n",
    "if set1:\n",
    "    random_element = set1.pop()\n",
    "    print(f\"Removed element: {random_element}\")\n",
    "    print(f\"Set after removal: {set1}\")\n",
    "else:\n",
    "    print(\"Set is empty, cannot remove.\")"
   ]
  },
  {
   "cell_type": "code",
   "execution_count": null,
   "id": "48901986-915e-4302-b3b8-23b35952c21d",
   "metadata": {},
   "outputs": [],
   "source": [
    "#17. Pop an element from a set."
   ]
  },
  {
   "cell_type": "code",
   "execution_count": 18,
   "id": "cb25ce83-718f-45ab-9839-cc49bdf56c27",
   "metadata": {},
   "outputs": [
    {
     "name": "stdout",
     "output_type": "stream",
     "text": [
      "{2, 3, 4}\n",
      "1\n"
     ]
    }
   ],
   "source": [
    "set1 = {1, 2, 3, 4}\n",
    "removed_element = set1.pop()\n",
    "print(set1) \n",
    "print(removed_element)  "
   ]
  },
  {
   "cell_type": "code",
   "execution_count": null,
   "id": "08ff4704-e176-4407-b3bd-a5efaf007dae",
   "metadata": {},
   "outputs": [],
   "source": [
    "#18. Check if two sets have no elements in common."
   ]
  },
  {
   "cell_type": "code",
   "execution_count": 20,
   "id": "e3eed915-3c4f-4fdd-bc68-8f71b53f22d5",
   "metadata": {},
   "outputs": [
    {
     "name": "stdout",
     "output_type": "stream",
     "text": [
      "True\n"
     ]
    }
   ],
   "source": [
    "set1 = {1, 2, 3}\n",
    "set2 = {4, 5, 6,}\n",
    "are_disjoint = set1.isdisjoint(set2)  \n",
    "print(are_disjoint)  \n"
   ]
  },
  {
   "cell_type": "code",
   "execution_count": null,
   "id": "27cfb53e-5dc1-4d5f-b649-6f8f6c771ddc",
   "metadata": {},
   "outputs": [],
   "source": [
    "#19. Find the symmetric difference between two sets."
   ]
  },
  {
   "cell_type": "code",
   "execution_count": 21,
   "id": "f18318ba-6ac0-4af3-a5ae-267971843007",
   "metadata": {},
   "outputs": [
    {
     "name": "stdout",
     "output_type": "stream",
     "text": [
      "{1, 2, 5, 6}\n"
     ]
    }
   ],
   "source": [
    "set1 = {1, 2, 3, 4}\n",
    "set2 = {3, 4, 5, 6}\n",
    "symmetric_difference_set = set1.symmetric_difference(set2)  \n",
    "print(symmetric_difference_set) "
   ]
  },
  {
   "cell_type": "code",
   "execution_count": null,
   "id": "ee72ab69-e4f0-4ac7-b483-def547c6804e",
   "metadata": {},
   "outputs": [],
   "source": [
    "#20. Update a set with elements from another set."
   ]
  },
  {
   "cell_type": "code",
   "execution_count": 1,
   "id": "71d22aa5-c30d-4463-a834-1634baeef05b",
   "metadata": {},
   "outputs": [
    {
     "name": "stdout",
     "output_type": "stream",
     "text": [
      "{1, 2, 3, 4, 5}\n"
     ]
    }
   ],
   "source": [
    "set1 = {1, 2, 3}\n",
    "set2 = {4, 5}\n",
    "set1.update(set2) \n",
    "print(set1)"
   ]
  },
  {
   "cell_type": "code",
   "execution_count": null,
   "id": "2d342b98-30bb-4133-bf02-23733fc8dfb0",
   "metadata": {},
   "outputs": [],
   "source": [
    "#21. Create a set of the first 5 prime numbers."
   ]
  },
  {
   "cell_type": "code",
   "execution_count": 6,
   "id": "440b7bca-4f11-47b5-853e-526325b55b21",
   "metadata": {},
   "outputs": [
    {
     "name": "stdout",
     "output_type": "stream",
     "text": [
      "{2, 3, 5, 7, 11}\n"
     ]
    }
   ],
   "source": [
    "primes = set()\n",
    "for i in range(2, 12):\n",
    "    is_prime = True\n",
    "    for j in range(2, int(i**0.5) + 1):\n",
    "        if i % j == 0:\n",
    "            is_prime = False\n",
    "            break\n",
    "    if is_prime:\n",
    "        primes.add(i)\n",
    "print(primes)  "
   ]
  },
  {
   "cell_type": "code",
   "execution_count": null,
   "id": "fcfa453f-16bb-43ce-927e-9b2f27d9f474",
   "metadata": {},
   "outputs": [],
   "source": [
    "#22. Check if two sets are identical."
   ]
  },
  {
   "cell_type": "code",
   "execution_count": 7,
   "id": "2cf4b7c7-98b7-4b5c-ac9a-2620e39202e8",
   "metadata": {},
   "outputs": [
    {
     "name": "stdout",
     "output_type": "stream",
     "text": [
      "True\n"
     ]
    }
   ],
   "source": [
    "set1 = {1, 2, 3}\n",
    "set2 = {1, 2, 3}\n",
    "are_identical = set1 == set2\n",
    "print(are_identical)"
   ]
  },
  {
   "cell_type": "code",
   "execution_count": null,
   "id": "a20a4779-970b-49df-91db-c6d09da38d19",
   "metadata": {},
   "outputs": [],
   "source": [
    "#23. Create a frozen set."
   ]
  },
  {
   "cell_type": "code",
   "execution_count": 8,
   "id": "7831e8ab-6a3f-4585-92b2-429f865b6948",
   "metadata": {},
   "outputs": [
    {
     "name": "stdout",
     "output_type": "stream",
     "text": [
      "frozenset({1, 2, 3})\n"
     ]
    }
   ],
   "source": [
    "set1s = (1, 2, 3, 4)\n",
    "frozen_set = frozenset(set1)\n",
    "print(frozen_set)  \n"
   ]
  },
  {
   "cell_type": "code",
   "execution_count": null,
   "id": "ecc93436-c76c-4747-a7cb-9155dbd8f9ff",
   "metadata": {},
   "outputs": [],
   "source": [
    "#24. Check if a set is disjoint with another set."
   ]
  },
  {
   "cell_type": "code",
   "execution_count": 9,
   "id": "afa04b89-526f-4280-bfa1-9899f3a5d8b6",
   "metadata": {},
   "outputs": [
    {
     "name": "stdout",
     "output_type": "stream",
     "text": [
      "True\n"
     ]
    }
   ],
   "source": [
    "set1 = {1, 2, 3}\n",
    "set2 = {4, 5, 6}\n",
    "are_disjoint = set1.isdisjoint(set2)\n",
    "print(are_disjoint)  "
   ]
  },
  {
   "cell_type": "code",
   "execution_count": null,
   "id": "e35a52cd-b6eb-4bf1-a8c3-bb7dc4e65393",
   "metadata": {},
   "outputs": [],
   "source": [
    "#25. Create a set of squares of numbers from 1 to 5."
   ]
  },
  {
   "cell_type": "code",
   "execution_count": 11,
   "id": "498c0434-bca7-4e35-ba55-faa5d5b5107a",
   "metadata": {},
   "outputs": [
    {
     "name": "stdout",
     "output_type": "stream",
     "text": [
      "{1, 4, 9, 16, 25}\n"
     ]
    }
   ],
   "source": [
    "numbers = range(1, 6)  \n",
    "squares = {i**2 for i in numbers}\n",
    "print(squares)"
   ]
  },
  {
   "cell_type": "code",
   "execution_count": null,
   "id": "ae9cffef-aba0-4c2c-b4d3-8a4eae037c61",
   "metadata": {},
   "outputs": [],
   "source": [
    "#26. Filter out all even numbers from a set."
   ]
  },
  {
   "cell_type": "code",
   "execution_count": 12,
   "id": "06dc9e6f-c58c-43d9-bce0-3643815d85a2",
   "metadata": {},
   "outputs": [
    {
     "name": "stdout",
     "output_type": "stream",
     "text": [
      "{2, 4, 6}\n"
     ]
    }
   ],
   "source": [
    "set1 = {1, 2, 3, 4, 5, 6}\n",
    "even_set = {i for i in set1 if i % 2 == 0}  \n",
    "print(even_set)  \n"
   ]
  },
  {
   "cell_type": "code",
   "execution_count": null,
   "id": "487dd15c-48e9-4b57-97d1-60cd3a4a9fcc",
   "metadata": {},
   "outputs": [],
   "source": [
    "#27. Multiply all elements in a set by 2."
   ]
  },
  {
   "cell_type": "code",
   "execution_count": 16,
   "id": "8ac99c07-45c2-4069-b332-9c9046329786",
   "metadata": {},
   "outputs": [
    {
     "name": "stdout",
     "output_type": "stream",
     "text": [
      "{8, 4, 22, 6}\n"
     ]
    }
   ],
   "source": [
    "set1 = {11, 2, 3, 4}\n",
    "doubled_set = {i * 2 for i in set1} \n",
    "print(doubled_set) "
   ]
  },
  {
   "cell_type": "code",
   "execution_count": null,
   "id": "cccdbee8-3cd3-4e43-bf0c-113b9b02b94a",
   "metadata": {},
   "outputs": [],
   "source": [
    "#28. Create a set of random numbers."
   ]
  },
  {
   "cell_type": "code",
   "execution_count": 20,
   "id": "4a6e814c-774f-4443-8dcc-9a28a5371dfd",
   "metadata": {},
   "outputs": [
    {
     "name": "stdout",
     "output_type": "stream",
     "text": [
      "{1, 2, 6, 8, 10}\n"
     ]
    }
   ],
   "source": [
    "import random\n",
    "num_numbers = 5\n",
    "num_range = range(1, 11)  \n",
    "random_set = set(random.sample(num_range, num_numbers))\n",
    "print(random_set)"
   ]
  },
  {
   "cell_type": "code",
   "execution_count": 18,
   "id": "685f3d59-9772-4e0e-98fc-1196475d4bf7",
   "metadata": {},
   "outputs": [
    {
     "name": "stdout",
     "output_type": "stream",
     "text": [
      "{1, 4, 7, 9, 10}\n"
     ]
    }
   ],
   "source": [
    "import random\n",
    "\n",
    "num_numbers = 5\n",
    "num_range = range(1, 11)  # Using range() to specify the range of numbers from 1 to 10\n",
    "random_set = set(random.sample(num_range, num_numbers))\n",
    "print(random_set)"
   ]
  },
  {
   "cell_type": "code",
   "execution_count": null,
   "id": "a8fb91c8-a2f2-475a-83d8-cb91af890d52",
   "metadata": {},
   "outputs": [],
   "source": [
    "#29. Check if a set is empty."
   ]
  },
  {
   "cell_type": "code",
   "execution_count": 22,
   "id": "0794aff6-8aa3-4edb-ba06-e71d138e67e4",
   "metadata": {},
   "outputs": [
    {
     "name": "stdout",
     "output_type": "stream",
     "text": [
      "True\n"
     ]
    }
   ],
   "source": [
    "my_set = {} \n",
    "is_empty = not my_set\n",
    "print(is_empty) "
   ]
  },
  {
   "cell_type": "code",
   "execution_count": null,
   "id": "cc21427a-9b34-4866-877b-a79d42612efb",
   "metadata": {},
   "outputs": [],
   "source": [
    "#30. Create a nested set (hint: use frozenset)."
   ]
  },
  {
   "cell_type": "code",
   "execution_count": 23,
   "id": "6755b769-8f24-45dd-a019-3deeb3be5b96",
   "metadata": {},
   "outputs": [
    {
     "name": "stdout",
     "output_type": "stream",
     "text": [
      "{frozenset({3, 4}), frozenset({1, 2})}\n"
     ]
    }
   ],
   "source": [
    "nested_set = {frozenset({1, 2}), frozenset({3, 4})}\n",
    "print(nested_set)"
   ]
  },
  {
   "cell_type": "code",
   "execution_count": null,
   "id": "63c5f5e3-0651-4e2b-8035-28f04c77b02a",
   "metadata": {},
   "outputs": [],
   "source": [
    "#31. Remove an element from a set using the discard method."
   ]
  },
  {
   "cell_type": "code",
   "execution_count": 25,
   "id": "2f613899-9d3b-45c1-ac5f-a29198bde0c3",
   "metadata": {},
   "outputs": [
    {
     "name": "stdout",
     "output_type": "stream",
     "text": [
      "{1, 3, 4}\n"
     ]
    }
   ],
   "source": [
    "my_set = {1, 2, 3, 4}\n",
    "my_set.discard(2)\n",
    "print(my_set)  "
   ]
  },
  {
   "cell_type": "code",
   "execution_count": null,
   "id": "3645713e-54fc-4c30-9b5d-04e07d884469",
   "metadata": {},
   "outputs": [],
   "source": [
    "#32. Compare two sets."
   ]
  },
  {
   "cell_type": "code",
   "execution_count": 26,
   "id": "4a6862ad-212a-4b06-b75f-825b8047abe5",
   "metadata": {},
   "outputs": [
    {
     "name": "stdout",
     "output_type": "stream",
     "text": [
      "Set 1: {1, 2, 3, 4, 5}\n",
      "Set 2: {4, 5, 6, 7, 8}\n",
      "Is set1 a subset of set2? False\n",
      "Is set2 a subset of set1? False\n",
      "Intersection: {4, 5}\n",
      "Union: {1, 2, 3, 4, 5, 6, 7, 8}\n",
      "Elements in set1 but not in set2: {1, 2, 3}\n",
      "Elements in set2 but not in set1: {8, 6, 7}\n"
     ]
    }
   ],
   "source": [
    "set1 = {1, 2, 3, 4, 5}\n",
    "set2 = {4, 5, 6, 7, 8}\n",
    "is_subset = set1.issubset(set2)\n",
    "is_superset = set1.issuperset(set2)\n",
    "intersection = set1.intersection(set2)\n",
    "union = set1.union(set2)\n",
    "difference1 = set1.difference(set2)\n",
    "difference2 = set2.difference(set1)\n",
    "print(\"Set 1:\", set1)\n",
    "print(\"Set 2:\", set2)\n",
    "print(\"Is set1 a subset of set2?\", is_subset)\n",
    "print(\"Is set2 a subset of set1?\", is_superset)\n",
    "print(\"Intersection:\", intersection)\n",
    "print(\"Union:\", union)\n",
    "print(\"Elements in set1 but not in set2:\", difference1)\n",
    "print(\"Elements in set2 but not in set1:\", difference2)"
   ]
  },
  {
   "cell_type": "code",
   "execution_count": null,
   "id": "57c6dd4c-48ae-4f00-be62-995c29f51efe",
   "metadata": {},
   "outputs": [],
   "source": [
    "#33. Create a set from a string."
   ]
  },
  {
   "cell_type": "code",
   "execution_count": 28,
   "id": "7e1b8d34-d0e7-45a2-aeaf-f215a2a2aee0",
   "metadata": {},
   "outputs": [
    {
     "name": "stdout",
     "output_type": "stream",
     "text": [
      "{'s', 'h', 't', 'o', 'd', 'p', '.', 'T', 'a', 'w', 'i', 'n', 'g', 'e', ' ', 'r'}\n"
     ]
    }
   ],
   "source": [
    "string1 = \"This is a string with repeated words.\"\n",
    "set1 = set(string1)\n",
    "print(set1)"
   ]
  },
  {
   "cell_type": "code",
   "execution_count": null,
   "id": "cacd7c7e-9507-47fa-9cc0-635dea4dd642",
   "metadata": {},
   "outputs": [],
   "source": [
    "#34. Convert a set of strings to a set of integers."
   ]
  },
  {
   "cell_type": "code",
   "execution_count": 29,
   "id": "abfda4f4-5528-46d5-988d-b7867ef49b33",
   "metadata": {},
   "outputs": [
    {
     "name": "stdout",
     "output_type": "stream",
     "text": [
      "{1, 2, 3, 4}\n"
     ]
    }
   ],
   "source": [
    "string_set = {\"1\", \"2\", \"3\", \"2\", \"4\"}\n",
    "integer_set = {int(i) for i in string_set}\n",
    "print(integer_set)"
   ]
  },
  {
   "cell_type": "code",
   "execution_count": null,
   "id": "67257d75-7f95-42ab-8ddd-cc74bde26228",
   "metadata": {},
   "outputs": [],
   "source": [
    "#35. Convert a set of integers to a set of strings."
   ]
  },
  {
   "cell_type": "code",
   "execution_count": 30,
   "id": "3ef9d433-2256-4594-b89d-3cc5432e95a1",
   "metadata": {},
   "outputs": [
    {
     "name": "stdout",
     "output_type": "stream",
     "text": [
      "{'2', '3', '4', '1'}\n"
     ]
    }
   ],
   "source": [
    "set1 = {1, 2, 3, 4}\n",
    "string_set = {str(i) for i in set1}\n",
    "print(string_set)"
   ]
  },
  {
   "cell_type": "code",
   "execution_count": null,
   "id": "7fd59a49-1d21-42c4-8395-dd4f72b9709e",
   "metadata": {},
   "outputs": [],
   "source": [
    "#36. Create a set from a tuple."
   ]
  },
  {
   "cell_type": "code",
   "execution_count": 33,
   "id": "d2ad0fb2-1081-405e-a4f8-f4735f90f92a",
   "metadata": {},
   "outputs": [
    {
     "name": "stdout",
     "output_type": "stream",
     "text": [
      "{1, 2, 3, 4}\n"
     ]
    }
   ],
   "source": [
    "tuple1 = (1, 2, 3, 4)\n",
    "set1 = {i for i in tuple1}\n",
    "print(set1)"
   ]
  },
  {
   "cell_type": "code",
   "execution_count": null,
   "id": "aca62482-aede-402e-940e-be236076de05",
   "metadata": {},
   "outputs": [],
   "source": [
    "#37. Convert a set to a tuple."
   ]
  },
  {
   "cell_type": "code",
   "execution_count": 35,
   "id": "d95092b6-6b3c-43cd-94b6-378080837358",
   "metadata": {},
   "outputs": [
    {
     "name": "stdout",
     "output_type": "stream",
     "text": [
      "(1, 2, 3, 4)\n"
     ]
    }
   ],
   "source": [
    "set1 = {1, 2, 3, 4}\n",
    "tuple1 = tuple(i for i in set1)\n",
    "print(tuple1)"
   ]
  },
  {
   "cell_type": "code",
   "execution_count": null,
   "id": "226cf96a-1f77-4e89-a74a-7cddfdc9b41d",
   "metadata": {},
   "outputs": [],
   "source": [
    "#38. Find the maximum value in a set."
   ]
  },
  {
   "cell_type": "code",
   "execution_count": 36,
   "id": "930cc48e-786d-4347-b624-21cd18a136a1",
   "metadata": {},
   "outputs": [
    {
     "name": "stdout",
     "output_type": "stream",
     "text": [
      "7\n"
     ]
    }
   ],
   "source": [
    "set1 = {3, 1, 7, 4, 2}\n",
    "max_value = max(set1)\n",
    "print(max_value)  "
   ]
  },
  {
   "cell_type": "code",
   "execution_count": null,
   "id": "ec5d1c7a-789f-452c-bbf9-e05268faed07",
   "metadata": {},
   "outputs": [],
   "source": [
    "#39. Find the minimum value in a set."
   ]
  },
  {
   "cell_type": "code",
   "execution_count": 37,
   "id": "3fe8b3f6-4bb5-4253-92d0-e40d54a7ae18",
   "metadata": {},
   "outputs": [
    {
     "name": "stdout",
     "output_type": "stream",
     "text": [
      "1\n"
     ]
    }
   ],
   "source": [
    "set1 = {3, 1, 7, 4, 2}\n",
    "min_value = min(set1)\n",
    "print(min_value) "
   ]
  },
  {
   "cell_type": "code",
   "execution_count": null,
   "id": "e6ecb8a0-e45b-4911-bc45-265583abdc30",
   "metadata": {},
   "outputs": [],
   "source": [
    "#40. Create a set from user input."
   ]
  },
  {
   "cell_type": "code",
   "execution_count": 38,
   "id": "bfd68f0e-c3a9-4ba8-905b-5871e2815d1f",
   "metadata": {},
   "outputs": [
    {
     "name": "stdin",
     "output_type": "stream",
     "text": [
      "Enter elements for the set, separated by spaces:  learning data science form pwskills\n"
     ]
    },
    {
     "name": "stdout",
     "output_type": "stream",
     "text": [
      "{'science', 'data', 'learning', 'form', 'pwskills'}\n"
     ]
    }
   ],
   "source": [
    "user_input = input(\"Enter elements for the set, separated by spaces: \")\n",
    "elements = user_input.split()\n",
    "set1 = set(elements)\n",
    "print(set1)"
   ]
  },
  {
   "cell_type": "code",
   "execution_count": null,
   "id": "591666ab-f00c-442d-86a0-dd6262da19a9",
   "metadata": {},
   "outputs": [],
   "source": [
    "#41. Check if the intersection of two sets is empty."
   ]
  },
  {
   "cell_type": "code",
   "execution_count": 41,
   "id": "3172fd04-550b-46f0-8bbd-73e087c354d4",
   "metadata": {},
   "outputs": [
    {
     "name": "stdout",
     "output_type": "stream",
     "text": [
      "True\n"
     ]
    }
   ],
   "source": [
    "set1 = {1, 2, 3}\n",
    "set2 = {4, 5, 6}\n",
    "are_disjoint = set1.isdisjoint(set2) \n",
    "print(are_disjoint)"
   ]
  },
  {
   "cell_type": "code",
   "execution_count": null,
   "id": "20928ec2-dd2f-430e-8df5-985d6c521389",
   "metadata": {},
   "outputs": [],
   "source": [
    "#42. Create a set of the first 5 Fibonacci numbers."
   ]
  },
  {
   "cell_type": "code",
   "execution_count": 42,
   "id": "3d98fc74-2be1-49ce-a646-b29202075daf",
   "metadata": {},
   "outputs": [
    {
     "name": "stdout",
     "output_type": "stream",
     "text": [
      "{0, 1, 2, 3}\n"
     ]
    }
   ],
   "source": [
    "fibonacci_set = set()\n",
    "a, b = 0, 1 \n",
    "for i in range(5):  \n",
    "    fibonacci_set.add(a)\n",
    "    a, b = b, a + b \n",
    "print(fibonacci_set)"
   ]
  },
  {
   "cell_type": "code",
   "execution_count": null,
   "id": "f2357e12-129c-4557-b356-1672811ba700",
   "metadata": {},
   "outputs": [],
   "source": [
    "#43. Remove duplicates from a list using sets."
   ]
  },
  {
   "cell_type": "code",
   "execution_count": 43,
   "id": "7fd5e7d3-7227-42d4-811f-493091b8531e",
   "metadata": {},
   "outputs": [
    {
     "name": "stdout",
     "output_type": "stream",
     "text": [
      "[1, 2, 3, 4]\n"
     ]
    }
   ],
   "source": [
    "list1 = [1, 2, 3, 2, 1, 4]\n",
    "unique_list = list(set(list1)) \n",
    "print(unique_list)  \n"
   ]
  },
  {
   "cell_type": "code",
   "execution_count": null,
   "id": "557739e0-60f1-481d-b946-91285284e5b0",
   "metadata": {},
   "outputs": [],
   "source": [
    "#44. Check if two sets have the same elements, regardless of their count."
   ]
  },
  {
   "cell_type": "code",
   "execution_count": 44,
   "id": "495cabb5-0ca2-4c3b-ad44-2a4230105ba0",
   "metadata": {},
   "outputs": [
    {
     "name": "stdout",
     "output_type": "stream",
     "text": [
      "False\n"
     ]
    }
   ],
   "source": [
    "set1 = {1, 2, 3, 2, 1} \n",
    "set2 = {3, 2, 1, 4}\n",
    "have_same_elements = set1 == set2  \n",
    "print(have_same_elements)"
   ]
  },
  {
   "cell_type": "code",
   "execution_count": null,
   "id": "70643bec-5231-4d75-98b1-7a1525bbf0f3",
   "metadata": {},
   "outputs": [],
   "source": [
    "#45. Create a set of the first `n` powers of 2."
   ]
  },
  {
   "cell_type": "code",
   "execution_count": 46,
   "id": "a1351cf2-a786-4372-b82d-8dee9542c590",
   "metadata": {},
   "outputs": [
    {
     "name": "stdout",
     "output_type": "stream",
     "text": [
      "{32, 1, 2, 64, 4, 8, 16}\n"
     ]
    }
   ],
   "source": [
    "n = 7  \n",
    "powers_of_2 = set()\n",
    "for i in range(n):\n",
    "    power = 2**i\n",
    "    powers_of_2.add(power)\n",
    "print(powers_of_2) "
   ]
  },
  {
   "cell_type": "code",
   "execution_count": null,
   "id": "0d33c0fd-8920-494a-be59-3757db93ec73",
   "metadata": {},
   "outputs": [],
   "source": [
    "#46. Find the common elements between a set and a list."
   ]
  },
  {
   "cell_type": "code",
   "execution_count": 49,
   "id": "4c7b71f0-6784-420b-b903-945e9cdd00c5",
   "metadata": {},
   "outputs": [
    {
     "name": "stdout",
     "output_type": "stream",
     "text": [
      "{2, 3, 6}\n"
     ]
    }
   ],
   "source": [
    "set1 = {1, 2, 3, 4, 6}\n",
    "list1 = [2, 3, 5, 6]\n",
    "common_elements = set1.intersection(list1)  \n",
    "print(common_elements) "
   ]
  },
  {
   "cell_type": "code",
   "execution_count": null,
   "id": "297f0761-ef7a-46dd-b012-528099b7c054",
   "metadata": {},
   "outputs": [],
   "source": [
    "#47. Create a set of the first `n` triangular numbers."
   ]
  },
  {
   "cell_type": "code",
   "execution_count": 52,
   "id": "557c2647-c3db-4f9f-aa47-8e2325be542f",
   "metadata": {},
   "outputs": [
    {
     "name": "stdout",
     "output_type": "stream",
     "text": [
      "{1, 3, 6, 10, 15}\n"
     ]
    }
   ],
   "source": [
    "n = 5 \n",
    "triangular_numbers = set()\n",
    "for i in range(1, n + 1):\n",
    "    triangular_number = i * (i + 1) // 2\n",
    "    triangular_numbers.add(triangular_number)\n",
    "print(triangular_numbers)"
   ]
  },
  {
   "cell_type": "code",
   "execution_count": null,
   "id": "faa183a2-5f9b-44b9-b055-b9191982c35f",
   "metadata": {},
   "outputs": [],
   "source": [
    "#48. Check if a set contains another set as a subset."
   ]
  },
  {
   "cell_type": "code",
   "execution_count": 54,
   "id": "62fe92c1-b7bd-406e-8450-d99701830e21",
   "metadata": {},
   "outputs": [
    {
     "name": "stdout",
     "output_type": "stream",
     "text": [
      "True\n"
     ]
    }
   ],
   "source": [
    "set1 = {1, 2, 3, 4}\n",
    "set2 = {2, 3}\n",
    "is_subset = set2.issubset(set1)\n",
    "print(is_subset)"
   ]
  },
  {
   "cell_type": "code",
   "execution_count": null,
   "id": "77f57984-0370-41b5-a280-f7141b98e823",
   "metadata": {},
   "outputs": [],
   "source": [
    "#49. Create a set of alternating 1s and 0s of length `n`."
   ]
  },
  {
   "cell_type": "code",
   "execution_count": 55,
   "id": "490e4f17-36d2-4988-afda-9c5c9f36e276",
   "metadata": {},
   "outputs": [
    {
     "name": "stdout",
     "output_type": "stream",
     "text": [
      "{0, 1}\n"
     ]
    }
   ],
   "source": [
    "def alternating_set(n):\n",
    "    return {i % 2 for i in range(n)}\n",
    "n = 5\n",
    "alternating_ones_zeros = alternating_set(n)\n",
    "print(alternating_ones_zeros) "
   ]
  },
  {
   "cell_type": "code",
   "execution_count": null,
   "id": "59f95748-0cf5-40e5-bdca-1c7a5540927d",
   "metadata": {},
   "outputs": [],
   "source": [
    "#50. Merge multiple sets into one."
   ]
  },
  {
   "cell_type": "code",
   "execution_count": 57,
   "id": "8b6af46b-d4a6-429b-b3c6-905df61da14c",
   "metadata": {},
   "outputs": [
    {
     "name": "stdout",
     "output_type": "stream",
     "text": [
      "{1, 2, 3, 4, 5, 6, 7}\n"
     ]
    }
   ],
   "source": [
    "set1 = {1, 2, 3}\n",
    "set2 = {3, 4, 5}\n",
    "set3 = {5, 6, 7}\n",
    "merged_set = set1 | set2 | set3  \n",
    "print(merged_set)  "
   ]
  },
  {
   "cell_type": "code",
   "execution_count": null,
   "id": "27c7a6ba-2757-4996-88a8-a81ed898bc7b",
   "metadata": {},
   "outputs": [],
   "source": []
  }
 ],
 "metadata": {
  "kernelspec": {
   "display_name": "Python 3 (ipykernel)",
   "language": "python",
   "name": "python3"
  },
  "language_info": {
   "codemirror_mode": {
    "name": "ipython",
    "version": 3
   },
   "file_extension": ".py",
   "mimetype": "text/x-python",
   "name": "python",
   "nbconvert_exporter": "python",
   "pygments_lexer": "ipython3",
   "version": "3.10.8"
  }
 },
 "nbformat": 4,
 "nbformat_minor": 5
}
