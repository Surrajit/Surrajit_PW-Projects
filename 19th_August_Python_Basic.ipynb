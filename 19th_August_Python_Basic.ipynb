{
 "cells": [
  {
   "cell_type": "code",
   "execution_count": null,
   "id": "e696367c-426b-4b51-a565-9943f9b405ec",
   "metadata": {},
   "outputs": [],
   "source": [
    "'''Declare two variables, `x` and `y`, and assign them integer values. Swap the\n",
    "values of these variables without using any temporary variable.'''"
   ]
  },
  {
   "cell_type": "code",
   "execution_count": 7,
   "id": "f689f8d1-a24f-42fe-84da-2d37937fe00b",
   "metadata": {},
   "outputs": [
    {
     "name": "stdout",
     "output_type": "stream",
     "text": [
      "20 10\n"
     ]
    }
   ],
   "source": [
    "x = 10 \n",
    "y = 20 \n",
    "x,y = y,x #swaping value of x,y\n",
    "print(x,y)"
   ]
  },
  {
   "cell_type": "code",
   "execution_count": 8,
   "id": "eed45c6c-eabe-41d3-8f7a-45ae01afd28a",
   "metadata": {},
   "outputs": [
    {
     "data": {
      "text/plain": [
       "'Create a program that calculates the area of a rectangle. Take the length and\\nwidth as inputs from the user and store them in variables. Calculate and\\ndisplay the area.'"
      ]
     },
     "execution_count": 8,
     "metadata": {},
     "output_type": "execute_result"
    }
   ],
   "source": [
    "'''Create a program that calculates the area of a rectangle. Take the length and\n",
    "width as inputs from the user and store them in variables. Calculate and\n",
    "display the area.'''"
   ]
  },
  {
   "cell_type": "code",
   "execution_count": 7,
   "id": "87c9f556-88b4-4db6-b525-f809a012e28b",
   "metadata": {},
   "outputs": [
    {
     "name": "stdin",
     "output_type": "stream",
     "text": [
      "Enter the value 23\n",
      "Enter the value 23\n"
     ]
    },
    {
     "name": "stdout",
     "output_type": "stream",
     "text": [
      "264.5\n"
     ]
    }
   ],
   "source": [
    "length = int(input('Enter the value'))\n",
    "width = int(input('Enter the value'))  \n",
    "area = 0.5 * length * width \n",
    "print(area)"
   ]
  },
  {
   "cell_type": "code",
   "execution_count": null,
   "id": "e34eb3a3-83f7-48c0-9f47-6874cb038b02",
   "metadata": {},
   "outputs": [],
   "source": [
    "'''Write a Python program that converts temperatures from Celsius to\n",
    "Fahrenheit. Take the temperature in Celsius as input, store it in a variable,\n",
    "convert it to Fahrenheit, and display the result.'''"
   ]
  },
  {
   "cell_type": "code",
   "execution_count": 6,
   "id": "2115f070-069a-4791-9bf5-ec92a81584bc",
   "metadata": {},
   "outputs": [
    {
     "name": "stdin",
     "output_type": "stream",
     "text": [
      "enter the temperature 29\n"
     ]
    },
    {
     "name": "stdout",
     "output_type": "stream",
     "text": [
      "84.2\n"
     ]
    }
   ],
   "source": [
    "temperature_celsius = int(input('enter the temperature'))\n",
    "temperature_farenheit = (temperature_celsius*1.8)+32 #Celsius to Fahrenheit formula\n",
    "print(temperature_farenheit)"
   ]
  },
  {
   "cell_type": "code",
   "execution_count": null,
   "id": "f90c55e5-e92c-4734-a84e-a16708a707cc",
   "metadata": {},
   "outputs": [],
   "source": [
    "'''String Based Questions\n",
    "Write a Python program that takes a string as input and prints the length of\n",
    "the string.'''"
   ]
  },
  {
   "cell_type": "code",
   "execution_count": 11,
   "id": "56dc6c46-4d54-4f93-97fb-e8ce9e646698",
   "metadata": {},
   "outputs": [
    {
     "name": "stdin",
     "output_type": "stream",
     "text": [
      "enter the name hello world\n"
     ]
    },
    {
     "name": "stdout",
     "output_type": "stream",
     "text": [
      "11\n"
     ]
    }
   ],
   "source": [
    "x = str(input('enter the name'))\n",
    "print(len(x))\n",
    "    "
   ]
  },
  {
   "cell_type": "code",
   "execution_count": null,
   "id": "888ffe6c-80a2-4d8c-a7aa-0fa35f29340d",
   "metadata": {},
   "outputs": [],
   "source": [
    "'''Create a program that takes a sentence from the user and counts the number\n",
    "of vowels (a, e, i, o, u) in the string.'''"
   ]
  },
  {
   "cell_type": "code",
   "execution_count": 1,
   "id": "fa0263e7-9b64-41f8-9287-9f83e9db9e59",
   "metadata": {},
   "outputs": [
    {
     "name": "stdin",
     "output_type": "stream",
     "text": [
      "enter the sentence My NAme is SURRAJIT pal\n"
     ]
    },
    {
     "name": "stdout",
     "output_type": "stream",
     "text": [
      "7\n"
     ]
    }
   ],
   "source": [
    "vowel_count = 0\n",
    "sentence = input('enter the sentence')\n",
    "for char in sentence:\n",
    "    if char in 'aeiouAEIOU':\n",
    "        vowel_count = vowel_count + 1\n",
    "print(vowel_count)"
   ]
  },
  {
   "cell_type": "code",
   "execution_count": null,
   "id": "fa4ad976-d295-4060-9c8c-49c139849f6b",
   "metadata": {},
   "outputs": [],
   "source": [
    "'''Given a string, reverse the order of characters using string slicing and print\n",
    "the reversed string.'''"
   ]
  },
  {
   "cell_type": "code",
   "execution_count": 1,
   "id": "571bb454-169f-4108-8581-a8168db2e772",
   "metadata": {},
   "outputs": [
    {
     "name": "stdout",
     "output_type": "stream",
     "text": [
      "sllikswp\n"
     ]
    }
   ],
   "source": [
    "name = 'pwskills'\n",
    "print(name[::-1])    \n",
    "    "
   ]
  },
  {
   "cell_type": "code",
   "execution_count": 6,
   "id": "adb43cc1-03e4-451e-9020-6aa1989e9643",
   "metadata": {},
   "outputs": [
    {
     "name": "stdout",
     "output_type": "stream",
     "text": [
      "sllikswp \n"
     ]
    }
   ],
   "source": [
    "name = 'pwskills'\n",
    "reverse_name = \" \"\n",
    "for char in name:\n",
    "    reverse_name = char + reverse_name\n",
    "print (reverse_name)\n",
    "    "
   ]
  },
  {
   "cell_type": "code",
   "execution_count": null,
   "id": "4d920b30-3720-43dc-8f4a-7218019ee54f",
   "metadata": {},
   "outputs": [],
   "source": [
    "'''Write a program that takes a string as input and checks if it is a palindrome\n",
    "(reads the same forwards and backwards).'''\n"
   ]
  },
  {
   "cell_type": "code",
   "execution_count": 11,
   "id": "f011b2ae-147e-42b6-b360-3a8879cea462",
   "metadata": {},
   "outputs": [
    {
     "name": "stdin",
     "output_type": "stream",
     "text": [
      "enter the name biscuit\n"
     ]
    },
    {
     "name": "stdout",
     "output_type": "stream",
     "text": [
      "tiucsib\n",
      "name is not a palidrome\n"
     ]
    }
   ],
   "source": [
    "name = str(input('enter the name'))\n",
    "pal_name = \"\"\n",
    "for char in name:\n",
    "    pal_name = char + pal_name\n",
    "print(pal_name)\n",
    "if name == pal_name:\n",
    "    print ('name is a palindrome')\n",
    "else:\n",
    "    print ('name is not a palindrome')"
   ]
  },
  {
   "cell_type": "code",
   "execution_count": null,
   "id": "3f3360fd-9229-44ce-8942-21002fb51e47",
   "metadata": {},
   "outputs": [],
   "source": [
    "'''Create a program that takes a string as input and removes all the spaces from\n",
    "it. Print the modified string without spaces.'''"
   ]
  },
  {
   "cell_type": "code",
   "execution_count": 22,
   "id": "0f3a9d8f-6ac3-4ddb-95ab-b48fc28bf46e",
   "metadata": {},
   "outputs": [
    {
     "name": "stdin",
     "output_type": "stream",
     "text": [
      "enter the name pw                  skills\n"
     ]
    },
    {
     "name": "stdout",
     "output_type": "stream",
     "text": [
      "pwskills\n"
     ]
    }
   ],
   "source": [
    "name = str(input('enter the name'))\n",
    "no_space_name = \"\"\n",
    "for char in name:\n",
    "    if char !=\" \":\n",
    "        no_space_name += char\n",
    "print(no_space_name)"
   ]
  },
  {
   "cell_type": "code",
   "execution_count": null,
   "id": "1a47fbc8-6a92-41e6-8b3d-99fb941ebbc1",
   "metadata": {},
   "outputs": [],
   "source": []
  }
 ],
 "metadata": {
  "kernelspec": {
   "display_name": "Python 3 (ipykernel)",
   "language": "python",
   "name": "python3"
  },
  "language_info": {
   "codemirror_mode": {
    "name": "ipython",
    "version": 3
   },
   "file_extension": ".py",
   "mimetype": "text/x-python",
   "name": "python",
   "nbconvert_exporter": "python",
   "pygments_lexer": "ipython3",
   "version": "3.10.8"
  }
 },
 "nbformat": 4,
 "nbformat_minor": 5
}
